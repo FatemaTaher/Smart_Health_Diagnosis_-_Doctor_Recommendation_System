{
 "cells": [
  {
   "cell_type": "markdown",
   "id": "ed18184e-83e1-4396-91e9-bb8d3ac3d1b7",
   "metadata": {},
   "source": [
    "# Phase 1: Data Preparation</h1>"
   ]
  },
  {
   "cell_type": "code",
   "execution_count": 60,
   "id": "cdbcb6fd-9981-40ce-8bd2-f8e42577e727",
   "metadata": {},
   "outputs": [
    {
     "name": "stdout",
     "output_type": "stream",
     "text": [
      "Requirement already satisfied: geopy in d:\\anaconda\\lib\\site-packages (2.4.1)\n",
      "Requirement already satisfied: geographiclib<3,>=1.52 in d:\\anaconda\\lib\\site-packages (from geopy) (2.1)\n"
     ]
    }
   ],
   "source": [
    "!pip install geopy"
   ]
  },
  {
   "cell_type": "markdown",
   "id": "51f4e73b-2c5a-4f3f-bea4-b3880ac6fded",
   "metadata": {},
   "source": [
    "## General Info"
   ]
  },
  {
   "cell_type": "code",
   "execution_count": 185,
   "id": "650ef4ad-6338-4c7b-a402-369a58eefce4",
   "metadata": {},
   "outputs": [],
   "source": [
    "import pandas as pd\n"
   ]
  },
  {
   "cell_type": "code",
   "execution_count": 186,
   "id": "c16718ff-2f9f-4337-8986-2f4ebed0773a",
   "metadata": {},
   "outputs": [],
   "source": [
    "df=pd.read_csv('Egyptian Doctors Data.csv')"
   ]
  },
  {
   "cell_type": "code",
   "execution_count": 187,
   "id": "6ec8451f-a79a-4ca8-8610-95a077fc7d62",
   "metadata": {},
   "outputs": [
    {
     "name": "stdout",
     "output_type": "stream",
     "text": [
      "<class 'pandas.core.frame.DataFrame'>\n",
      "RangeIndex: 1210 entries, 0 to 1209\n",
      "Data columns (total 10 columns):\n",
      " #   Column             Non-Null Count  Dtype  \n",
      "---  ------             --------------  -----  \n",
      " 0   Source             1210 non-null   object \n",
      " 1   web_scraper_order  1210 non-null   object \n",
      " 2   specialization     1208 non-null   object \n",
      " 3   fees               1209 non-null   object \n",
      " 4   avg_rate           1151 non-null   float64\n",
      " 5   waiting_time       1152 non-null   object \n",
      " 6   clinic_location    927 non-null    object \n",
      " 7   rate_count         1153 non-null   object \n",
      " 8   doctor_views       1208 non-null   object \n",
      " 9   pages              845 non-null    object \n",
      "dtypes: float64(1), object(9)\n",
      "memory usage: 94.7+ KB\n"
     ]
    }
   ],
   "source": [
    "df.info()"
   ]
  },
  {
   "cell_type": "code",
   "execution_count": 188,
   "id": "090b13a5-9688-457e-bd52-1fb2f48b2050",
   "metadata": {},
   "outputs": [
    {
     "data": {
      "text/html": [
       "<div>\n",
       "<style scoped>\n",
       "    .dataframe tbody tr th:only-of-type {\n",
       "        vertical-align: middle;\n",
       "    }\n",
       "\n",
       "    .dataframe tbody tr th {\n",
       "        vertical-align: top;\n",
       "    }\n",
       "\n",
       "    .dataframe thead th {\n",
       "        text-align: right;\n",
       "    }\n",
       "</style>\n",
       "<table border=\"1\" class=\"dataframe\">\n",
       "  <thead>\n",
       "    <tr style=\"text-align: right;\">\n",
       "      <th></th>\n",
       "      <th>avg_rate</th>\n",
       "    </tr>\n",
       "  </thead>\n",
       "  <tbody>\n",
       "    <tr>\n",
       "      <th>count</th>\n",
       "      <td>1151.000000</td>\n",
       "    </tr>\n",
       "    <tr>\n",
       "      <th>mean</th>\n",
       "      <td>4.758471</td>\n",
       "    </tr>\n",
       "    <tr>\n",
       "      <th>std</th>\n",
       "      <td>0.309775</td>\n",
       "    </tr>\n",
       "    <tr>\n",
       "      <th>min</th>\n",
       "      <td>4.000000</td>\n",
       "    </tr>\n",
       "    <tr>\n",
       "      <th>25%</th>\n",
       "      <td>4.500000</td>\n",
       "    </tr>\n",
       "    <tr>\n",
       "      <th>50%</th>\n",
       "      <td>5.000000</td>\n",
       "    </tr>\n",
       "    <tr>\n",
       "      <th>75%</th>\n",
       "      <td>5.000000</td>\n",
       "    </tr>\n",
       "    <tr>\n",
       "      <th>max</th>\n",
       "      <td>5.000000</td>\n",
       "    </tr>\n",
       "  </tbody>\n",
       "</table>\n",
       "</div>"
      ],
      "text/plain": [
       "          avg_rate\n",
       "count  1151.000000\n",
       "mean      4.758471\n",
       "std       0.309775\n",
       "min       4.000000\n",
       "25%       4.500000\n",
       "50%       5.000000\n",
       "75%       5.000000\n",
       "max       5.000000"
      ]
     },
     "execution_count": 188,
     "metadata": {},
     "output_type": "execute_result"
    }
   ],
   "source": [
    "df.describe()"
   ]
  },
  {
   "cell_type": "raw",
   "id": "6b602a1e-04f0-4403-b338-ff109cd839c1",
   "metadata": {},
   "source": [
    "### df.head()"
   ]
  },
  {
   "cell_type": "markdown",
   "id": "22183123-92da-4943-abf6-f502d0430cae",
   "metadata": {},
   "source": [
    "### Add Random Names<h3>"
   ]
  },
  {
   "cell_type": "markdown",
   "id": "f177d55c-2ee9-45bd-880e-dfefdaadacfa",
   "metadata": {},
   "source": [
    "### Random doctors names</h3>"
   ]
  },
  {
   "cell_type": "code",
   "execution_count": 189,
   "id": "42e9ae5a-b67a-49ec-a65b-af253f2c4c92",
   "metadata": {},
   "outputs": [
    {
     "name": "stdout",
     "output_type": "stream",
     "text": [
      "  Source web_scraper_order   specialization     fees  avg_rate  \\\n",
      "0  0 (1)    1676137334-729  Physiotherapist   65 EGP       5.0   \n",
      "1  1 (1)    1676137337-730    Dermatologist  200 EGP       4.5   \n",
      "2  2 (1)    1676137340-731      Orthopedist  250 EGP       4.5   \n",
      "3  3 (1)    1676137343-732     Gynecologist  150 EGP       NaN   \n",
      "4  4 (1)    1676137345-733    Dermatologist  200 EGP       5.0   \n",
      "\n",
      "                waiting_time clinic_location        rate_count   doctor_views  \\\n",
      "0  Waiting Time : 15 Minutes     El-Mansoura  From 16 Visitors  1,707 View(s)   \n",
      "1  Waiting Time : 35 Minutes    El-Ibrahimia  From 68 Visitors  8,188 View(s)   \n",
      "2  Waiting Time : 31 Minutes  6th of October  From 29 Visitors  1,745 View(s)   \n",
      "3                        NaN        El-Haram               NaN  1,155 View(s)   \n",
      "4  Waiting Time : 20 Minutes       Nasr City  From 90 Visitors  4,054 View(s)   \n",
      "\n",
      "  pages      Doctor_Name  \n",
      "0  1048  Salim El-Shazly  \n",
      "1  1048  Hassan El-Kholy  \n",
      "2  1048  Mohamed Youssef  \n",
      "3  1048  Jamal El-Kassas  \n",
      "4  1048      Nader Fahmy  \n"
     ]
    }
   ],
   "source": [
    "import pandas as pd\n",
    "import random\n",
    "\n",
    "\n",
    "first_names = [\n",
    "    \"Ahmed\", \"Mohamed\", \"Omar\", \"Youssef\", \"Ali\", \"Hassan\", \"Mostafa\", \"Khaled\",\n",
    "    \"Amr\", \"Tamer\", \"Mahmoud\", \"Ibrahim\", \"Sami\", \"Adel\", \"Nader\", \"Fady\",\n",
    "    \"Mona\", \"Sara\", \"Nour\", \"Aya\", \"Laila\", \"Dina\", \"Fatma\", \"Heba\",\n",
    "    \"Rania\", \"Mariam\", \"Salma\", \"Noha\", \"Reem\", \"Amira\", \"Yasmin\", \"Nadia\",\n",
    "    \"Salim\", \"Bassam\", \"Walid\", \"Hani\", \"Rami\", \"Jamal\", \"Zein\", \"Firas\"\n",
    "]\n",
    "\n",
    "last_names = [\n",
    "    \"El-Sayed\", \"Hassan\", \"Abdelrahman\", \"Fahmy\", \"Mahmoud\", \"Ibrahim\", \"Salah\",\n",
    "    \"Mostafa\", \"Kamel\", \"Nasser\", \"Farouk\", \"Youssef\", \"Gaber\", \"Saeed\",\n",
    "    \"Hussein\", \"Zaki\", \"Taha\", \"Shalaby\", \"El-Masry\", \"Abdallah\", \"Khalil\",\n",
    "    \"Samir\", \"Fathy\", \"El-Gohary\", \"El-Baz\", \"El-Din\", \"Mansour\", \"El-Hadidy\",\n",
    "    \"El-Kholy\", \"El-Shazly\", \"El-Sherif\", \"El-Amin\", \"El-Sherbiny\", \"El-Khatib\",\n",
    "    \"El-Naggar\", \"El-Saied\", \"El-Shennawy\", \"El-Mahdy\", \"El-Kassas\", \"El-Gendy\"\n",
    "]\n",
    "\n",
    "all_combinations = [f\"{fn} {ln}\" for fn in first_names for ln in last_names]\n",
    "\n",
    "'''if len(all_combinations) < 1200:\n",
    "    raise ValueError(\"Not enough unique name combinations to generate 1200 unique names.\")\n",
    "'''\n",
    "random.seed(42)\n",
    "selected_names = random.sample(all_combinations, len(df))\n",
    "\n",
    "df['Doctor_Name'] = selected_names\n",
    "\n",
    "print(df.head())\n"
   ]
  },
  {
   "cell_type": "markdown",
   "id": "8f826c98-e68c-4ee6-9954-5fe9fa2f6330",
   "metadata": {},
   "source": [
    "## Data Selection<h2>"
   ]
  },
  {
   "cell_type": "code",
   "execution_count": 190,
   "id": "25d35838-1321-4005-b528-e000a27a7796",
   "metadata": {},
   "outputs": [],
   "source": [
    "df=df[['Doctor_Name','specialization','avg_rate','clinic_location']]"
   ]
  },
  {
   "cell_type": "markdown",
   "id": "a0709cf4-ebed-4773-a888-0b83b96b88e5",
   "metadata": {},
   "source": [
    "## Check Missings</h2>"
   ]
  },
  {
   "cell_type": "code",
   "execution_count": 191,
   "id": "f2f33a6c-e161-46f8-95c6-b9f2d5a7a9bf",
   "metadata": {},
   "outputs": [
    {
     "data": {
      "text/plain": [
       "Doctor_Name          0\n",
       "specialization       2\n",
       "avg_rate            59\n",
       "clinic_location    283\n",
       "dtype: int64"
      ]
     },
     "execution_count": 191,
     "metadata": {},
     "output_type": "execute_result"
    }
   ],
   "source": [
    "df.isnull().sum()"
   ]
  },
  {
   "cell_type": "code",
   "execution_count": 192,
   "id": "c2efa342-3de8-4ec9-90bf-8719ea3d2c2d",
   "metadata": {},
   "outputs": [],
   "source": [
    "df['specialization'] = df['specialization'].dropna()\n",
    "df['avg_rate'] = df['avg_rate'].fillna(df['avg_rate'].mean())\n",
    "df['specialization'] = df['specialization'].fillna(df['specialization'].mode()[0])\n"
   ]
  },
  {
   "cell_type": "code",
   "execution_count": 193,
   "id": "ba7f4bd5-02e7-4658-93c7-843c5bf8ec69",
   "metadata": {},
   "outputs": [],
   "source": [
    "df = df.dropna(subset=['clinic_location'])"
   ]
  },
  {
   "cell_type": "code",
   "execution_count": 194,
   "id": "f73059c8-2145-4b4a-ab0f-d81d0b69ef73",
   "metadata": {},
   "outputs": [
    {
     "data": {
      "text/plain": [
       "Doctor_Name        0\n",
       "specialization     0\n",
       "avg_rate           0\n",
       "clinic_location    0\n",
       "dtype: int64"
      ]
     },
     "execution_count": 194,
     "metadata": {},
     "output_type": "execute_result"
    }
   ],
   "source": [
    "df.isnull().sum()"
   ]
  },
  {
   "cell_type": "markdown",
   "id": "5959b6af-7164-4c2a-8e90-24d30bcbec1d",
   "metadata": {},
   "source": [
    "## Feature Engineering</h2>"
   ]
  },
  {
   "cell_type": "markdown",
   "id": "c9390462-eb33-47f7-8d9f-241d9df69ba9",
   "metadata": {},
   "source": [
    "### Added a general section for each doctor's specialization</h3>"
   ]
  },
  {
   "cell_type": "code",
   "execution_count": 195,
   "id": "90c4f059-9173-4325-8ceb-0179fd4d97bc",
   "metadata": {},
   "outputs": [],
   "source": [
    "import pandas as pd\n",
    "\n",
    "\n",
    "category_map = {\n",
    "    'Physiotherapist': 'Musculoskeletal',\n",
    "    'Dermatologist': 'Skin',\n",
    "    'Orthopedist': 'Musculoskeletal',\n",
    "    'Gynecologist': 'Urinary and Reproductive',\n",
    "    'Pediatrician': 'Others',\n",
    "    'Cardiologist': 'Cardiovascular',\n",
    "    'General Surgeon': 'Musculoskeletal',\n",
    "    'Urologist': 'Urinary and Reproductive',\n",
    "    'Neurosurgeon': 'Neurological and Psychiatric',\n",
    "    'Nephrologist': 'Urinary and Reproductive',\n",
    "    'Neurologist': 'Neurological and Psychiatric',\n",
    "    'ENT Doctor': 'Eye, Ear and Nose',\n",
    "    'Ophthalmologist': 'Eye, Ear and Nose',\n",
    "    'Internist': 'Others',\n",
    "    'Cardiothoracic Surgeon': 'Cardiovascular',\n",
    "    'Psychiatrist': 'Neurological and Psychiatric',\n",
    "    'Dentist': 'Others',\n",
    "    'Endocrinologist': 'Others',\n",
    "    'Rheumatologist': 'Musculoskeletal',\n",
    "    'Gastroenterologist': 'Gastrointestinal and Liver',\n",
    "    'Plastic Surgeon': 'Musculoskeletal',\n",
    "    'Pulmonologist': 'Respiratory',\n",
    "    'Audiologist': 'Eye, Ear and Nose',\n",
    "    'Hematologist': 'Cardiovascular',\n",
    "    'Nutritionist': 'Others',\n",
    "    'Surgical Oncologist': 'Gastrointestinal and Liver',\n",
    "    'Oncologist': 'Others',\n",
    "    'Hepatologist': 'Gastrointestinal and Liver',\n",
    "    'Infertility Specialist': 'Urinary and Reproductive',\n",
    "    'Andrologist': 'Urinary and Reproductive',\n",
    "    'Obesity Surgeon': 'Urinary and Reproductive',\n",
    "    'Allergist': 'Skin',\n",
    "    'Vascular Surgeon': 'Musculoskeletal',\n",
    "    'Pediatric Surgeon': 'Urinary and Reproductive',\n",
    "    'Phoniatrician': 'Eye, Ear and Nose',\n",
    "    'Anesthesiologist': 'Others',\n",
    "    'Spinal Surgeon': 'Musculoskeletal',\n",
    "    'Family Doctor': 'Others'\n",
    "}\n",
    "\n",
    "df['Category'] = df['specialization'].map(category_map)\n",
    "\n",
    "df['Category'] = df['Category'].fillna('Unknown')\n",
    "\n"
   ]
  },
  {
   "cell_type": "code",
   "execution_count": 196,
   "id": "7eeaf222-571f-4569-b321-a43cb563fb29",
   "metadata": {},
   "outputs": [
    {
     "data": {
      "text/plain": [
       "array(['Musculoskeletal', 'Skin', 'Urinary and Reproductive', 'Others',\n",
       "       'Cardiovascular', 'Neurological and Psychiatric',\n",
       "       'Eye, Ear and Nose', 'Gastrointestinal and Liver', 'Respiratory'],\n",
       "      dtype=object)"
      ]
     },
     "execution_count": 196,
     "metadata": {},
     "output_type": "execute_result"
    }
   ],
   "source": [
    "df['Category'].unique()"
   ]
  },
  {
   "cell_type": "markdown",
   "id": "517251eb-8a14-4965-a2aa-e6b16a45db37",
   "metadata": {},
   "source": [
    "### Remove special characters from location</h3>"
   ]
  },
  {
   "cell_type": "code",
   "execution_count": 197,
   "id": "84ecd2a2-cfad-4065-8694-20697f1ca751",
   "metadata": {
    "scrolled": true
   },
   "outputs": [
    {
     "data": {
      "text/plain": [
       "array(['El-Mansoura', 'El-Ibrahimia', '6th of October', 'El-Haram',\n",
       "       'Nasr City', 'El-Dokki', 'Yousef Abbas',\n",
       "       'El-Maadi : Zahraa El Maadi Road Carefour',\n",
       "       'Shoubra El-Kheima : 15th may', 'Moharam Bek : moharam bek',\n",
       "       'El-Mohandessin : el Sudan Street',\n",
       "       'Nasr City : Zaker Hussien Street-District 7',\n",
       "       'Nasr City : Ibrahim Nawar parallel to Ahmed Fakhry - Sixth Region.',\n",
       "       'Shoubra El-Kheima', 'El-Zagazig : al kwmya street', 'Shoubra',\n",
       "       'New Cairo : beside new cairo court',\n",
       "       'El-Mansoura : sandob square', 'El-Mokattam : Street 9',\n",
       "       'El-Sheikh Zayed : Mouez plaza-', 'Tanta : Elmoderya st',\n",
       "       'El-Giza : Morad street', 'Shoubra El-Kheima : 15 May, St.',\n",
       "       'El-Zaitoun : Seliem El Awal', 'Hadayek El-Ahram', 'El-Abbasia',\n",
       "       'El-Mohandessin : ahmed orabi', 'El-Mokattam',\n",
       "       'El-Maadi : 77 Street Extension - Arab El Maadi',\n",
       "       'Faisal : faisal main street', 'New Cairo',\n",
       "       'Nasr City : Ahmed qasim branched from abbas elakaad',\n",
       "       'Sidy Bishr : 196 Gamal Abdelnasser st, - Beside Baba Sharo.',\n",
       "       'Faisal : Huda Mosque Street', 'Nasr City : metwally el shaarawy',\n",
       "       'Miamy', 'Faisal : king Faisal Street',\n",
       "       'Faisal : gendia  mall _eltawabek', 'El-Mansoura : gehan',\n",
       "       'El-Zagazig : mahmoud hashem street-Kawmya',\n",
       "       'El-Mansoura : salah salem street',\n",
       "       'El-Dokki : Wezaret El Zeraa Street',\n",
       "       'Faisal : 106 king fisal above ahli bank front of vodafone maryotya',\n",
       "       'Sidy Bishr', 'New Cairo : 90',\n",
       "       'Hadayek El-Ahram : Fifth North Street after Menkaure Gate',\n",
       "       'Shoubra : shikolany', 'Assiut city : yousry ragheb extention',\n",
       "       'El-Sayeda Zainab : A Elkasr Eleini',\n",
       "       'Sidy Bishr : Alaman st. from sidi Beshr mosque st.', 'El-Maadi',\n",
       "       'El-Zagazig', 'El-Zagazig : ,  El Obour Bridge extension',\n",
       "       'Shoubra : shoubra street', 'El-Fayoum city',\n",
       "       'Heliopolis : othman ibn affan',\n",
       "       'Tanta : saeed with omar abd el3aziz',\n",
       "       'El-Zagazig : next to sednawy hospital',\n",
       "       'Hadayek El-Ahram : Gardenia Street',\n",
       "       'New Cairo : El Narges Services Area',\n",
       "       'Nasr City :  Mohamed Almakreif', 'Madinaty : Medical Center',\n",
       "       'Hadayek El-Ahram : elgish street', 'El-Maadi : carrefour road',\n",
       "       'Faisal : fisal street',\n",
       "       'Sidy Bishr : 41 Albekbashy Elesawy st., in front of the Computer Mall.',\n",
       "       'El-Dokki : Tiba St from Gamaet Dwol',\n",
       "       'Heliopolis : Ahmed el Dardiry, Ard El Golf', '06-Oct',\n",
       "       'El-Manyal : Elmanial street', 'Alharam street',\n",
       "       'Tanta : El-Geish St.  with Al-Galaa st. Al-Awkaf tower .',\n",
       "       'Faisal : Faisal First',\n",
       "       '6th of October : in front of wadi degla club',\n",
       "       'Heliopolis : -behind Miliatry College', 'Faisal',\n",
       "       'El-Mansoura : Marinet Mubarak Madina Monawara st.', 'Helwan',\n",
       "       'El-Haram : Station Mashaal', 'Hadayek El-Ahram : z',\n",
       "       'El-Rehab : Medical Complex 1', 'Heliopolis : hassan aflaton',\n",
       "       '90 Street', 'Faisal : King Faisal', 'Naguib mahfouz',\n",
       "       'El-Mansoura : el gomhoria street', 'Menouf',\n",
       "       'El-Sheikh Zayed : twin tower -', 'El-Obour City : 9th district',\n",
       "       'Mahatet El-Raml',\n",
       "       'Khamseen Street (Carrefour extension) - Zahraa AlMaadi',\n",
       "       'Ali Amin Street, Al Manteqah Al Oula',\n",
       "       'El-Dokki : Tahrir Street-infront Of Asad Abn Elfourat mosque',\n",
       "       'micheel bakhoum', 'Miamy : gamal abdelnasser',\n",
       "       'Aga : elgalaa street', 'Banha : El Ashraf Street',\n",
       "       'Moharam Bek : moharm bek st', 'West El-Balad : kasr el neil st',\n",
       "       'El-Mokattam : Middle Hadaba',\n",
       "       'El-Mansoura :  hamza ebn abdelmotleb street',\n",
       "       'El-Mansoura : abdo maarof street',\n",
       "       'Hurghada City : Mohamed Said St. (Metro), El Kawther',\n",
       "       'El-Dokki : Mosdak Street',\n",
       "       'Sporting : Ahmed Allam st from elHorya Road',\n",
       "       'Fifth Settlement Medical Center', 'Mahalla : Talaat Harb street',\n",
       "       'Faisal street', 'Mahalla', 'El-Agamy : Goweida moftah street',\n",
       "       'Heliopolis : Elmontazah St from ElHegaz St', 'Maadi Ring Road',\n",
       "       'El-Giza : Hamadan', '6th of October : al mehwar al markzi',\n",
       "       'Heliopolis',\n",
       "       'El-Zagazig : tolba eweda street infront of salah salem hospital above lcwikiki',\n",
       "       'El-Dokki : Musadak Street-Infront Of Dunkin Donuts',\n",
       "       'Nasr City : Mostafa elnhas St', 'El-Maadi : 9th St.',\n",
       "       'El-Mokattam : 9 street', 'El-Mohandessin : Alfawakh St',\n",
       "       'Tanta : El-Geish st.  with Al- Galaa st.- Al-Awkaf  tower',\n",
       "       'Hadayek El-Ahram : first entrance of first gate',\n",
       "       'Hadayek El-Ahram : El Geish street',\n",
       "       'El-Maadi : Al Nasr St. - Gazaer Square',\n",
       "       'El-Mokattam : Behinde pharmacy college MTI, AlHdba AlWosta',\n",
       "       'El-Rehab', 'Heliopolis : botrous ghaly street',\n",
       "       '6th of October : Borie Plaza 1-Elhossary Square',\n",
       "       'Imbaba : Elwahda street', 'El-Haram : Haram',\n",
       "       'El-Zaitoun : Selim Elawal Street-Egypt Air Towers-Above Eltayaran Supermarket',\n",
       "       'Nasr City : ahmad elzumor', 'El-Mohandessin',\n",
       "       '151 Street - Horreya Square', 'Shibin El-Kom : hakma square',\n",
       "       'north Teseen ST',\n",
       "       'El-Zagazig : obour bridge next to sawaf restaurant',\n",
       "       'El-Obour City', '6th of October : Central Axis', 'Imbaba',\n",
       "       'Shibin El-Kom', 'Banha : 5 ibn Hagag street',\n",
       "       'El-Mansoura : 6 october street branched from ahmed maher street',\n",
       "       'Nasr City : AbdElhamid awad', 'El-Maadi : Elnasr Street',\n",
       "       'West El-Balad : el tahreer street', 'El-Badrashin',\n",
       "       'Faisal : Elatabaa Building Fasil Elnadii St',\n",
       "       'El-Mansoura : el mahta square', 'Faisal : khaled ibn waleed st',\n",
       "       'Nasr City : mostafa elnahas',\n",
       "       'Heliopolis : Al Hegaz - Heliopolis Square.',\n",
       "       'El-Manyal : manyal street', 'north teseen street',\n",
       "       'El-Maadi : Sakr Quraysh, Al Bahs Al Genaea', 'El-Giza : mourad',\n",
       "       'Janaklees', 'El-Manyal : Almanial main Street',\n",
       "       'El-Fayoum city : elmsla next to misr for insurance building next to city tower',\n",
       "       'Shibin El-Kom : sharaf square dewan tower', 'El-Shorouk',\n",
       "       'Banha : behind mohafza', 'El-Zagazig : tolba eweda street',\n",
       "       'El-Sayeda Zainab : Port Saeed Street',\n",
       "       'West El-Balad : Mohamed farid - Abdein',\n",
       "       'El-Mansoura : kanat el swiss st', 'Heliopolis : hegaz street',\n",
       "       '10th of Ramadan : Ordinia St.',\n",
       "       'Nasr City : Mohamed Radwan ST _ Al Hay Al Asher',\n",
       "       'New Cairo : abdallah ibn salama', 'El-Maadi :  ElNasr',\n",
       "       'El-Sheikh Zayed : Twin Towers-Elmehwar Elmarkazi',\n",
       "       'El-Maadi : 4 street 100 from street 105 - Horria sq Maadi',\n",
       "       'Faisal : king Faisal St -tamimi', 'Bakos : Moastafa kamel',\n",
       "       'Heliopolis : Triumph square (Nakhla moteey)',\n",
       "       'El-Matareya : Beet El Ezz 2 building - Matareya square - Building A - Third floor',\n",
       "       'Heliopolis : Esmail Ramzy Street', 'El-Manyal : Manial',\n",
       "       'El-Zaitoun : salim el-Awal st.', 'Faisal : king faisal street',\n",
       "       'El-Mohandessin : Omar Toson', 'El-Obour City : Al Obour center',\n",
       "       'Faisal : king faisal', 'El-Maadi : ElNasr',\n",
       "       'El-Maadi : street 287',\n",
       "       'Hadayek El-Kobba : Abdelgleel street from Ibn Sender',\n",
       "       'El-Haram : Haram Street Nasr eldin Station',\n",
       "       'Victoria : Gamal Abdelnaser',\n",
       "       'El-Haram : 93 el haram street - beside city mall',\n",
       "       'El-Haram : madkour', 'El-Sheikh Zayed : Beverly Hills-gate 9',\n",
       "       'Mahalla : El-shon', 'El-Haram :  Salam',\n",
       "       'Assiut city : Yusri Ragheb St.', 'Nasr City : makram ebeid',\n",
       "       'Banha : el safaa', 'El-Maadi : Al Nasr Street',\n",
       "       'El-Dokki : El Tahrir st.', 'Nasr City : abo dawood zahry',\n",
       "       'New Cairo : 90 Street', 'El-Mansoura : Al seka algdeda',\n",
       "       'Imbaba : Main wehda street', 'El-Sheikh Zayed',\n",
       "       'Ain Shams : 70 Khaled Ebn El Waleed st., From Mostafa Hafez st., Beside Zaher, Guesr El Suez st., In front of El Shams club',\n",
       "       'Faisal : hassan mohamed station-Feisal',\n",
       "       'Shibin El-Kom : Abo Bakr Elsedeek',\n",
       "       'Hadayek El-Ahram : 2nd gate khafra',\n",
       "       'El-Manyal : Saeed Tho Al fakar Street - branched from El basha square',\n",
       "       '6th of October : El Mehwar El Markazy', 'Heliopolis :  Bridge',\n",
       "       'El-Rehab : Rehab , medical centre 2 , clinic 109',\n",
       "       'El-Sheikh Zayed : Twin Towers', 'Nasr City :  ahmed el zomor',\n",
       "       'El-Agamy : Kilometer 21 square,', 'Nasr City : Mostafa nhas St',\n",
       "       'El-Mokattam : 9 S.t', 'Sporting : Port Saeid St.,',\n",
       "       '6th of October : omrania tanua', 'West El-Balad :  Mohamed farid',\n",
       "       'El-Agamy : Alrxandria- matrouh road', 'Heliopolis : bagdad st.',\n",
       "       'Nasr City : mostafa el nahhas street',\n",
       "       'El-Zagazig : vilal gamaa street next to madina mosque',\n",
       "       'El-Mohandessin :  shehab street', 'El-Maadi :  El Horya Square',\n",
       "       'El-Manyal : El Manyal', 'Faisal :  Faisal',\n",
       "       'El-Obour City : Alsadat St.',\n",
       "       'El-Mansoura : Hussein bek street in front of family regulation office',\n",
       "       'El-Rehab : el sadat axis-The corner mall',\n",
       "       'New Cairo : 3rd block', 'trablous',\n",
       "       '6th of October : 4th District - 3rd Neighborhood',\n",
       "       'Shoubra El-Kheima : ElSharea ElGded',\n",
       "       'Shoubra El-Kheima : 15 may street across the new street',\n",
       "       'El-Matareya : El horeya street',\n",
       "       'Nasr City : Gafar Elsadek st branched from eltayaran',\n",
       "       'El-Maadi : 77 St.', 'Faisal : king  Faisal taawon',\n",
       "       'Shoubra : 15 may street', 'El-Mansheyah : Hamam El Warsha',\n",
       "       'Faisal : Faisal', 'Ain Shams', 'El-Haram :  Abo emera street',\n",
       "       'El-Maadi : 153', 'El-Maadi : 9',\n",
       "       'Shoubra El-Kheima : 15 mayo\" ElshareEl gedidi \"',\n",
       "       'Faisal : Faisal street', 'Hadayek El-Kobba : Masr El-Soadan',\n",
       "       'El-Maadi : algazerr', 'El-Abbasia : Abdou Pacha Sq.',\n",
       "       '6th of October : the central axis',\n",
       "       'El-Mandara : Mohamed Hassanin Hiekel', 'Sidy Gaber : Elhoreia',\n",
       "       'El-Sheikh Zayed : Medical Hub Center-Khameal City-Gate 2-Infront of Hyperone',\n",
       "       'El-Marg : Ahmed sediq', 'Sidy Gaber : Portsaif',\n",
       "       'El-Haram : Terat Al Zomir Street',\n",
       "       '6th of October : elmahwar el markazi',\n",
       "       'El-Haram : Al Haram street -',\n",
       "       'El-Rehab : Medical center 2 ,  El Rehab City',\n",
       "       'El-Giza : el gamaa Street', 'El-Haram : El haram St.',\n",
       "       'El-Haram : Naser althora',\n",
       "       'El-Rehab : medical park elite next to city square',\n",
       "       '6th of October : 71 fadan', 'Heliopolis : El Merghany',\n",
       "       'Heliopolis : abu bakr el sedeek saffir sqaure',\n",
       "       'El-Ibrahimia : abokeir road',\n",
       "       \"8th district, Above Ragab's Sons s market - mall five stars 2 new floor\",\n",
       "       'Nasr City : ahmed elzomr', 'Nasr City : Abu Dawood Al-Zahery',\n",
       "       'Ain Shams : Seha street', 'Beverly Hills',\n",
       "       'Hadayek El-Ahram : zen', 'New Cairo : North',\n",
       "       'El-Haram : Al Haram street', 'El-Agamy : -salah el awdy st.',\n",
       "       '6th of October : nagda square', 'Smouha : Victor Ammanuel St.',\n",
       "       'El-Maadi : Horreya Square',\n",
       "       'Nasr City : Afracia street-extention of mostafa elnahas street-9 th zone-after PIZZA HUT restaurant',\n",
       "       'El Minya City : Elgomhorya street',\n",
       "       'El-Sheikh Zayed : Twin Towers, 26 July Corridor',\n",
       "       'Assiut city : Al Helaly',\n",
       "       '10 Mohamed Awad st, branched from Makram Ebeid',\n",
       "       'El-Mansoura : gehan st',\n",
       "       'El-Mokattam : central Street, from 9 street',\n",
       "       'New Cairo : Next to Al baraka Mall', 'El-Ibrahimia : portsaid',\n",
       "       'Helwan : mohamed sayed ahmed street with rayel street',\n",
       "       'El-Ibrahimia : port Said', 'El-Abbasia : sergany st-abdo basha',\n",
       "       'El-Mohandessin : El Kawser street',\n",
       "       'El-Sheikh Zayed : -Badr Eldeen Mall', 'El-Zaitoun : selem el awl',\n",
       "       'Shoubra :  Al Taraa Al Bolaqiea', 'Heliopolis : gesr suez',\n",
       "       'Tanta : Saad Zaghlool square-loaloa Tanta Tower-Above eltwheed w elnoor',\n",
       "       '6th of October : Prima-vista medical center',\n",
       "       'El-Dokki : El Tahrir St.',\n",
       "       'Heliopolis : Aboubakr Elsedik street-Safeer Square-Above ezz Eldeen pharmacy',\n",
       "       'El-Haram : El talateny elgded of ezz el din omar',\n",
       "       'El-Mokattam :  Al Eman Mosque',\n",
       "       'Sidy Bishr : Gamal abelnasser st.',\n",
       "       'El-Sheikh Zayed : Twin Towers-Damas Dental Center',\n",
       "       'Assiut city : Youssry Ragheb St.', 'El Minya City',\n",
       "       'Hadayek El-Ahram : Ahmed Bedeer', 'Helwan : riad',\n",
       "       'Helwan : mouhamed sayed ahmed street/rayel stret',\n",
       "       'Faisal : el arabeen elmaskeen', 'El-Maadi : street 108',\n",
       "       'West El-Balad : Adly', 'Heliopolis : El Khalifa El Mamoun street',\n",
       "       'El-Manyal : Manial Museum Street',\n",
       "       'El-Haram : Ezz El-Deen Omar Arish station Behind misr Bank',\n",
       "       'Nasr City : Makram Abeid',\n",
       "       'El-Shorouk : grand mall third east expansions',\n",
       "       'El-Shorouk : main road (Gate 1 ismallia road)',\n",
       "       'El-Maadi : EL Laselky street-beside Moamen square',\n",
       "       'Heliopolis : othman ibn affan- Ismailia square',\n",
       "       'El-Sheikh Zayed : elshabab', 'Hadayek El-Kobba : Elgrash',\n",
       "       '6th of October : 7th distric, 1st neigborhood',\n",
       "       'Faisal : King Faisal street',\n",
       "       'Hadayek El-Ahram : District G First Gate',\n",
       "       'El-Rehab : Medical Center 3 clinic 209', 'El-Maadi : 233',\n",
       "       'New Cairo : Mostafa kamel', 'Mahalla : Al Fareek Reda Hafez st.',\n",
       "       'El-Haram : khatam Al Morsalen Street', 'Bakos : elhelal nady str',\n",
       "       'El-Dokki : El Tahrir street', 'New Cairo : medical park 1',\n",
       "       'El-Sheikh Zayed : Downtown mall', 'El-Badrashin : Athar Saqara',\n",
       "       'El-Agamy : Alex Matrouh Road-Abo Youssef-Besides Elsaberen Mosque',\n",
       "       'Banha : Saad Zaghloul Street - Anani Tower',\n",
       "       'El-Shorouk : Al shorouk', 'Assiut city : thabet Street',\n",
       "       'El-Mansoura : Gehan', 'El-Amreya : Elamreya',\n",
       "       'El-Zagazig : Salah salem Clinics,,Salah Salem St',\n",
       "       'Nasr City : nasr st', 'Hadayek El-Kobba : misr wa alsudan',\n",
       "       'Shibin El-Kom : Abdelkhalek Street from Assem Hama Street',\n",
       "       'El-Mansoura : Elgendy Tower fromGehan El Sadat Street',\n",
       "       'Damanhur : abd elsalam el shazly', 'Nasr City :  Elnozha st.',\n",
       "       'El-Maadi : Kornish Maadi street',\n",
       "       'Heliopolis : Hassan Sadek from elmarghany street',\n",
       "       'Tanta : The intersection of Al Bahr Street with Al Khan',\n",
       "       'Shoubra : Solwans St from Shoubra st - menyt elserg',\n",
       "       'El-Rehab : The Fount Mall North investors',\n",
       "       'Stanley : El- Gaish Roaf', 'Smouha :  Fawzy Moaz',\n",
       "       'Hadayek El-Kobba : lotfy el sayed', 'Bahary : safr basha',\n",
       "       'El-Zagazig : Elmahad Eldeny street', 'Tanta : Segar St',\n",
       "       'Nasr City : anwar elmofty',\n",
       "       'El-Sheikh Zayed : Khamael City-gate 4-administration gates-infront of GLOURS School',\n",
       "       'Heliopolis : Cleopatra St',\n",
       "       'Sidy Gaber : Super Jet Square Street',\n",
       "       'Roshdy : Elhoreya street-Roshdy', 'Mahalla : shon',\n",
       "       'El-Sheikh Zayed : Elmehwar Elmarkazi', 'Nasr City : EL Nasr ST',\n",
       "       'New Cairo : S. Teseen',\n",
       "       'El-Sheikh Zayed : District 12 Courtyard zayed',\n",
       "       'El-Mansoura : Elnour Tower-Salah Salem Street-Talkha',\n",
       "       'El-Shorouk : Panorama Mall Street',\n",
       "       'Shibin El-Kom : gamal abdelnaser bahary street',\n",
       "       'Nasr City : Osman Buildings-Ali Amin Street Extension Of Mostafa Elnahas Street-Above Seventh District Post Office',\n",
       "       'Birket El Sabea : western side',\n",
       "       'El-Haram : Al Haram street In front of Gad',\n",
       "       'New Cairo : North Teseen', 'Nasr City : Ibn el nafees street',\n",
       "       'Faisal : faisal street',\n",
       "       'Boulaq El Dakrour : Mohamed Ibrahim Street-At the intersection of nahya street',\n",
       "       'El-Mansoura : hussen bek street',\n",
       "       'Smouha : Bahaa Eldin Elghatwary Street-',\n",
       "       '6th of October : Prima Vista Medical-Elmehwar Elmarkazi',\n",
       "       'Shibin Al Qanater : Old Labor Office Street',\n",
       "       'Mahalla : El Bahr.Alshoun', 'Heliopolis : Nehro,Heliopolis',\n",
       "       'Nasr City :  Metwally elsharawy',\n",
       "       'El-Mansoura : streert beside El Adeeb street',\n",
       "       'Smouha : el Nasr street', 'Damietta El Gadeeda : mahgoub street',\n",
       "       'Tanta : Botros',\n",
       "       'Faisal : Ahmed esmail street branched from Kaaebesh Street-besides Sayed Elsherbiny Beauty Center',\n",
       "       'Loran : El Horreya Street', 'El-Haram : Elharam',\n",
       "       'El-Mansoura : Gomhoria', 'El-Ibrahimia : Lagatia Street',\n",
       "       'El-Dokki : null', 'Nasr City : Street 11',\n",
       "       '6th of October : above el-mokhtbar laboratory',\n",
       "       'West El-Balad : Alabagieah Buildings-Elsayeda Aisha',\n",
       "       'El-Zagazig : the beginning of Farooq st',\n",
       "       'Hadayek El-Kobba : Teraet elgendy st',\n",
       "       'Janaklees : Abo Qir street', 'Tanta : Elmoderia',\n",
       "       'Nasr City : Makram Ebaid', 'Faisal : Faisal street - Talbeia',\n",
       "       'Shoubra : shopra', 'Hadayek Helwan : almonzer',\n",
       "       'New Cairo : north teseen street',\n",
       "       'Moharam Bek : Galal El Dosoky street -Wabour El Meah',\n",
       "       'El-Maadi : nasr st elgazaaer st',\n",
       "       'Damietta El Gadeeda : Centeral Area',\n",
       "       'El-Manyal : El-Manyal street',\n",
       "       'Heliopolis : 77 Abd ElHamid Badawy St. - Heliopolis - In front of El Shams Club - Above Spectra Restaurant .',\n",
       "       'Smouha : smouha garden city', 'Heliopolis : Othman bin Afan',\n",
       "       'El-Rehab : Medical Park Elite',\n",
       "       'Nasr City : Ahmed Alzumor street', 'El-Rehab : Infront of gate 6',\n",
       "       'El-Sheikh Zayed : elmoaz plaza', 'Fakous : Mostafa Kamel Street',\n",
       "       'Smouha : victor emmanual', 'Damanhur : the garden street',\n",
       "       'Heliopolis : Mohamed Al Dahan from Nabile Al Wakad',\n",
       "       'Heliopolis : mohamed farid',\n",
       "       'Hadayek El-Kobba : Alzawia Alhamraa', 'Sporting : portsaid',\n",
       "       'Smouha : Fawzy Moaaz street',\n",
       "       '6th of October : 16th unit - city stars',\n",
       "       'El-Sheikh Zayed : twin towers', 'Tanta : tanta sharawy st',\n",
       "       'El Salam City : ElRabeaa Street-Branched From Omar Ibn Elkhatab Street-Gesr ElSuez',\n",
       "       '6th of October : Street 19-vranched from elkhazan street-neighborhood 3-Fifth district',\n",
       "       'El-Sheikh Zayed : ElMehwar Elmarkazi',\n",
       "       'New Cairo : The  Northen 90 st', 'Mahalla : shokry elkoatly',\n",
       "       'Nasr City : Youssef abaas and Elnasr street interaction',\n",
       "       'North Coast : Ali Ebn Abi Taleb Street',\n",
       "       'Heliopolis : Omar Ibn Al Khattab - Ismailia Sq.',\n",
       "       'El-Maadi : 263 street from Al Nasr Road',\n",
       "       'Damietta El Gadeeda : al azhar hospital',\n",
       "       'El-Shorouk : terrace mall', 'Assiut city : elnemas',\n",
       "       'El-Zaitoun : ElMatarya St',\n",
       "       'El-Maadi : Elmansour Tower-Street 77 infront of Maadi Club Fence',\n",
       "       'Faisal : king faisal street- al Marioteya',\n",
       "       'El-Sheikh Zayed : Downtown mall 2-besides total fuel station',\n",
       "       'Bulkly : Bulkly / Al-Hadaya Tram Station / Al-Khaleej Building (A)',\n",
       "       'Port Said City : safya zaghlol and mashrak st',\n",
       "       '6th of October : central axis 5th district - infront of el khazan street',\n",
       "       'El-Maadi : Carrefour street',\n",
       "       'Nasr City : block 10 emtedad abo dawoud', 'Tanta : Elgish st',\n",
       "       'Heliopolis : El nozha street-Smart Slim Clinic besides Administrative Oversight',\n",
       "       'El-Zaitoun : Toman bai', '6th of October : Abdelkhalek tharwat',\n",
       "       'El-Ismailia city : Shbeen St.',\n",
       "       'El-Mansoura : Suiz Canal Street-ElSabeaa Tower',\n",
       "       'El-Sheikh Zayed : Zayed (Badr) mall',\n",
       "       'El-Mansoura : new bus street', 'Mit Ghamr : el moahda street',\n",
       "       'El-Mansoura : thawra', 'El-Giza : Giza Square Al haram street',\n",
       "       'Shibin Al Qanater : mostrad station', 'El-Manyal : el saraya',\n",
       "       'Heliopolis : ahmed fouad street',\n",
       "       'Hadayek El-Ahram : Gardinia Gate-First Gate-Health Happiness Center',\n",
       "       'Ain Shams : Gesr Suez street  - alf maskan square',\n",
       "       'Helwan : Mahmoud Khater Street cross Abdullah',\n",
       "       'Mahalla : elmashma square', 'Nasr City : Abo Dawoud El Zahry',\n",
       "       'El-Maadi : Ellaselki Street-New Maadi',\n",
       "       'Heliopolis : Gesr El Swis- El Anaan Tower',\n",
       "       'Loran : Maher Bek st,', 'New Cairo : North teseen street',\n",
       "       'Tanta : algalaa', 'Heliopolis : El khalefa Elmamoan St',\n",
       "       'Mahalla : Elshoun 23 Yolio street',\n",
       "       'El-Maadi : El horreya square Street',\n",
       "       'Mahalla : alshoun square al asar steet',\n",
       "       'Nasr City : Abbas Elakad Street',\n",
       "       'Hadayek El-Kobba : Masr we El Sudan',\n",
       "       'Heliopolis : Ahmad El-Tahawi', 'Mahalla : waboor alnor',\n",
       "       'Mahalla : Talaat Harb Square',\n",
       "       'El-Obour City : First District - Hijaz Center',\n",
       "       'Hadayek El-Ahram : Elgiesh Street-Gate 4 Besides Reayah Pharmacy',\n",
       "       'West El-Balad : alfy', 'El-Ibrahimia : Omar Lotfy st lteram',\n",
       "       'El-Haram : Khofo street - El kom El Akhdar - Haram',\n",
       "       'Heliopolis : el sawra', 'Victoria : El Galaa St.',\n",
       "       'Heliopolis : Mostafa Refaat', 'Tanta : El Gaish st',\n",
       "       'New Cairo : Corner mall In front of El Rehab',\n",
       "       '6th of October : Safa Clinics, Magda Square, Beside Resala, 6th October',\n",
       "       'Tanta : Elnahas cross kafr essam',\n",
       "       'Nasr City : 11 rabea buldings , behind tom & Bassal , 2nd floor',\n",
       "       'Miamy : Gamal AbdelNasser st', 'El-Dokki : altahrir',\n",
       "       'El-Mansoura : abbasi street', 'Faisal : 27elshahid Ahmad Hamdy'],\n",
       "      dtype=object)"
      ]
     },
     "execution_count": 197,
     "metadata": {},
     "output_type": "execute_result"
    }
   ],
   "source": [
    "df['clinic_location'].unique()"
   ]
  },
  {
   "cell_type": "markdown",
   "id": "2cbb744d-f0bc-4f59-870a-02cc5c4a7709",
   "metadata": {},
   "source": [
    "### Retrieve Locations latitude and longitude<h3>"
   ]
  },
  {
   "cell_type": "markdown",
   "id": "6701be91-c0ff-4df5-84b0-686a112e70e8",
   "metadata": {},
   "source": [
    "# ❌❌pass :Skip this part, it is already done"
   ]
  },
  {
   "cell_type": "markdown",
   "id": "6c1b6d83-17ed-4ad8-87e2-719a414924b3",
   "metadata": {},
   "source": [
    "<h4>latitude and longitude Exact Location</h4>"
   ]
  },
  {
   "cell_type": "code",
   "execution_count": 9,
   "id": "f43ee40a-477d-43fd-a41b-3871892ef7b1",
   "metadata": {},
   "outputs": [
    {
     "name": "stdout",
     "output_type": "stream",
     "text": [
      "Sample results:\n",
      "   clinic_location   latitude  longitude\n",
      "0     El-Mansoura  36.786091   9.900016\n",
      "1    El-Ibrahimia  28.424375  30.793289\n",
      "2  6th of October  29.972346  30.940921\n",
      "3        El-Haram  29.994266  31.160459\n",
      "4       Nasr City  30.052118  31.342205\n",
      "\n",
      "Saved 396 failed locations to failed_locations.csv\n"
     ]
    }
   ],
   "source": [
    "from geopy.geocoders import Nominatim\n",
    "import pandas as pd\n",
    "import time\n",
    "\n",
    "geolocator = Nominatim(user_agent=\"my_app\")\n",
    "\n",
    "unique_locations = df['clinic_location'].unique()\n",
    "results = []\n",
    "failed = []\n",
    "\n",
    "for loc in unique_locations:\n",
    "    query = loc\n",
    "    lat, lon = None, None\n",
    "    \n",
    "    try:\n",
    "        location = geolocator.geocode(query, timeout=10)\n",
    "        \n",
    "        if not location:\n",
    "            location = geolocator.geocode(f\"{loc}, Egypt\", timeout=10)\n",
    "        \n",
    "        if location:\n",
    "            lat, lon = location.latitude, location.longitude\n",
    "        else:\n",
    "            failed.append(loc)\n",
    "            \n",
    "    except Exception as e:\n",
    "        failed.append(loc)\n",
    "        print(f\"Error for {loc}: {e}\")\n",
    "    \n",
    "    results.append({'clinic_location': loc, 'latitude': lat, 'longitude': lon})\n",
    "    \n",
    "    time.sleep(1) \n",
    "\n",
    "locations_df = pd.DataFrame(results)\n",
    "print(\"Sample results:\\n\", locations_df.head())\n",
    "\n",
    "if failed:\n",
    "    pd.DataFrame(failed, columns=[\"failed_location\"]).to_csv(\"failed_locations.csv\", index=False)\n",
    "    print(f\"\\nSaved {len(failed)} failed locations to failed_locations.csv\")\n"
   ]
  },
  {
   "cell_type": "code",
   "execution_count": 12,
   "id": "14da3dfc-b69e-41b1-9554-c3c20b7bb020",
   "metadata": {
    "jp-MarkdownHeadingCollapsed": true
   },
   "outputs": [],
   "source": [
    "accepted_locations=locations_df.dropna()"
   ]
  },
  {
   "cell_type": "code",
   "execution_count": null,
   "id": "527781b7-147c-448d-a87d-74ba1f5c1001",
   "metadata": {},
   "outputs": [],
   "source": [
    "accepted_locations"
   ]
  },
  {
   "cell_type": "markdown",
   "id": "ccc014d4-8176-4929-b02c-ee25cbb2013b",
   "metadata": {},
   "source": [
    "<h4>Save Valid Locations</h4>\n",
    "<p>Exact Format : just mapping</p>"
   ]
  },
  {
   "cell_type": "code",
   "execution_count": 16,
   "id": "2fb6c796-b50a-4d90-83fc-75315d1d98c1",
   "metadata": {},
   "outputs": [],
   "source": [
    "accepted_locations.to_csv('Valid Locations.csv') #دي بشكلها الكامل العنوان تبيكال"
   ]
  },
  {
   "cell_type": "markdown",
   "id": "97e32013-e657-4164-a6df-0c46cace084d",
   "metadata": {},
   "source": [
    "<h4>Fix invalid locations</h4>"
   ]
  },
  {
   "cell_type": "markdown",
   "id": "0ff3e868-b5b1-464a-bc65-e6f1cc2c5027",
   "metadata": {
    "jp-MarkdownHeadingCollapsed": true
   },
   "source": [
    "<h5>for general location</h5>"
   ]
  },
  {
   "cell_type": "code",
   "execution_count": 98,
   "id": "1a63ff0e-eef3-44b5-81d4-0bd2f6e86ea0",
   "metadata": {},
   "outputs": [],
   "source": [
    "import pandas as pd\n",
    "ndf=pd.read_csv('failed_locations.csv')"
   ]
  },
  {
   "cell_type": "code",
   "execution_count": 99,
   "id": "1947d08f-634e-4eeb-a78d-7eade03376be",
   "metadata": {},
   "outputs": [],
   "source": [
    "ndf['general_location'] = ndf['failed_location'].str.split(':').str[0].str.strip()"
   ]
  },
  {
   "cell_type": "code",
   "execution_count": 100,
   "id": "fd5927a2-ef18-4fef-9756-9abf4f698437",
   "metadata": {},
   "outputs": [
    {
     "data": {
      "text/plain": [
       "84"
      ]
     },
     "execution_count": 100,
     "metadata": {},
     "output_type": "execute_result"
    }
   ],
   "source": [
    "ndf['general_location'].nunique()"
   ]
  },
  {
   "cell_type": "markdown",
   "id": "6e1295e4-5edd-481f-ac46-65b51edd0f80",
   "metadata": {},
   "source": [
    "<h5>Retrieve Longitude , Latitude based on General Locatioons </h5>"
   ]
  },
  {
   "cell_type": "code",
   "execution_count": null,
   "id": "dca1f2b7-1f0e-4ab0-a2ca-95c5281492c7",
   "metadata": {},
   "outputs": [],
   "source": [
    "from geopy.geocoders import Nominatim\n",
    "import pandas as pd\n",
    "import time\n",
    "\n",
    "geolocator = Nominatim(user_agent=\"my_app\")\n",
    "\n",
    "unique_locations = ndf['general_location'].unique()\n",
    "results = []\n",
    "failed = []\n",
    "\n",
    "for loc in unique_locations:\n",
    "    query = loc\n",
    "    lat, lon = None, None\n",
    "    \n",
    "    try:\n",
    "        location = geolocator.geocode(query, timeout=10)\n",
    "        \n",
    "        if not location:\n",
    "            location = geolocator.geocode(f\"{loc}, Egypt\", timeout=10)\n",
    "        \n",
    "        if location:\n",
    "            lat, lon = location.latitude, location.longitude\n",
    "        else:\n",
    "            failed.append(loc)\n",
    "            \n",
    "    except Exception as e:\n",
    "        failed.append(loc)\n",
    "        print(f\"Error for {loc}: {e}\")\n",
    "    \n",
    "    results.append({'general_location': loc, 'latitude': lat, 'longitude': lon})\n",
    "    \n",
    "    time.sleep(1) \n",
    "\n",
    "locations_df = pd.DataFrame(results)\n",
    "\n",
    "valid_df = locations_df[locations_df['latitude'].notnull()]\n",
    "invalid_df = locations_df[locations_df['latitude'].isnull()]\n"
   ]
  },
  {
   "cell_type": "code",
   "execution_count": 19,
   "id": "3e4a3052-faa3-49c6-97d7-90f8c83a3bbc",
   "metadata": {},
   "outputs": [
    {
     "name": "stdout",
     "output_type": "stream",
     "text": [
      "✅ Saved 67 valid locations to general_location_valid.csv\n",
      "❌ Saved 17 failed locations to general_location_invalid.csv\n"
     ]
    }
   ],
   "source": [
    "\n",
    "print(f\"✅ Saved {len(valid_df)} valid locations to general_location_valid.csv\")\n",
    "print(f\"❌ Saved {len(invalid_df)} failed locations to general_location_invalid.csv\")\n"
   ]
  },
  {
   "cell_type": "markdown",
   "id": "c5d3651c-6156-4373-9e8f-302c5ba078b8",
   "metadata": {},
   "source": [
    "<h5>Save Valid General Locations and InValid General Locations</h5>\n",
    "<p>Exact Format : just mapping</p>"
   ]
  },
  {
   "cell_type": "code",
   "execution_count": null,
   "id": "ed7aa0d6-63e2-437a-8ac1-cecbcc43d69f",
   "metadata": {},
   "outputs": [],
   "source": [
    "#دا بالعنوان الاساسي محتاجة اعمل  mapping\n",
    "valid_df.to_csv(\"general_location_valid.csv\", index=False)\n",
    "invalid_df.to_csv(\"general_location_invalid.csv\", index=False)\n"
   ]
  },
  {
   "cell_type": "code",
   "execution_count": null,
   "id": "550caff7-2223-47e4-a90a-a511d884e728",
   "metadata": {},
   "outputs": [],
   "source": []
  },
  {
   "cell_type": "markdown",
   "id": "688bf03f-398f-4b6d-a8dc-dbb0a3826558",
   "metadata": {},
   "source": [
    "# ✅✅Continue"
   ]
  },
  {
   "cell_type": "markdown",
   "id": "e61ba0b5-5b4e-4db7-b6c8-28ad525e0217",
   "metadata": {},
   "source": [
    "### Matching Location longitude , latitude with original dataframe</h3>"
   ]
  },
  {
   "cell_type": "code",
   "execution_count": 219,
   "id": "f6df6156-22cd-474e-a8d7-fe1d27695135",
   "metadata": {},
   "outputs": [],
   "source": [
    "exact=pd.read_csv('Valid Locations.csv')"
   ]
  },
  {
   "cell_type": "code",
   "execution_count": 220,
   "id": "c207290a-a922-450b-bbdd-57b47a056303",
   "metadata": {},
   "outputs": [],
   "source": [
    "general=pd.read_csv('general_location_valid.csv')"
   ]
  },
  {
   "cell_type": "code",
   "execution_count": 221,
   "id": "8191a00a-0a19-4370-8051-23b751bc8f02",
   "metadata": {},
   "outputs": [
    {
     "data": {
      "text/plain": [
       "Doctor_Name         0\n",
       "specialization      0\n",
       "avg_rate            0\n",
       "clinic_location     0\n",
       "Category            0\n",
       "general_location    0\n",
       "dtype: int64"
      ]
     },
     "execution_count": 221,
     "metadata": {},
     "output_type": "execute_result"
    }
   ],
   "source": [
    "df.isna().sum()"
   ]
  },
  {
   "cell_type": "markdown",
   "id": "580d84d3-517b-46cc-896c-e061ce4c57e0",
   "metadata": {},
   "source": [
    "#### Exact Locations</h3>"
   ]
  },
  {
   "cell_type": "code",
   "execution_count": 222,
   "id": "d5c066eb-5cf2-4daf-940e-a7ab0a636c0e",
   "metadata": {},
   "outputs": [
    {
     "data": {
      "text/html": [
       "<div>\n",
       "<style scoped>\n",
       "    .dataframe tbody tr th:only-of-type {\n",
       "        vertical-align: middle;\n",
       "    }\n",
       "\n",
       "    .dataframe tbody tr th {\n",
       "        vertical-align: top;\n",
       "    }\n",
       "\n",
       "    .dataframe thead th {\n",
       "        text-align: right;\n",
       "    }\n",
       "</style>\n",
       "<table border=\"1\" class=\"dataframe\">\n",
       "  <thead>\n",
       "    <tr style=\"text-align: right;\">\n",
       "      <th></th>\n",
       "      <th>Doctor_Name</th>\n",
       "      <th>specialization</th>\n",
       "      <th>avg_rate</th>\n",
       "      <th>clinic_location</th>\n",
       "      <th>Category</th>\n",
       "      <th>general_location</th>\n",
       "      <th>Unnamed: 0</th>\n",
       "      <th>latitude</th>\n",
       "      <th>longitude</th>\n",
       "    </tr>\n",
       "  </thead>\n",
       "  <tbody>\n",
       "    <tr>\n",
       "      <th>0</th>\n",
       "      <td>Salim El-Shazly</td>\n",
       "      <td>Physiotherapist</td>\n",
       "      <td>5.000000</td>\n",
       "      <td>El-Mansoura</td>\n",
       "      <td>Musculoskeletal</td>\n",
       "      <td>El-Mansoura</td>\n",
       "      <td>0.0</td>\n",
       "      <td>36.786091</td>\n",
       "      <td>9.900016</td>\n",
       "    </tr>\n",
       "    <tr>\n",
       "      <th>1</th>\n",
       "      <td>Hassan El-Kholy</td>\n",
       "      <td>Dermatologist</td>\n",
       "      <td>4.500000</td>\n",
       "      <td>El-Ibrahimia</td>\n",
       "      <td>Skin</td>\n",
       "      <td>El-Ibrahimia</td>\n",
       "      <td>1.0</td>\n",
       "      <td>28.424375</td>\n",
       "      <td>30.793289</td>\n",
       "    </tr>\n",
       "    <tr>\n",
       "      <th>2</th>\n",
       "      <td>Mohamed Youssef</td>\n",
       "      <td>Orthopedist</td>\n",
       "      <td>4.500000</td>\n",
       "      <td>6th of October</td>\n",
       "      <td>Musculoskeletal</td>\n",
       "      <td>6th of October</td>\n",
       "      <td>2.0</td>\n",
       "      <td>29.972346</td>\n",
       "      <td>30.940921</td>\n",
       "    </tr>\n",
       "    <tr>\n",
       "      <th>3</th>\n",
       "      <td>Jamal El-Kassas</td>\n",
       "      <td>Gynecologist</td>\n",
       "      <td>4.758471</td>\n",
       "      <td>El-Haram</td>\n",
       "      <td>Urinary and Reproductive</td>\n",
       "      <td>El-Haram</td>\n",
       "      <td>3.0</td>\n",
       "      <td>29.994266</td>\n",
       "      <td>31.160459</td>\n",
       "    </tr>\n",
       "    <tr>\n",
       "      <th>4</th>\n",
       "      <td>Nader Fahmy</td>\n",
       "      <td>Dermatologist</td>\n",
       "      <td>5.000000</td>\n",
       "      <td>Nasr City</td>\n",
       "      <td>Skin</td>\n",
       "      <td>Nasr City</td>\n",
       "      <td>4.0</td>\n",
       "      <td>30.052118</td>\n",
       "      <td>31.342205</td>\n",
       "    </tr>\n",
       "    <tr>\n",
       "      <th>...</th>\n",
       "      <td>...</td>\n",
       "      <td>...</td>\n",
       "      <td>...</td>\n",
       "      <td>...</td>\n",
       "      <td>...</td>\n",
       "      <td>...</td>\n",
       "      <td>...</td>\n",
       "      <td>...</td>\n",
       "      <td>...</td>\n",
       "    </tr>\n",
       "    <tr>\n",
       "      <th>922</th>\n",
       "      <td>Hani El-Kassas</td>\n",
       "      <td>Urologist</td>\n",
       "      <td>4.000000</td>\n",
       "      <td>El-Mohandessin :  shehab street</td>\n",
       "      <td>Urinary and Reproductive</td>\n",
       "      <td>El-Mohandessin</td>\n",
       "      <td>NaN</td>\n",
       "      <td>NaN</td>\n",
       "      <td>NaN</td>\n",
       "    </tr>\n",
       "    <tr>\n",
       "      <th>923</th>\n",
       "      <td>Zein Hussein</td>\n",
       "      <td>Hepatologist</td>\n",
       "      <td>4.000000</td>\n",
       "      <td>El-Dokki : altahrir</td>\n",
       "      <td>Gastrointestinal and Liver</td>\n",
       "      <td>El-Dokki</td>\n",
       "      <td>NaN</td>\n",
       "      <td>NaN</td>\n",
       "      <td>NaN</td>\n",
       "    </tr>\n",
       "    <tr>\n",
       "      <th>924</th>\n",
       "      <td>Salim Nasser</td>\n",
       "      <td>Gynecologist</td>\n",
       "      <td>4.500000</td>\n",
       "      <td>El-Mansoura : abbasi street</td>\n",
       "      <td>Urinary and Reproductive</td>\n",
       "      <td>El-Mansoura</td>\n",
       "      <td>NaN</td>\n",
       "      <td>NaN</td>\n",
       "      <td>NaN</td>\n",
       "    </tr>\n",
       "    <tr>\n",
       "      <th>925</th>\n",
       "      <td>Rania Khalil</td>\n",
       "      <td>Internist</td>\n",
       "      <td>4.000000</td>\n",
       "      <td>Faisal</td>\n",
       "      <td>Others</td>\n",
       "      <td>Faisal</td>\n",
       "      <td>75.0</td>\n",
       "      <td>30.097883</td>\n",
       "      <td>32.485650</td>\n",
       "    </tr>\n",
       "    <tr>\n",
       "      <th>926</th>\n",
       "      <td>Nour Fathy</td>\n",
       "      <td>Ophthalmologist</td>\n",
       "      <td>5.000000</td>\n",
       "      <td>Faisal : 27elshahid Ahmad Hamdy</td>\n",
       "      <td>Eye, Ear and Nose</td>\n",
       "      <td>Faisal</td>\n",
       "      <td>NaN</td>\n",
       "      <td>NaN</td>\n",
       "      <td>NaN</td>\n",
       "    </tr>\n",
       "  </tbody>\n",
       "</table>\n",
       "<p>927 rows × 9 columns</p>\n",
       "</div>"
      ],
      "text/plain": [
       "         Doctor_Name   specialization  avg_rate  \\\n",
       "0    Salim El-Shazly  Physiotherapist  5.000000   \n",
       "1    Hassan El-Kholy    Dermatologist  4.500000   \n",
       "2    Mohamed Youssef      Orthopedist  4.500000   \n",
       "3    Jamal El-Kassas     Gynecologist  4.758471   \n",
       "4        Nader Fahmy    Dermatologist  5.000000   \n",
       "..               ...              ...       ...   \n",
       "922   Hani El-Kassas        Urologist  4.000000   \n",
       "923     Zein Hussein     Hepatologist  4.000000   \n",
       "924     Salim Nasser     Gynecologist  4.500000   \n",
       "925     Rania Khalil        Internist  4.000000   \n",
       "926       Nour Fathy  Ophthalmologist  5.000000   \n",
       "\n",
       "                     clinic_location                    Category  \\\n",
       "0                        El-Mansoura             Musculoskeletal   \n",
       "1                       El-Ibrahimia                        Skin   \n",
       "2                     6th of October             Musculoskeletal   \n",
       "3                           El-Haram    Urinary and Reproductive   \n",
       "4                          Nasr City                        Skin   \n",
       "..                               ...                         ...   \n",
       "922  El-Mohandessin :  shehab street    Urinary and Reproductive   \n",
       "923              El-Dokki : altahrir  Gastrointestinal and Liver   \n",
       "924      El-Mansoura : abbasi street    Urinary and Reproductive   \n",
       "925                           Faisal                      Others   \n",
       "926  Faisal : 27elshahid Ahmad Hamdy           Eye, Ear and Nose   \n",
       "\n",
       "    general_location  Unnamed: 0   latitude  longitude  \n",
       "0        El-Mansoura         0.0  36.786091   9.900016  \n",
       "1       El-Ibrahimia         1.0  28.424375  30.793289  \n",
       "2     6th of October         2.0  29.972346  30.940921  \n",
       "3           El-Haram         3.0  29.994266  31.160459  \n",
       "4          Nasr City         4.0  30.052118  31.342205  \n",
       "..               ...         ...        ...        ...  \n",
       "922   El-Mohandessin         NaN        NaN        NaN  \n",
       "923         El-Dokki         NaN        NaN        NaN  \n",
       "924      El-Mansoura         NaN        NaN        NaN  \n",
       "925           Faisal        75.0  30.097883  32.485650  \n",
       "926           Faisal         NaN        NaN        NaN  \n",
       "\n",
       "[927 rows x 9 columns]"
      ]
     },
     "execution_count": 222,
     "metadata": {},
     "output_type": "execute_result"
    }
   ],
   "source": [
    "df_merged = pd.merge(df, exact, on='clinic_location', how='left')\n",
    "df_merged"
   ]
  },
  {
   "cell_type": "code",
   "execution_count": 223,
   "id": "43533ec6-333c-454a-9e8e-ad83c1fce575",
   "metadata": {},
   "outputs": [
    {
     "data": {
      "text/plain": [
       "Doctor_Name           0\n",
       "specialization        0\n",
       "avg_rate              0\n",
       "clinic_location       0\n",
       "Category              0\n",
       "general_location      0\n",
       "Unnamed: 0          567\n",
       "latitude            567\n",
       "longitude           567\n",
       "dtype: int64"
      ]
     },
     "execution_count": 223,
     "metadata": {},
     "output_type": "execute_result"
    }
   ],
   "source": [
    "df_merged.isna().sum()"
   ]
  },
  {
   "cell_type": "markdown",
   "id": "09e68d74-7515-432f-9f6f-4d6b70f82cb3",
   "metadata": {},
   "source": [
    "#### General Locations</h3>"
   ]
  },
  {
   "cell_type": "code",
   "execution_count": 224,
   "id": "c091c795-f5c2-42ad-986c-d2b1998649b8",
   "metadata": {},
   "outputs": [],
   "source": [
    "df['general_location'] =df['clinic_location'].str.split(':').str[0].str.strip()"
   ]
  },
  {
   "cell_type": "code",
   "execution_count": 225,
   "id": "eec31db9-7213-4154-baa2-b2c9c520502b",
   "metadata": {},
   "outputs": [],
   "source": [
    "df_merged['general_location'] =df['general_location']\n",
    "general['general_location'] =df['general_location']"
   ]
  },
  {
   "cell_type": "code",
   "execution_count": 226,
   "id": "4c52b0f2-7daa-4b3f-bc31-07e52c32778a",
   "metadata": {},
   "outputs": [
    {
     "name": "stdout",
     "output_type": "stream",
     "text": [
      "✅ Merged all locations with latitude and longitude successfully!\n"
     ]
    }
   ],
   "source": [
    "\n",
    "\n",
    "df_merged = pd.merge(\n",
    "    df_merged,\n",
    "    general,\n",
    "    on='general_location',\n",
    "    how='left',\n",
    "    suffixes=('_exact', '_general')\n",
    ")\n",
    "\n",
    "df_merged['latitude'] = df_merged['latitude_exact'].combine_first(df_merged['latitude_general'])\n",
    "df_merged['longitude'] = df_merged['longitude_exact'].combine_first(df_merged['longitude_general'])\n",
    "\n",
    "print(\"✅ Merged all locations with latitude and longitude successfully!\")\n"
   ]
  },
  {
   "cell_type": "code",
   "execution_count": 227,
   "id": "d71a6cd7-c621-4475-b74b-946f4acbf7f1",
   "metadata": {},
   "outputs": [
    {
     "data": {
      "text/html": [
       "<div>\n",
       "<style scoped>\n",
       "    .dataframe tbody tr th:only-of-type {\n",
       "        vertical-align: middle;\n",
       "    }\n",
       "\n",
       "    .dataframe tbody tr th {\n",
       "        vertical-align: top;\n",
       "    }\n",
       "\n",
       "    .dataframe thead th {\n",
       "        text-align: right;\n",
       "    }\n",
       "</style>\n",
       "<table border=\"1\" class=\"dataframe\">\n",
       "  <thead>\n",
       "    <tr style=\"text-align: right;\">\n",
       "      <th></th>\n",
       "      <th>Doctor_Name</th>\n",
       "      <th>specialization</th>\n",
       "      <th>avg_rate</th>\n",
       "      <th>clinic_location</th>\n",
       "      <th>Category</th>\n",
       "      <th>general_location</th>\n",
       "      <th>Unnamed: 0</th>\n",
       "      <th>latitude_exact</th>\n",
       "      <th>longitude_exact</th>\n",
       "      <th>latitude_general</th>\n",
       "      <th>longitude_general</th>\n",
       "      <th>latitude</th>\n",
       "      <th>longitude</th>\n",
       "    </tr>\n",
       "  </thead>\n",
       "  <tbody>\n",
       "    <tr>\n",
       "      <th>0</th>\n",
       "      <td>Salim El-Shazly</td>\n",
       "      <td>Physiotherapist</td>\n",
       "      <td>5.0</td>\n",
       "      <td>El-Mansoura</td>\n",
       "      <td>Musculoskeletal</td>\n",
       "      <td>El-Mansoura</td>\n",
       "      <td>0.0</td>\n",
       "      <td>36.786091</td>\n",
       "      <td>9.900016</td>\n",
       "      <td>36.611709</td>\n",
       "      <td>4.668088</td>\n",
       "      <td>36.786091</td>\n",
       "      <td>9.900016</td>\n",
       "    </tr>\n",
       "    <tr>\n",
       "      <th>1</th>\n",
       "      <td>Salim El-Shazly</td>\n",
       "      <td>Physiotherapist</td>\n",
       "      <td>5.0</td>\n",
       "      <td>El-Mansoura</td>\n",
       "      <td>Musculoskeletal</td>\n",
       "      <td>El-Mansoura</td>\n",
       "      <td>0.0</td>\n",
       "      <td>36.786091</td>\n",
       "      <td>9.900016</td>\n",
       "      <td>-23.446156</td>\n",
       "      <td>-51.886196</td>\n",
       "      <td>36.786091</td>\n",
       "      <td>9.900016</td>\n",
       "    </tr>\n",
       "    <tr>\n",
       "      <th>2</th>\n",
       "      <td>Salim El-Shazly</td>\n",
       "      <td>Physiotherapist</td>\n",
       "      <td>5.0</td>\n",
       "      <td>El-Mansoura</td>\n",
       "      <td>Musculoskeletal</td>\n",
       "      <td>El-Mansoura</td>\n",
       "      <td>0.0</td>\n",
       "      <td>36.786091</td>\n",
       "      <td>9.900016</td>\n",
       "      <td>28.499169</td>\n",
       "      <td>30.806664</td>\n",
       "      <td>36.786091</td>\n",
       "      <td>9.900016</td>\n",
       "    </tr>\n",
       "    <tr>\n",
       "      <th>3</th>\n",
       "      <td>Salim El-Shazly</td>\n",
       "      <td>Physiotherapist</td>\n",
       "      <td>5.0</td>\n",
       "      <td>El-Mansoura</td>\n",
       "      <td>Musculoskeletal</td>\n",
       "      <td>El-Mansoura</td>\n",
       "      <td>0.0</td>\n",
       "      <td>36.786091</td>\n",
       "      <td>9.900016</td>\n",
       "      <td>26.121659</td>\n",
       "      <td>34.255348</td>\n",
       "      <td>36.786091</td>\n",
       "      <td>9.900016</td>\n",
       "    </tr>\n",
       "    <tr>\n",
       "      <th>4</th>\n",
       "      <td>Salim El-Shazly</td>\n",
       "      <td>Physiotherapist</td>\n",
       "      <td>5.0</td>\n",
       "      <td>El-Mansoura</td>\n",
       "      <td>Musculoskeletal</td>\n",
       "      <td>El-Mansoura</td>\n",
       "      <td>0.0</td>\n",
       "      <td>36.786091</td>\n",
       "      <td>9.900016</td>\n",
       "      <td>30.999851</td>\n",
       "      <td>29.729649</td>\n",
       "      <td>36.786091</td>\n",
       "      <td>9.900016</td>\n",
       "    </tr>\n",
       "    <tr>\n",
       "      <th>...</th>\n",
       "      <td>...</td>\n",
       "      <td>...</td>\n",
       "      <td>...</td>\n",
       "      <td>...</td>\n",
       "      <td>...</td>\n",
       "      <td>...</td>\n",
       "      <td>...</td>\n",
       "      <td>...</td>\n",
       "      <td>...</td>\n",
       "      <td>...</td>\n",
       "      <td>...</td>\n",
       "      <td>...</td>\n",
       "      <td>...</td>\n",
       "    </tr>\n",
       "    <tr>\n",
       "      <th>2745</th>\n",
       "      <td>Hani El-Kassas</td>\n",
       "      <td>Urologist</td>\n",
       "      <td>4.0</td>\n",
       "      <td>El-Mohandessin :  shehab street</td>\n",
       "      <td>Urinary and Reproductive</td>\n",
       "      <td>El-Mansoura</td>\n",
       "      <td>NaN</td>\n",
       "      <td>NaN</td>\n",
       "      <td>NaN</td>\n",
       "      <td>53.902587</td>\n",
       "      <td>-130.099073</td>\n",
       "      <td>53.902587</td>\n",
       "      <td>-130.099073</td>\n",
       "    </tr>\n",
       "    <tr>\n",
       "      <th>2746</th>\n",
       "      <td>Zein Hussein</td>\n",
       "      <td>Hepatologist</td>\n",
       "      <td>4.0</td>\n",
       "      <td>El-Dokki : altahrir</td>\n",
       "      <td>Gastrointestinal and Liver</td>\n",
       "      <td>NaN</td>\n",
       "      <td>NaN</td>\n",
       "      <td>NaN</td>\n",
       "      <td>NaN</td>\n",
       "      <td>NaN</td>\n",
       "      <td>NaN</td>\n",
       "      <td>NaN</td>\n",
       "      <td>NaN</td>\n",
       "    </tr>\n",
       "    <tr>\n",
       "      <th>2747</th>\n",
       "      <td>Salim Nasser</td>\n",
       "      <td>Gynecologist</td>\n",
       "      <td>4.5</td>\n",
       "      <td>El-Mansoura : abbasi street</td>\n",
       "      <td>Urinary and Reproductive</td>\n",
       "      <td>NaN</td>\n",
       "      <td>NaN</td>\n",
       "      <td>NaN</td>\n",
       "      <td>NaN</td>\n",
       "      <td>NaN</td>\n",
       "      <td>NaN</td>\n",
       "      <td>NaN</td>\n",
       "      <td>NaN</td>\n",
       "    </tr>\n",
       "    <tr>\n",
       "      <th>2748</th>\n",
       "      <td>Rania Khalil</td>\n",
       "      <td>Internist</td>\n",
       "      <td>4.0</td>\n",
       "      <td>Faisal</td>\n",
       "      <td>Others</td>\n",
       "      <td>NaN</td>\n",
       "      <td>75.0</td>\n",
       "      <td>30.097883</td>\n",
       "      <td>32.485650</td>\n",
       "      <td>NaN</td>\n",
       "      <td>NaN</td>\n",
       "      <td>30.097883</td>\n",
       "      <td>32.485650</td>\n",
       "    </tr>\n",
       "    <tr>\n",
       "      <th>2749</th>\n",
       "      <td>Nour Fathy</td>\n",
       "      <td>Ophthalmologist</td>\n",
       "      <td>5.0</td>\n",
       "      <td>Faisal : 27elshahid Ahmad Hamdy</td>\n",
       "      <td>Eye, Ear and Nose</td>\n",
       "      <td>NaN</td>\n",
       "      <td>NaN</td>\n",
       "      <td>NaN</td>\n",
       "      <td>NaN</td>\n",
       "      <td>NaN</td>\n",
       "      <td>NaN</td>\n",
       "      <td>NaN</td>\n",
       "      <td>NaN</td>\n",
       "    </tr>\n",
       "  </tbody>\n",
       "</table>\n",
       "<p>2750 rows × 13 columns</p>\n",
       "</div>"
      ],
      "text/plain": [
       "          Doctor_Name   specialization  avg_rate  \\\n",
       "0     Salim El-Shazly  Physiotherapist       5.0   \n",
       "1     Salim El-Shazly  Physiotherapist       5.0   \n",
       "2     Salim El-Shazly  Physiotherapist       5.0   \n",
       "3     Salim El-Shazly  Physiotherapist       5.0   \n",
       "4     Salim El-Shazly  Physiotherapist       5.0   \n",
       "...               ...              ...       ...   \n",
       "2745   Hani El-Kassas        Urologist       4.0   \n",
       "2746     Zein Hussein     Hepatologist       4.0   \n",
       "2747     Salim Nasser     Gynecologist       4.5   \n",
       "2748     Rania Khalil        Internist       4.0   \n",
       "2749       Nour Fathy  Ophthalmologist       5.0   \n",
       "\n",
       "                      clinic_location                    Category  \\\n",
       "0                         El-Mansoura             Musculoskeletal   \n",
       "1                         El-Mansoura             Musculoskeletal   \n",
       "2                         El-Mansoura             Musculoskeletal   \n",
       "3                         El-Mansoura             Musculoskeletal   \n",
       "4                         El-Mansoura             Musculoskeletal   \n",
       "...                               ...                         ...   \n",
       "2745  El-Mohandessin :  shehab street    Urinary and Reproductive   \n",
       "2746              El-Dokki : altahrir  Gastrointestinal and Liver   \n",
       "2747      El-Mansoura : abbasi street    Urinary and Reproductive   \n",
       "2748                           Faisal                      Others   \n",
       "2749  Faisal : 27elshahid Ahmad Hamdy           Eye, Ear and Nose   \n",
       "\n",
       "     general_location  Unnamed: 0  latitude_exact  longitude_exact  \\\n",
       "0         El-Mansoura         0.0       36.786091         9.900016   \n",
       "1         El-Mansoura         0.0       36.786091         9.900016   \n",
       "2         El-Mansoura         0.0       36.786091         9.900016   \n",
       "3         El-Mansoura         0.0       36.786091         9.900016   \n",
       "4         El-Mansoura         0.0       36.786091         9.900016   \n",
       "...               ...         ...             ...              ...   \n",
       "2745      El-Mansoura         NaN             NaN              NaN   \n",
       "2746              NaN         NaN             NaN              NaN   \n",
       "2747              NaN         NaN             NaN              NaN   \n",
       "2748              NaN        75.0       30.097883        32.485650   \n",
       "2749              NaN         NaN             NaN              NaN   \n",
       "\n",
       "      latitude_general  longitude_general   latitude   longitude  \n",
       "0            36.611709           4.668088  36.786091    9.900016  \n",
       "1           -23.446156         -51.886196  36.786091    9.900016  \n",
       "2            28.499169          30.806664  36.786091    9.900016  \n",
       "3            26.121659          34.255348  36.786091    9.900016  \n",
       "4            30.999851          29.729649  36.786091    9.900016  \n",
       "...                ...                ...        ...         ...  \n",
       "2745         53.902587        -130.099073  53.902587 -130.099073  \n",
       "2746               NaN                NaN        NaN         NaN  \n",
       "2747               NaN                NaN        NaN         NaN  \n",
       "2748               NaN                NaN  30.097883   32.485650  \n",
       "2749               NaN                NaN        NaN         NaN  \n",
       "\n",
       "[2750 rows x 13 columns]"
      ]
     },
     "execution_count": 227,
     "metadata": {},
     "output_type": "execute_result"
    }
   ],
   "source": [
    "df_merged"
   ]
  },
  {
   "cell_type": "code",
   "execution_count": 228,
   "id": "3d903b19-7719-4f4b-a247-0841e39775c6",
   "metadata": {},
   "outputs": [
    {
     "data": {
      "text/plain": [
       "Doctor_Name             0\n",
       "specialization          0\n",
       "avg_rate                0\n",
       "clinic_location         0\n",
       "Category                0\n",
       "general_location      150\n",
       "Unnamed: 0           1453\n",
       "latitude_exact       1453\n",
       "longitude_exact      1453\n",
       "latitude_general      387\n",
       "longitude_general     387\n",
       "latitude              284\n",
       "longitude             284\n",
       "dtype: int64"
      ]
     },
     "execution_count": 228,
     "metadata": {},
     "output_type": "execute_result"
    }
   ],
   "source": [
    "df_merged.isna().sum()"
   ]
  },
  {
   "cell_type": "code",
   "execution_count": null,
   "id": "44485950-86c7-44ec-895f-7b5f04a0d2be",
   "metadata": {},
   "outputs": [],
   "source": []
  },
  {
   "cell_type": "code",
   "execution_count": 229,
   "id": "d2287321-e074-447d-bb6a-a6f33d4ff122",
   "metadata": {},
   "outputs": [],
   "source": [
    "df_merged=df_merged[['Doctor_Name','specialization','avg_rate','clinic_location','Category','latitude','longitude']]"
   ]
  },
  {
   "cell_type": "markdown",
   "id": "d859833b-7e0e-4d6b-9a6c-64457c8f4aa0",
   "metadata": {},
   "source": [
    "#### Fill missed location longitude , latitude with 0 (it is not true but to complete EDA)"
   ]
  },
  {
   "cell_type": "code",
   "execution_count": 230,
   "id": "f79c6bfa-fc0d-48ec-a51b-ab29d7364718",
   "metadata": {},
   "outputs": [],
   "source": [
    "df_merged=df_merged.fillna(0)"
   ]
  },
  {
   "cell_type": "code",
   "execution_count": 231,
   "id": "9db6e0c9-2260-4070-a22d-82f27b372ff0",
   "metadata": {},
   "outputs": [
    {
     "data": {
      "text/plain": [
       "Doctor_Name        0\n",
       "specialization     0\n",
       "avg_rate           0\n",
       "clinic_location    0\n",
       "Category           0\n",
       "latitude           0\n",
       "longitude          0\n",
       "dtype: int64"
      ]
     },
     "execution_count": 231,
     "metadata": {},
     "output_type": "execute_result"
    }
   ],
   "source": [
    "df_merged.isna().sum()"
   ]
  },
  {
   "cell_type": "markdown",
   "id": "d4a40810-0583-4ba8-a704-2f6566840cf5",
   "metadata": {},
   "source": [
    "### Validate Locations inside Egypt</h3>"
   ]
  },
  {
   "cell_type": "code",
   "execution_count": 232,
   "id": "f92dce5e-dcb0-46cb-bc0e-cd081a98e05c",
   "metadata": {},
   "outputs": [
    {
     "name": "stdout",
     "output_type": "stream",
     "text": [
      "✅ Updated DataFrame saved\n"
     ]
    }
   ],
   "source": [
    "import numpy as np\n",
    "\n",
    "df_merged['latitude'] = pd.to_numeric(df_merged['latitude'], errors='coerce')\n",
    "df_merged['longitude'] = pd.to_numeric(df_merged['longitude'], errors='coerce')\n",
    "\n",
    "lat_min, lat_max = 22, 32\n",
    "lon_min, lon_max = 25, 35\n",
    "\n",
    "df_merged.loc[\n",
    "    (df_merged['latitude'] < lat_min) | (df_merged['latitude'] > lat_max) |\n",
    "    (df_merged['longitude'] < lon_min) | (df_merged['longitude'] > lon_max),\n",
    "    ['latitude', 'longitude']\n",
    "] = np.nan\n",
    "\n",
    "df.to_csv(\"final_doctors.csv\", index=False)\n",
    "\n",
    "print(\"✅ Updated DataFrame saved\")\n"
   ]
  },
  {
   "cell_type": "markdown",
   "id": "e83e81be-0711-43c6-aba5-dfcc25e5dc27",
   "metadata": {},
   "source": [
    "## Result : df_merged Dataset (final_doctors.csv)"
   ]
  },
  {
   "cell_type": "code",
   "execution_count": 235,
   "id": "8e3d4a23-9f43-4606-98bc-38dc9267024e",
   "metadata": {},
   "outputs": [
    {
     "data": {
      "text/html": [
       "<div>\n",
       "<style scoped>\n",
       "    .dataframe tbody tr th:only-of-type {\n",
       "        vertical-align: middle;\n",
       "    }\n",
       "\n",
       "    .dataframe tbody tr th {\n",
       "        vertical-align: top;\n",
       "    }\n",
       "\n",
       "    .dataframe thead th {\n",
       "        text-align: right;\n",
       "    }\n",
       "</style>\n",
       "<table border=\"1\" class=\"dataframe\">\n",
       "  <thead>\n",
       "    <tr style=\"text-align: right;\">\n",
       "      <th></th>\n",
       "      <th>Doctor_Name</th>\n",
       "      <th>specialization</th>\n",
       "      <th>avg_rate</th>\n",
       "      <th>clinic_location</th>\n",
       "      <th>Category</th>\n",
       "      <th>latitude</th>\n",
       "      <th>longitude</th>\n",
       "    </tr>\n",
       "  </thead>\n",
       "  <tbody>\n",
       "    <tr>\n",
       "      <th>0</th>\n",
       "      <td>Salim El-Shazly</td>\n",
       "      <td>Physiotherapist</td>\n",
       "      <td>5.000000</td>\n",
       "      <td>El-Mansoura</td>\n",
       "      <td>Musculoskeletal</td>\n",
       "      <td>NaN</td>\n",
       "      <td>NaN</td>\n",
       "    </tr>\n",
       "    <tr>\n",
       "      <th>6</th>\n",
       "      <td>Hassan El-Kholy</td>\n",
       "      <td>Dermatologist</td>\n",
       "      <td>4.500000</td>\n",
       "      <td>El-Ibrahimia</td>\n",
       "      <td>Skin</td>\n",
       "      <td>28.424375</td>\n",
       "      <td>30.793289</td>\n",
       "    </tr>\n",
       "    <tr>\n",
       "      <th>9</th>\n",
       "      <td>Mohamed Youssef</td>\n",
       "      <td>Orthopedist</td>\n",
       "      <td>4.500000</td>\n",
       "      <td>6th of October</td>\n",
       "      <td>Musculoskeletal</td>\n",
       "      <td>29.972346</td>\n",
       "      <td>30.940921</td>\n",
       "    </tr>\n",
       "    <tr>\n",
       "      <th>13</th>\n",
       "      <td>Jamal El-Kassas</td>\n",
       "      <td>Gynecologist</td>\n",
       "      <td>4.758471</td>\n",
       "      <td>El-Haram</td>\n",
       "      <td>Urinary and Reproductive</td>\n",
       "      <td>29.994266</td>\n",
       "      <td>31.160459</td>\n",
       "    </tr>\n",
       "    <tr>\n",
       "      <th>16</th>\n",
       "      <td>Nader Fahmy</td>\n",
       "      <td>Dermatologist</td>\n",
       "      <td>5.000000</td>\n",
       "      <td>Nasr City</td>\n",
       "      <td>Skin</td>\n",
       "      <td>30.052118</td>\n",
       "      <td>31.342205</td>\n",
       "    </tr>\n",
       "    <tr>\n",
       "      <th>...</th>\n",
       "      <td>...</td>\n",
       "      <td>...</td>\n",
       "      <td>...</td>\n",
       "      <td>...</td>\n",
       "      <td>...</td>\n",
       "      <td>...</td>\n",
       "      <td>...</td>\n",
       "    </tr>\n",
       "    <tr>\n",
       "      <th>2740</th>\n",
       "      <td>Hani El-Kassas</td>\n",
       "      <td>Urologist</td>\n",
       "      <td>4.000000</td>\n",
       "      <td>El-Mohandessin :  shehab street</td>\n",
       "      <td>Urinary and Reproductive</td>\n",
       "      <td>NaN</td>\n",
       "      <td>NaN</td>\n",
       "    </tr>\n",
       "    <tr>\n",
       "      <th>2746</th>\n",
       "      <td>Zein Hussein</td>\n",
       "      <td>Hepatologist</td>\n",
       "      <td>4.000000</td>\n",
       "      <td>El-Dokki : altahrir</td>\n",
       "      <td>Gastrointestinal and Liver</td>\n",
       "      <td>NaN</td>\n",
       "      <td>NaN</td>\n",
       "    </tr>\n",
       "    <tr>\n",
       "      <th>2747</th>\n",
       "      <td>Salim Nasser</td>\n",
       "      <td>Gynecologist</td>\n",
       "      <td>4.500000</td>\n",
       "      <td>El-Mansoura : abbasi street</td>\n",
       "      <td>Urinary and Reproductive</td>\n",
       "      <td>NaN</td>\n",
       "      <td>NaN</td>\n",
       "    </tr>\n",
       "    <tr>\n",
       "      <th>2748</th>\n",
       "      <td>Rania Khalil</td>\n",
       "      <td>Internist</td>\n",
       "      <td>4.000000</td>\n",
       "      <td>Faisal</td>\n",
       "      <td>Others</td>\n",
       "      <td>30.097883</td>\n",
       "      <td>32.485650</td>\n",
       "    </tr>\n",
       "    <tr>\n",
       "      <th>2749</th>\n",
       "      <td>Nour Fathy</td>\n",
       "      <td>Ophthalmologist</td>\n",
       "      <td>5.000000</td>\n",
       "      <td>Faisal : 27elshahid Ahmad Hamdy</td>\n",
       "      <td>Eye, Ear and Nose</td>\n",
       "      <td>NaN</td>\n",
       "      <td>NaN</td>\n",
       "    </tr>\n",
       "  </tbody>\n",
       "</table>\n",
       "<p>927 rows × 7 columns</p>\n",
       "</div>"
      ],
      "text/plain": [
       "          Doctor_Name   specialization  avg_rate  \\\n",
       "0     Salim El-Shazly  Physiotherapist  5.000000   \n",
       "6     Hassan El-Kholy    Dermatologist  4.500000   \n",
       "9     Mohamed Youssef      Orthopedist  4.500000   \n",
       "13    Jamal El-Kassas     Gynecologist  4.758471   \n",
       "16        Nader Fahmy    Dermatologist  5.000000   \n",
       "...               ...              ...       ...   \n",
       "2740   Hani El-Kassas        Urologist  4.000000   \n",
       "2746     Zein Hussein     Hepatologist  4.000000   \n",
       "2747     Salim Nasser     Gynecologist  4.500000   \n",
       "2748     Rania Khalil        Internist  4.000000   \n",
       "2749       Nour Fathy  Ophthalmologist  5.000000   \n",
       "\n",
       "                      clinic_location                    Category   latitude  \\\n",
       "0                         El-Mansoura             Musculoskeletal        NaN   \n",
       "6                        El-Ibrahimia                        Skin  28.424375   \n",
       "9                      6th of October             Musculoskeletal  29.972346   \n",
       "13                           El-Haram    Urinary and Reproductive  29.994266   \n",
       "16                          Nasr City                        Skin  30.052118   \n",
       "...                               ...                         ...        ...   \n",
       "2740  El-Mohandessin :  shehab street    Urinary and Reproductive        NaN   \n",
       "2746              El-Dokki : altahrir  Gastrointestinal and Liver        NaN   \n",
       "2747      El-Mansoura : abbasi street    Urinary and Reproductive        NaN   \n",
       "2748                           Faisal                      Others  30.097883   \n",
       "2749  Faisal : 27elshahid Ahmad Hamdy           Eye, Ear and Nose        NaN   \n",
       "\n",
       "      longitude  \n",
       "0           NaN  \n",
       "6     30.793289  \n",
       "9     30.940921  \n",
       "13    31.160459  \n",
       "16    31.342205  \n",
       "...         ...  \n",
       "2740        NaN  \n",
       "2746        NaN  \n",
       "2747        NaN  \n",
       "2748  32.485650  \n",
       "2749        NaN  \n",
       "\n",
       "[927 rows x 7 columns]"
      ]
     },
     "execution_count": 235,
     "metadata": {},
     "output_type": "execute_result"
    }
   ],
   "source": [
    "df_merged = df_merged.drop_duplicates(subset=[\"Doctor_Name\"])\n",
    "df_merged"
   ]
  },
  {
   "cell_type": "markdown",
   "id": "458845e3-fc8d-4f20-87d2-e67d49a99d58",
   "metadata": {},
   "source": [
    "# EDA"
   ]
  },
  {
   "cell_type": "markdown",
   "id": "bba4d429-2225-4a2e-8c6d-70b417fd5363",
   "metadata": {},
   "source": [
    "## Color map uniformity"
   ]
  },
  {
   "cell_type": "code",
   "execution_count": 236,
   "id": "229d2e25-e1b0-4491-8cb0-71abf7ad5a76",
   "metadata": {},
   "outputs": [],
   "source": [
    "import seaborn as sns\n",
    "import matplotlib.pyplot as plt\n",
    "\n",
    "colors = sns.color_palette(\"Reds\", n_colors=10)\n"
   ]
  },
  {
   "cell_type": "markdown",
   "id": "4cbe7192-434d-4ea1-9ccd-7de7c45d9604",
   "metadata": {},
   "source": [
    "## Separate Categorical Columns from Numerical Columns"
   ]
  },
  {
   "cell_type": "code",
   "execution_count": 237,
   "id": "8c9e02cf-f0ae-4638-9eb9-44345c6d1b3b",
   "metadata": {},
   "outputs": [
    {
     "data": {
      "text/plain": [
       "Index(['avg_rate', 'latitude', 'longitude'], dtype='object')"
      ]
     },
     "execution_count": 237,
     "metadata": {},
     "output_type": "execute_result"
    }
   ],
   "source": [
    "num=df_merged.select_dtypes(include=['int64','float64'])\n",
    "cat=df_merged.select_dtypes(include=['object'])\n",
    "num.columns"
   ]
  },
  {
   "cell_type": "code",
   "execution_count": 238,
   "id": "5bf18525-22eb-40e7-8649-1acfd86dd411",
   "metadata": {},
   "outputs": [
    {
     "data": {
      "image/png": "[encoded data removed]",
      "text/plain": [
       "<Figure size 640x480 with 1 Axes>"
      ]
     },
     "metadata": {},
     "output_type": "display_data"
    },
    {
     "data": {
      "image/png": "[encoded data removed]",
      "text/plain": [
       "<Figure size 640x480 with 1 Axes>"
      ]
     },
     "metadata": {},
     "output_type": "display_data"
    },
    {
     "data": {
      "image/png": "[encoded data removed]",
      "text/plain": [
       "<Figure size 640x480 with 1 Axes>"
      ]
     },
     "metadata": {},
     "output_type": "display_data"
    }
   ],
   "source": [
    "import seaborn as sns\n",
    "import matplotlib.pyplot as plt\n",
    "\n",
    "for col in cat.drop('Doctor_Name',axis=1):\n",
    "    counts = df_merged[col].value_counts()\n",
    "    plt.pie(\n",
    "        counts.head(5).values,\n",
    "        labels=counts.head(5).index,\n",
    "        colors=colors[:len(counts)],   \n",
    "        autopct='%1.1f%%',\n",
    "        startangle=90\n",
    "    )\n",
    "    plt.title(f\"Top 5 {col}\")\n",
    "    plt.show()\n",
    "    "
   ]
  },
  {
   "cell_type": "markdown",
   "id": "f1808948-09e8-492a-a107-4a53790bb69c",
   "metadata": {},
   "source": [
    "## Clinics Distribution"
   ]
  },
  {
   "cell_type": "code",
   "execution_count": 239,
   "id": "188d8470-daa6-4632-a8ec-5a013600f5a4",
   "metadata": {},
   "outputs": [
    {
     "data": {
      "application/vnd.plotly.v1+json": {
       "config": {
        "plotlyServerURL": "https://plot.ly"
       },
       "data": [
        {
         "hovertemplate": "<b>%{hovertext}</b><br><br>latitude=%{lat}<br>longitude=%{lon}<extra></extra>",
         "hovertext": [
          "El-Ibrahimia",
          "6th of October",
          "El-Haram",
          "Nasr City",
          "El-Dokki",
          "El-Dokki",
          "El-Dokki",
          "6th of October",
          "Yousef Abbas",
          "Nasr City",
          "Nasr City",
          "Shoubra El-Kheima : 15th may",
          "Moharam Bek : moharam bek",
          "El-Dokki",
          "Nasr City : Zaker Hussien Street-District 7",
          "El-Dokki",
          "Nasr City : Ibrahim Nawar parallel to Ahmed Fakhry - Sixth Region.",
          "Shoubra El-Kheima",
          "El-Zagazig : al kwmya street",
          "Shoubra",
          "New Cairo : beside new cairo court",
          "El-Mokattam : Street 9",
          "El-Sheikh Zayed : Mouez plaza-",
          "El-Giza : Morad street",
          "Shoubra El-Kheima : 15 May, St.",
          "El-Ibrahimia",
          "6th of October",
          "El-Haram",
          "Nasr City",
          "Hadayek El-Ahram",
          "El-Abbasia",
          "El-Mokattam",
          "Faisal : faisal main street",
          "New Cairo",
          "Nasr City : Ahmed qasim branched from abbas elakaad",
          "Sidy Bishr : 196 Gamal Abdelnasser st, - Beside Baba Sharo.",
          "Faisal : Huda Mosque Street",
          "Nasr City : metwally el shaarawy",
          "Faisal : gendia  mall _eltawabek",
          "El-Zagazig : mahmoud hashem street-Kawmya",
          "El-Dokki : Wezaret El Zeraa Street",
          "Faisal : 106 king fisal above ahli bank front of vodafone maryotya",
          "Sidy Bishr",
          "New Cairo : 90",
          "Hadayek El-Ahram : Fifth North Street after Menkaure Gate",
          "Shoubra : shikolany",
          "El-Sayeda Zainab : A Elkasr Eleini",
          "Sidy Bishr : Alaman st. from sidi Beshr mosque st.",
          "El-Ibrahimia",
          "6th of October",
          "El-Haram",
          "Nasr City",
          "El-Zagazig",
          "El-Zagazig : mahmoud hashem street-Kawmya",
          "El-Mokattam",
          "Faisal : gendia  mall _eltawabek",
          "El-Dokki : Wezaret El Zeraa Street",
          "El-Zagazig : ,  El Obour Bridge extension",
          "Shoubra : shoubra street",
          "El-Fayoum city",
          "Hadayek El-Ahram : Fifth North Street after Menkaure Gate",
          "New Cairo : 90",
          "Sidy Bishr",
          "Heliopolis : othman ibn affan",
          "Shoubra : shikolany",
          "El-Mokattam",
          "Faisal : 106 king fisal above ahli bank front of vodafone maryotya",
          "El-Sayeda Zainab : A Elkasr Eleini",
          "El-Zagazig : next to sednawy hospital",
          "Hadayek El-Ahram : Gardenia Street",
          "6th of October",
          "New Cairo : El Narges Services Area",
          "Sidy Bishr : Alaman st. from sidi Beshr mosque st.",
          "Nasr City :  Mohamed Almakreif",
          "Hadayek El-Ahram : elgish street",
          "Faisal : fisal street",
          "Sidy Bishr : 41 Albekbashy Elesawy st., in front of the Computer Mall.",
          "El-Ibrahimia",
          "6th of October",
          "El-Haram",
          "Nasr City",
          "El-Dokki",
          "El-Dokki : Tiba St from Gamaet Dwol",
          "El-Dokki",
          "El-Dokki",
          "6th of October : in front of wadi degla club",
          "Faisal",
          "Helwan",
          "El-Haram : Station Mashaal",
          "Hadayek El-Ahram : z",
          "Shoubra El-Kheima",
          "Menouf",
          "El-Sheikh Zayed : twin tower -",
          "El-Ibrahimia",
          "6th of October",
          "El-Haram",
          "Nasr City",
          "Mahatet El-Raml",
          "El-Dokki",
          "El-Dokki",
          "El-Dokki : Tahrir Street-infront Of Asad Abn Elfourat mosque",
          "Nasr City",
          "Shoubra El-Kheima",
          "Menouf",
          "El-Sheikh Zayed : twin tower -",
          "Miamy : gamal abdelnasser",
          "El-Dokki",
          "Banha : El Ashraf Street",
          "Moharam Bek : moharm bek st",
          "6th of October : in front of wadi degla club",
          "Faisal",
          "El-Ibrahimia",
          "6th of October",
          "El-Haram",
          "Nasr City",
          "El-Haram : Station Mashaal",
          "El-Dokki : Mosdak Street",
          "El-Sheikh Zayed : twin tower -",
          "6th of October : in front of wadi degla club",
          "Faisal",
          "Mahalla : Talaat Harb street",
          "El-Dokki",
          "Maadi Ring Road",
          "Hadayek El-Ahram : z",
          "El-Dokki",
          "El-Giza : Hamadan",
          "6th of October : al mehwar al markzi",
          "Nasr City",
          "El-Ibrahimia",
          "6th of October",
          "El-Haram",
          "Nasr City",
          "Helwan",
          "Mahalla : Talaat Harb street",
          "El-Ibrahimia",
          "El-Zagazig : tolba eweda street infront of salah salem hospital above lcwikiki",
          "El-Dokki",
          "Maadi Ring Road",
          "Hadayek El-Ahram : z",
          "El-Dokki",
          "El-Giza : Hamadan",
          "6th of October : al mehwar al markzi",
          "El-Dokki : Musadak Street-Infront Of Dunkin Donuts",
          "Nasr City : Mostafa elnhas St",
          "El-Maadi : 9th St.",
          "Nasr City",
          "El-Mokattam : 9 street",
          "6th of October",
          "Hadayek El-Ahram : first entrance of first gate",
          "Hadayek El-Ahram : El Geish street",
          "El-Mokattam",
          "El-Rehab",
          "El-Mokattam : 9 street",
          "Hadayek El-Ahram",
          "Hadayek El-Ahram",
          "6th of October : Borie Plaza 1-Elhossary Square",
          "El-Ibrahimia",
          "6th of October",
          "El-Haram",
          "Nasr City",
          "Hadayek El-Ahram : El Geish street",
          "El-Haram : Haram",
          "Nasr City : ahmad elzumor",
          "El-Mokattam",
          "El-Mohandessin",
          "Hadayek El-Ahram : first entrance of first gate",
          "El-Zagazig : obour bridge next to sawaf restaurant",
          "El-Obour City",
          "El-Rehab",
          "6th of October : Central Axis",
          "Shibin El-Kom",
          "Banha : 5 ibn Hagag street",
          "Nasr City",
          "Nasr City : AbdElhamid awad",
          "El-Ibrahimia",
          "6th of October",
          "El-Haram",
          "Nasr City",
          "El-Badrashin",
          "Faisal : Elatabaa Building Fasil Elnadii St",
          "El-Zagazig",
          "Faisal : khaled ibn waleed st",
          "El-Rehab",
          "El-Zagazig : obour bridge next to sawaf restaurant",
          "Nasr City : mostafa elnahas",
          "6th of October : Central Axis",
          "Shibin El-Kom",
          "Nasr City",
          "Banha : 5 ibn Hagag street",
          "6th of October",
          "Heliopolis : Al Hegaz - Heliopolis Square.",
          "El-Manyal : manyal street",
          "Nasr City",
          "El-Giza : mourad",
          "6th of October",
          "6th of October",
          "El-Ibrahimia",
          "6th of October",
          "El-Haram",
          "Nasr City",
          "El-Shorouk",
          "Shibin El-Kom",
          "6th of October",
          "El-Zagazig : tolba eweda street",
          "El-Sayeda Zainab : Port Saeed Street",
          "Faisal",
          "Heliopolis : hegaz street",
          "6th of October",
          "Maadi Ring Road",
          "Nasr City : Mohamed Radwan ST _ Al Hay Al Asher",
          "Shibin El-Kom",
          "Nasr City",
          "El-Giza : mourad",
          "6th of October",
          "El-Ibrahimia",
          "6th of October",
          "El-Haram",
          "Nasr City",
          "New Cairo : abdallah ibn salama",
          "El-Sheikh Zayed : Twin Towers-Elmehwar Elmarkazi",
          "Faisal : king Faisal St -tamimi",
          "El-Haram",
          "6th of October",
          "El-Manyal : Manial",
          "El-Obour City : Al Obour center",
          "Faisal",
          "El-Ibrahimia",
          "6th of October",
          "El-Haram",
          "Nasr City",
          "Faisal : fisal street",
          "El-Maadi : street 287",
          "Nasr City :  Mohamed Almakreif",
          "El-Haram : Haram Street Nasr eldin Station",
          "El-Haram : 93 el haram street - beside city mall",
          "6th of October : Central Axis",
          "El-Haram : madkour",
          "El-Sheikh Zayed : Beverly Hills-gate 9",
          "Nasr City : makram ebeid",
          "El-Maadi : Al Nasr Street",
          "El-Dokki : El Tahrir st.",
          "Nasr City : abo dawood zahry",
          "New Cairo : 90 Street",
          "El-Sheikh Zayed",
          "Faisal : hassan mohamed station-Feisal",
          "Hadayek El-Ahram : 2nd gate khafra",
          "El-Ibrahimia",
          "6th of October",
          "El-Haram",
          "Nasr City",
          "6th of October : El Mehwar El Markazy",
          "Heliopolis :  Bridge",
          "El-Sheikh Zayed : Twin Towers",
          "Nasr City :  ahmed el zomor",
          "Nasr City : Mostafa nhas St",
          "El-Haram",
          "6th of October : omrania tanua",
          "Nasr City",
          "Nasr City : mostafa el nahhas street",
          "El-Zagazig : vilal gamaa street next to madina mosque",
          "El-Sheikh Zayed : Twin Towers-Elmehwar Elmarkazi",
          "El-Manyal : El Manyal",
          "El-Obour City : Al Obour center",
          "El-Ibrahimia",
          "6th of October",
          "El-Haram",
          "Nasr City",
          "Heliopolis :  Bridge",
          "Nasr City :  ahmed el zomor",
          "El-Obour City : Alsadat St.",
          "Faisal",
          "New Cairo : abdallah ibn salama",
          "New Cairo : 3rd block",
          "6th of October : 4th District - 3rd Neighborhood",
          "6th of October",
          "Shoubra El-Kheima : ElSharea ElGded",
          "New Cairo",
          "Shoubra El-Kheima : 15 may street across the new street",
          "El-Matareya : El horeya street",
          "Nasr City : Gafar Elsadek st branched from eltayaran",
          "El-Maadi : 77 St.",
          "Faisal : king  Faisal taawon",
          "Faisal",
          "Shoubra : 15 may street",
          "El-Ibrahimia",
          "6th of October",
          "El-Haram",
          "Nasr City",
          "Ain Shams",
          "El-Haram :  Abo emera street",
          "El-Maadi : 9",
          "El-Obour City : Alsadat St.",
          "Shoubra El-Kheima : 15 mayo\" ElshareEl gedidi \"",
          "El-Ibrahimia",
          "New Cairo : 3rd block",
          "El-Haram",
          "6th of October : El Mehwar El Markazy",
          "El-Sheikh Zayed : Twin Towers",
          "El-Mohandessin",
          "Heliopolis :  Bridge",
          "New Cairo",
          "Faisal : king  Faisal taawon",
          "Nasr City : mostafa el nahhas street",
          "Nasr City :  ahmed el zomor",
          "El-Ibrahimia",
          "6th of October",
          "El-Haram",
          "Nasr City",
          "Faisal",
          "6th of October : the central axis",
          "El-Sheikh Zayed : Medical Hub Center-Khameal City-Gate 2-Infront of Hyperone",
          "Ain Shams",
          "El-Haram : Terat Al Zomir Street",
          "Ain Shams",
          "6th of October : elmahwar el markazi",
          "El-Haram :  Abo emera street",
          "El-Giza : el gamaa Street",
          "El-Haram : Naser althora",
          "6th of October : 71 fadan",
          "Heliopolis : El Merghany",
          "El-Sheikh Zayed : Twin Towers",
          "El-Ibrahimia",
          "6th of October",
          "El-Haram",
          "Nasr City",
          "El-Ibrahimia : abokeir road",
          "Faisal",
          "Nasr City : ahmed elzomr",
          "Nasr City : Abu Dawood Al-Zahery",
          "Hadayek El-Ahram : zen",
          "New Cairo : North",
          "6th of October : nagda square",
          "Ain Shams",
          "El-Zagazig",
          "6th of October : the central axis",
          "El-Maadi : 9",
          "El-Haram : Terat Al Zomir Street",
          "Ain Shams",
          "6th of October : elmahwar el markazi",
          "El-Sheikh Zayed : Medical Hub Center-Khameal City-Gate 2-Infront of Hyperone",
          "El-Haram :  Abo emera street",
          "El-Ibrahimia",
          "6th of October",
          "El-Haram",
          "Nasr City",
          "Nasr City : Afracia street-extention of mostafa elnahas street-9 th zone-after PIZZA HUT restaurant",
          "Nasr City : Abu Dawood Al-Zahery",
          "New Cairo : North",
          "6th of October : nagda square",
          "El-Sheikh Zayed : Twin Towers, 26 July Corridor",
          "New Cairo : Next to Al baraka Mall",
          "El-Ibrahimia : portsaid",
          "Ain Shams",
          "El-Ibrahimia : port Said",
          "El-Ibrahimia",
          "6th of October",
          "El-Haram",
          "Nasr City",
          "El-Sheikh Zayed : -Badr Eldeen Mall",
          "Shoubra :  Al Taraa Al Bolaqiea",
          "Heliopolis : gesr suez",
          "6th of October : Prima-vista medical center",
          "El-Dokki : El Tahrir St.",
          "El-Haram : El talateny elgded of ezz el din omar",
          "Sidy Bishr : Gamal abelnasser st.",
          "El-Sheikh Zayed : Twin Towers-Damas Dental Center",
          "El Minya City",
          "Hadayek El-Ahram : Ahmed Bedeer",
          "Faisal : el arabeen elmaskeen",
          "El-Maadi : street 108",
          "Hadayek El-Ahram : zen",
          "El-Ibrahimia : abokeir road",
          "Faisal",
          "Ain Shams",
          "El-Ibrahimia",
          "6th of October",
          "El-Haram",
          "Nasr City",
          "El-Manyal : Manial Museum Street",
          "El-Haram : Ezz El-Deen Omar Arish station Behind misr Bank",
          "El-Sheikh Zayed : Beverly Hills-gate 9",
          "Nasr City : Makram Abeid",
          "Nasr City : abo dawood zahry",
          "El-Dokki : El Tahrir st.",
          "El-Sheikh Zayed : elshabab",
          "El-Sheikh Zayed",
          "6th of October : 7th distric, 1st neigborhood",
          "Faisal : hassan mohamed station-Feisal",
          "Hadayek El-Ahram : District G First Gate",
          "New Cairo : Mostafa kamel",
          "El-Haram : khatam Al Morsalen Street",
          "El-Dokki : El Tahrir street",
          "New Cairo : medical park 1",
          "El-Sheikh Zayed : Downtown mall",
          "6th of October : Prima-vista medical center",
          "Nasr City : Afracia street-extention of mostafa elnahas street-9 th zone-after PIZZA HUT restaurant",
          "El-Sheikh Zayed : -Badr Eldeen Mall",
          "Helwan",
          "El-Dokki : El Tahrir St.",
          "El-Shorouk : Al shorouk",
          "Nasr City : nasr st",
          "Damanhur : abd elsalam el shazly",
          "Nasr City :  Elnozha st.",
          "El-Maadi : Kornish Maadi street",
          "Stanley : El- Gaish Roaf",
          "El-Sheikh Zayed : Khamael City-gate 4-administration gates-infront of GLOURS School",
          "Heliopolis : Cleopatra St",
          "Nasr City : EL Nasr ST",
          "Nasr City : EL Nasr ST",
          "New Cairo : S. Teseen",
          "New Cairo : S. Teseen",
          "El-Mansoura : Elnour Tower-Salah Salem Street-Talkha",
          "6th of October : Prima Vista Medical-Elmehwar Elmarkazi",
          "Nasr City : EL Nasr ST",
          "Heliopolis : Nehro,Heliopolis",
          "Nasr City :  Metwally elsharawy",
          "El-Mansoura : streert beside El Adeeb street",
          "Smouha : el Nasr street",
          "Damietta El Gadeeda : mahgoub street",
          "Nasr City : Street 11",
          "6th of October : above el-mokhtbar laboratory",
          "West El-Balad : Alabagieah Buildings-Elsayeda Aisha",
          "Nasr City : EL Nasr ST",
          "Janaklees : Abo Qir street",
          "Tanta : Elmoderia",
          "Shoubra : shopra",
          "Hadayek Helwan : almonzer",
          "6th of October : above el-mokhtbar laboratory",
          "Nasr City : EL Nasr ST",
          "El-Manyal : El-Manyal street",
          "Hadayek El-Kobba : Teraet elgendy st",
          "Tanta : Elmoderia",
          "El-Rehab : Medical Park Elite",
          "Heliopolis : mohamed farid",
          "Nasr City : Ahmed Alzumor street",
          "El-Mansoura : Gomhoria",
          "Heliopolis : mohamed farid",
          "Hadayek El-Kobba : Alzawia Alhamraa",
          "Sporting : portsaid",
          "Heliopolis : mohamed farid",
          "Smouha : Fawzy Moaaz street",
          "El-Mansoura : Gomhoria",
          "El-Shorouk : terrace mall",
          "El-Maadi : Elmansour Tower-Street 77 infront of Maadi Club Fence",
          "El-Maadi : Carrefour street",
          "El-Giza : mourad",
          "Heliopolis : El nozha street-Smart Slim Clinic besides Administrative Oversight",
          "6th of October : Abdelkhalek tharwat",
          "Faisal : king faisal street- al Marioteya",
          "Bulkly : Bulkly / Al-Hadaya Tram Station / Al-Khaleej Building (A)",
          "El-Maadi : Carrefour street",
          "El-Mansoura : Suiz Canal Street-ElSabeaa Tower",
          "El-Sheikh Zayed : Zayed (Badr) mall",
          "El-Manyal : el saraya",
          "Heliopolis : ahmed fouad street",
          "El-Maadi : Ellaselki Street-New Maadi",
          "Mahalla : Talaat Harb Square",
          "El-Sheikh Zayed : Zayed (Badr) mall",
          "El-Manyal : el saraya",
          "El-Ibrahimia",
          "6th of October",
          "El-Haram",
          "Nasr City",
          "El-Ibrahimia : Omar Lotfy st lteram",
          "El-Haram : Khofo street - El kom El Akhdar - Haram",
          "El-Manyal : El Manyal",
          "Nasr City : 11 rabea buldings , behind tom & Bassal , 2nd floor",
          "Faisal"
         ],
         "lat": [
          28.4243751,
          29.9723458,
          29.9942663,
          30.0521177,
          30.0388955,
          30.0388955,
          30.0388955,
          29.9723458,
          29.5804817,
          30.0521177,
          30.0521177,
          29.9699896,
          31.1906604,
          30.0388955,
          30.5886074,
          30.0388955,
          30.5886074,
          30.0800186,
          29.9942663,
          31.0295879,
          30.1914,
          30.010064,
          31.1906604,
          30.0221089,
          29.9699896,
          28.4243751,
          29.9723458,
          29.9942663,
          30.0521177,
          29.9699896,
          30.0648589,
          30.0221089,
          30.1304761,
          30.0277688,
          30.5886074,
          31.218448,
          30.1304761,
          30.5886074,
          30.1304761,
          29.9942663,
          30.0277688,
          30.1304761,
          31.218448,
          30.0741402,
          30.3154491,
          30.063584,
          29.8968261,
          31.218448,
          28.4243751,
          29.9723458,
          29.9942663,
          30.0521177,
          30.5950402,
          29.9942663,
          30.0221089,
          30.1304761,
          30.0277688,
          29.9942663,
          30.0751074,
          29.3074076,
          30.3154491,
          30.0741402,
          31.218448,
          30.0912704,
          30.063584,
          30.0221089,
          30.1304761,
          29.8968261,
          29.9942663,
          30.3154491,
          29.9723458,
          30.0151212,
          31.218448,
          30.5886074,
          30.3154491,
          30.1304761,
          31.218448,
          28.4243751,
          29.9723458,
          29.9942663,
          30.0521177,
          30.0388955,
          30.0277688,
          30.0388955,
          30.0388955,
          30.0583951,
          30.0978834,
          29.8500001,
          30.0521177,
          30.3154491,
          30.0800186,
          30.4626909,
          31.1906604,
          28.4243751,
          29.9723458,
          29.9942663,
          30.0521177,
          31.201541,
          30.0388955,
          30.0388955,
          30.0277688,
          30.0521177,
          30.0800186,
          30.4626909,
          31.1906604,
          31.2154155,
          30.0388955,
          30.4698762,
          31.0295879,
          30.0583951,
          30.0978834,
          28.4243751,
          29.9723458,
          29.9942663,
          30.0521177,
          30.0521177,
          30.0277688,
          31.1906604,
          30.0583951,
          30.0978834,
          30.9690765,
          30.0388955,
          29.9934593,
          30.3154491,
          30.0388955,
          30.0221089,
          30.0583951,
          30.0521177,
          28.4243751,
          29.9723458,
          29.9942663,
          30.0521177,
          29.8500001,
          30.9690765,
          28.4243751,
          29.9942663,
          30.0388955,
          29.9934593,
          30.3154491,
          30.0388955,
          30.0221089,
          30.0583951,
          30.0277688,
          30.5886074,
          29.9782662,
          30.0521177,
          30.0123374,
          29.9723458,
          30.3154491,
          30.3154491,
          30.0221089,
          30.063584,
          30.0123374,
          29.9699896,
          29.9699896,
          30.0583951,
          28.4243751,
          29.9723458,
          29.9942663,
          30.0521177,
          30.3154491,
          29.850964,
          30.5886074,
          30.0221089,
          30.0583951,
          30.3154491,
          29.9942663,
          30.1914,
          30.063584,
          29.9567086,
          30.5545106,
          30.4572179,
          30.0521177,
          30.5886074,
          28.4243751,
          29.9723458,
          29.9942663,
          30.0521177,
          29.8531211,
          30.1304761,
          30.5950402,
          30.1304761,
          30.063584,
          29.9942663,
          30.5886074,
          29.9567086,
          30.5545106,
          30.0521177,
          30.4572179,
          29.9723458,
          30.1114881,
          30.0176707,
          30.0521177,
          30.0162683,
          29.9723458,
          29.9723458,
          28.4243751,
          29.9723458,
          29.9942663,
          30.0521177,
          26.1216587,
          30.5545106,
          29.9723458,
          29.9942663,
          29.8968261,
          30.0978834,
          30.1020034,
          29.9723458,
          29.9934593,
          30.5886074,
          30.5545106,
          30.0521177,
          30.0162683,
          29.9723458,
          28.4243751,
          29.9723458,
          29.9942663,
          30.0521177,
          30.1914,
          31.1906604,
          30.1304761,
          29.9942663,
          29.9723458,
          30.0291097,
          30.2410552,
          30.0978834,
          28.4243751,
          29.9723458,
          29.9942663,
          30.0521177,
          30.1304761,
          29.9771168,
          30.5886074,
          30.0521177,
          30.0521177,
          29.9567086,
          30.0521177,
          31.1906604,
          30.5886074,
          29.9770143,
          30.0377163,
          30.5886074,
          30.019713,
          30.048347,
          30.1304761,
          30.3154491,
          28.4243751,
          29.9723458,
          29.9942663,
          30.0521177,
          30.0583951,
          30.1063333,
          31.1906604,
          30.5886074,
          30.5886074,
          29.9942663,
          30.0583951,
          30.0521177,
          30.5886074,
          29.9942663,
          31.1906604,
          30.0214222,
          30.2410552,
          28.4243751,
          29.9723458,
          29.9942663,
          30.0521177,
          30.1063333,
          30.5886074,
          30.1445497,
          30.0978834,
          30.1914,
          30.0277688,
          29.9532299,
          29.9723458,
          29.9699896,
          30.0277688,
          29.9699896,
          30.1220083,
          30.5886074,
          30.0022218,
          30.1304761,
          30.0978834,
          30.063584,
          28.4243751,
          29.9723458,
          29.9942663,
          30.0521177,
          30.1304761,
          30.0521177,
          29.9693495,
          30.1445497,
          29.9699896,
          28.4243751,
          30.0277688,
          29.9942663,
          30.0583951,
          31.1906604,
          30.0583951,
          30.1063333,
          30.0277688,
          30.1304761,
          30.5886074,
          30.5886074,
          28.4243751,
          29.9723458,
          29.9942663,
          30.0521177,
          30.0978834,
          30.0583951,
          31.1906604,
          30.1304761,
          30.0521177,
          30.1304761,
          30.0583951,
          30.0521177,
          30.0509633,
          30.0521177,
          30.0583951,
          30.0872624,
          31.1906604,
          28.4243751,
          29.9723458,
          29.9942663,
          30.0521177,
          30.1210367,
          30.0978834,
          30.5886074,
          30.5886074,
          30.3154491,
          30.1914,
          30.0583951,
          30.1304761,
          30.5950402,
          30.0583951,
          29.9693495,
          30.0521177,
          30.1304761,
          30.0583951,
          31.1906604,
          30.0521177,
          28.4243751,
          29.9723458,
          29.9942663,
          30.0521177,
          30.5886074,
          30.5886074,
          30.1914,
          30.0583951,
          31.1906604,
          30.1914,
          30.1210367,
          30.1304761,
          30.1210367,
          28.4243751,
          29.9723458,
          29.9942663,
          30.0521177,
          31.1906604,
          30.063584,
          30.1012561,
          30.0583951,
          30.0377163,
          30.0521177,
          31.218448,
          31.1906604,
          28.0893325,
          30.3154491,
          30.1304761,
          29.9669446,
          30.3154491,
          30.1210367,
          30.0978834,
          30.1304761,
          28.4243751,
          29.9723458,
          29.9942663,
          30.0521177,
          30.026035,
          30.0521177,
          31.1906604,
          30.5886074,
          30.5886074,
          30.0377163,
          31.1906604,
          30.048347,
          30.0583951,
          30.1304761,
          30.3154491,
          30.1914,
          30.0521177,
          30.0393832,
          30.1914,
          31.1906604,
          30.0583951,
          30.5886074,
          31.1906604,
          29.8500001,
          30.0377163,
          30.119528,
          30.0464741,
          29.9942663,
          30.5886074,
          29.9656111,
          30.5886074,
          30.063584,
          30.0887556,
          30.0525864,
          30.0525864,
          29.9593443,
          29.9593443,
          31.1906604,
          31.1906604,
          30.0525864,
          30.5886074,
          30.5886074,
          30.1914,
          30.1914,
          31.1906604,
          30.0396447,
          30.5886074,
          30.5886074,
          30.0525864,
          30.0521177,
          30.0521177,
          30.1914,
          30.5886074,
          30.1304761,
          30.0525864,
          30.0338657,
          30.0583951,
          30.5886074,
          30.5886074,
          30.1124093,
          30.1304761,
          30.0521177,
          30.1124093,
          30.0277688,
          30.5886074,
          30.1124093,
          30.0583951,
          30.5886074,
          30.1522877,
          31.1906604,
          29.9821138,
          30.0162683,
          30.5886074,
          30.1304761,
          30.063584,
          30.1914,
          29.9821138,
          31.0295879,
          30.0557502,
          30.0319654,
          30.1063048,
          30.5886074,
          29.9942663,
          30.0557502,
          30.0319654,
          28.4243751,
          29.9723458,
          29.9942663,
          30.0521177,
          30.063584,
          30.1914,
          30.0214222,
          31.0295879,
          30.0978834
         ],
         "legendgroup": "",
         "lon": [
          30.7932891,
          30.9409205,
          31.1604591,
          31.3422045,
          31.2125563,
          31.2125563,
          31.2125563,
          30.9409205,
          31.2877833,
          31.3422045,
          31.3422045,
          31.0973269,
          29.9197447,
          31.2125563,
          31.4819297,
          31.2125563,
          31.4819297,
          31.245269,
          31.1604591,
          30.458754,
          31.450548,
          31.2674452,
          29.9197447,
          31.2683682,
          31.0973269,
          30.7932891,
          30.9409205,
          31.1604591,
          31.3422045,
          31.0973269,
          31.2916881,
          31.2683682,
          31.3167491,
          31.4756825,
          31.4819297,
          30.6780577,
          31.3167491,
          31.4819297,
          31.3167491,
          31.1604591,
          31.4756825,
          31.3167491,
          30.6780577,
          31.4936587,
          31.7392776,
          31.4889939,
          31.3009298,
          30.6780577,
          30.7932891,
          30.9409205,
          31.1604591,
          31.3422045,
          31.5125611,
          31.1604591,
          31.2683682,
          31.3167491,
          31.4756825,
          31.1604591,
          31.2472034,
          30.8399651,
          31.7392776,
          31.4936587,
          30.6780577,
          31.3152293,
          31.4889939,
          31.2683682,
          31.3167491,
          31.3009298,
          31.1604591,
          31.7392776,
          30.9409205,
          31.4600614,
          30.6780577,
          31.4819297,
          31.7392776,
          31.3167491,
          30.6780577,
          30.7932891,
          30.9409205,
          31.1604591,
          31.3422045,
          31.2125563,
          31.4756825,
          31.2125563,
          31.2125563,
          31.2020231,
          32.4856496,
          31.333333,
          31.3422045,
          31.7392776,
          31.245269,
          30.9388785,
          29.9197447,
          30.7932891,
          30.9409205,
          31.1604591,
          31.3422045,
          29.9013501,
          31.2125563,
          31.2125563,
          31.4756825,
          31.3422045,
          31.245269,
          30.9388785,
          29.9197447,
          29.9447672,
          31.2125563,
          31.1818149,
          30.458754,
          31.2020231,
          32.4856496,
          30.7932891,
          30.9409205,
          31.1604591,
          31.3422045,
          31.3422045,
          31.4756825,
          29.9197447,
          31.2020231,
          32.4856496,
          31.1691355,
          31.2125563,
          31.3850161,
          31.7392776,
          31.2125563,
          31.2683682,
          31.2020231,
          31.3422045,
          30.7932891,
          30.9409205,
          31.1604591,
          31.3422045,
          31.333333,
          31.1691355,
          30.7932891,
          31.1604591,
          31.2125563,
          31.3850161,
          31.7392776,
          31.2125563,
          31.2683682,
          31.2020231,
          31.4756825,
          31.4819297,
          31.3069517,
          31.3422045,
          31.2656704,
          30.9409205,
          31.7392776,
          31.7392776,
          31.2683682,
          31.4889939,
          31.2656704,
          31.0973269,
          31.0973269,
          31.2020231,
          30.7932891,
          30.9409205,
          31.1604591,
          31.3422045,
          31.7392776,
          31.2209469,
          31.4819297,
          31.2683682,
          31.2020231,
          31.7392776,
          31.1604591,
          31.450548,
          31.4889939,
          30.9203561,
          31.0097923,
          31.1790701,
          31.3422045,
          31.4819297,
          30.7932891,
          30.9409205,
          31.1604591,
          31.3422045,
          31.2780759,
          31.3167491,
          31.5125611,
          31.3167491,
          31.4889939,
          31.1604591,
          31.4819297,
          30.9203561,
          31.0097923,
          31.3422045,
          31.1790701,
          30.9409205,
          31.3458582,
          31.231226,
          31.3422045,
          31.213326,
          30.9409205,
          30.9409205,
          30.7932891,
          30.9409205,
          31.1604591,
          31.3422045,
          34.2553483,
          31.0097923,
          30.9409205,
          31.1604591,
          31.3009298,
          32.4856496,
          31.3266948,
          30.9409205,
          31.3850161,
          31.4819297,
          31.0097923,
          31.3422045,
          31.213326,
          30.9409205,
          30.7932891,
          30.9409205,
          31.1604591,
          31.3422045,
          31.450548,
          29.9197447,
          31.3167491,
          31.1604591,
          30.9409205,
          31.2305117,
          31.4729346,
          32.4856496,
          30.7932891,
          30.9409205,
          31.1604591,
          31.3422045,
          31.3167491,
          31.277068,
          31.4819297,
          31.3422045,
          31.3422045,
          30.9203561,
          31.3422045,
          29.9197447,
          31.4819297,
          31.2565716,
          31.2086742,
          31.4819297,
          31.4232476,
          30.9832235,
          31.3167491,
          31.7392776,
          30.7932891,
          30.9409205,
          31.1604591,
          31.3422045,
          31.2020231,
          31.3241048,
          29.9197447,
          31.4819297,
          31.4819297,
          31.1604591,
          31.2020231,
          31.3422045,
          31.4819297,
          31.1604591,
          29.9197447,
          31.2257555,
          31.4729346,
          30.7932891,
          30.9409205,
          31.1604591,
          31.3422045,
          31.3241048,
          31.4819297,
          31.3411289,
          32.4856496,
          31.450548,
          31.4756825,
          30.9262491,
          30.9409205,
          31.0973269,
          31.4756825,
          31.0973269,
          31.3010974,
          31.4819297,
          31.2453418,
          31.3167491,
          32.4856496,
          31.4889939,
          30.7932891,
          30.9409205,
          31.1604591,
          31.3422045,
          31.3167491,
          31.3422045,
          31.3181833,
          31.3411289,
          31.0973269,
          30.7932891,
          31.4756825,
          31.1604591,
          31.2020231,
          29.9197447,
          31.2020231,
          31.3241048,
          31.4756825,
          31.3167491,
          31.4819297,
          31.4819297,
          30.7932891,
          30.9409205,
          31.1604591,
          31.3422045,
          32.4856496,
          31.2020231,
          29.9197447,
          31.3167491,
          31.3422045,
          31.3167491,
          31.2020231,
          31.3422045,
          31.19967,
          31.3422045,
          31.2020231,
          31.3351441,
          29.9197447,
          30.7932891,
          30.9409205,
          31.1604591,
          31.3422045,
          31.2521633,
          32.4856496,
          31.4819297,
          31.4819297,
          31.7392776,
          31.450548,
          31.2020231,
          31.3167491,
          31.5125611,
          31.2020231,
          31.3181833,
          31.3422045,
          31.3167491,
          31.2020231,
          29.9197447,
          31.3422045,
          30.7932891,
          30.9409205,
          31.1604591,
          31.3422045,
          31.4819297,
          31.4819297,
          31.450548,
          31.2020231,
          29.9197447,
          31.450548,
          31.2521633,
          31.3167491,
          31.2521633,
          30.7932891,
          30.9409205,
          31.1604591,
          31.3422045,
          29.9197447,
          31.4889939,
          31.3177468,
          31.2020231,
          31.2086742,
          31.3422045,
          30.6780577,
          29.9197447,
          30.7570623,
          31.7392776,
          31.3167491,
          31.2526034,
          31.7392776,
          31.2521633,
          32.4856496,
          31.3167491,
          30.7932891,
          30.9409205,
          31.1604591,
          31.3422045,
          31.2276458,
          31.3422045,
          29.9197447,
          31.4819297,
          31.4819297,
          31.2086742,
          29.9197447,
          30.9832235,
          31.2020231,
          31.3167491,
          31.7392776,
          31.450548,
          31.3422045,
          31.2162084,
          31.450548,
          29.9197447,
          31.2020231,
          31.4819297,
          29.9197447,
          31.333333,
          31.2086742,
          31.606878,
          31.337003,
          31.1604591,
          31.4819297,
          31.239043,
          31.4819297,
          31.4889939,
          31.3258621,
          31.3507103,
          31.3507103,
          31.5596372,
          31.5596372,
          29.9197447,
          29.9197447,
          31.3507103,
          31.4819297,
          31.4819297,
          31.450548,
          31.450548,
          29.9197447,
          31.3694444,
          31.4819297,
          31.4819297,
          31.3507103,
          31.3422045,
          31.3422045,
          31.450548,
          31.4819297,
          31.3167491,
          31.3507103,
          31.2361475,
          31.2020231,
          31.4819297,
          31.4819297,
          31.3375543,
          31.3167491,
          31.3422045,
          31.3375543,
          31.4756825,
          31.4819297,
          31.3375543,
          31.2020231,
          31.4819297,
          31.626722,
          29.9197447,
          31.3177099,
          31.213326,
          31.4819297,
          31.3167491,
          31.4889939,
          31.450548,
          31.3177099,
          30.458754,
          30.9566432,
          31.2293638,
          31.3463211,
          31.4819297,
          31.1604591,
          30.9566432,
          31.2293638,
          30.7932891,
          30.9409205,
          31.1604591,
          31.3422045,
          31.4889939,
          31.450548,
          31.2257555,
          30.458754,
          32.4856496
         ],
         "marker": {
          "color": "#636efa"
         },
         "mode": "markers",
         "name": "",
         "showlegend": false,
         "subplot": "mapbox",
         "type": "scattermapbox"
        }
       ],
       "layout": {
        "height": 500,
        "legend": {
         "tracegroupgap": 0
        },
        "mapbox": {
         "center": {
          "lat": 30.110733107692308,
          "lon": 31.20849067820513
         },
         "domain": {
          "x": [
           0,
           1
          ],
          "y": [
           0,
           1
          ]
         },
         "style": "open-street-map",
         "zoom": 5
        },
        "margin": {
         "t": 60
        },
        "template": {
         "data": {
          "bar": [
           {
            "error_x": {
             "color": "#2a3f5f"
            },
            "error_y": {
             "color": "#2a3f5f"
            },
            "marker": {
             "line": {
              "color": "#E5ECF6",
              "width": 0.5
             },
             "pattern": {
              "fillmode": "overlay",
              "size": 10,
              "solidity": 0.2
             }
            },
            "type": "bar"
           }
          ],
          "barpolar": [
           {
            "marker": {
             "line": {
              "color": "#E5ECF6",
              "width": 0.5
             },
             "pattern": {
              "fillmode": "overlay",
              "size": 10,
              "solidity": 0.2
             }
            },
            "type": "barpolar"
           }
          ],
          "carpet": [
           {
            "aaxis": {
             "endlinecolor": "#2a3f5f",
             "gridcolor": "white",
             "linecolor": "white",
             "minorgridcolor": "white",
             "startlinecolor": "#2a3f5f"
            },
            "baxis": {
             "endlinecolor": "#2a3f5f",
             "gridcolor": "white",
             "linecolor": "white",
             "minorgridcolor": "white",
             "startlinecolor": "#2a3f5f"
            },
            "type": "carpet"
           }
          ],
          "choropleth": [
           {
            "colorbar": {
             "outlinewidth": 0,
             "ticks": ""
            },
            "type": "choropleth"
           }
          ],
          "contour": [
           {
            "colorbar": {
             "outlinewidth": 0,
             "ticks": ""
            },
            "colorscale": [
             [
              0,
              "#0d0887"
             ],
             [
              0.1111111111111111,
              "#46039f"
             ],
             [
              0.2222222222222222,
              "#7201a8"
             ],
             [
              0.3333333333333333,
              "#9c179e"
             ],
             [
              0.4444444444444444,
              "#bd3786"
             ],
             [
              0.5555555555555556,
              "#d8576b"
             ],
             [
              0.6666666666666666,
              "#ed7953"
             ],
             [
              0.7777777777777778,
              "#fb9f3a"
             ],
             [
              0.8888888888888888,
              "#fdca26"
             ],
             [
              1,
              "#f0f921"
             ]
            ],
            "type": "contour"
           }
          ],
          "contourcarpet": [
           {
            "colorbar": {
             "outlinewidth": 0,
             "ticks": ""
            },
            "type": "contourcarpet"
           }
          ],
          "heatmap": [
           {
            "colorbar": {
             "outlinewidth": 0,
             "ticks": ""
            },
            "colorscale": [
             [
              0,
              "#0d0887"
             ],
             [
              0.1111111111111111,
              "#46039f"
             ],
             [
              0.2222222222222222,
              "#7201a8"
             ],
             [
              0.3333333333333333,
              "#9c179e"
             ],
             [
              0.4444444444444444,
              "#bd3786"
             ],
             [
              0.5555555555555556,
              "#d8576b"
             ],
             [
              0.6666666666666666,
              "#ed7953"
             ],
             [
              0.7777777777777778,
              "#fb9f3a"
             ],
             [
              0.8888888888888888,
              "#fdca26"
             ],
             [
              1,
              "#f0f921"
             ]
            ],
            "type": "heatmap"
           }
          ],
          "heatmapgl": [
           {
            "colorbar": {
             "outlinewidth": 0,
             "ticks": ""
            },
            "colorscale": [
             [
              0,
              "#0d0887"
             ],
             [
              0.1111111111111111,
              "#46039f"
             ],
             [
              0.2222222222222222,
              "#7201a8"
             ],
             [
              0.3333333333333333,
              "#9c179e"
             ],
             [
              0.4444444444444444,
              "#bd3786"
             ],
             [
              0.5555555555555556,
              "#d8576b"
             ],
             [
              0.6666666666666666,
              "#ed7953"
             ],
             [
              0.7777777777777778,
              "#fb9f3a"
             ],
             [
              0.8888888888888888,
              "#fdca26"
             ],
             [
              1,
              "#f0f921"
             ]
            ],
            "type": "heatmapgl"
           }
          ],
          "histogram": [
           {
            "marker": {
             "pattern": {
              "fillmode": "overlay",
              "size": 10,
              "solidity": 0.2
             }
            },
            "type": "histogram"
           }
          ],
          "histogram2d": [
           {
            "colorbar": {
             "outlinewidth": 0,
             "ticks": ""
            },
            "colorscale": [
             [
              0,
              "#0d0887"
             ],
             [
              0.1111111111111111,
              "#46039f"
             ],
             [
              0.2222222222222222,
              "#7201a8"
             ],
             [
              0.3333333333333333,
              "#9c179e"
             ],
             [
              0.4444444444444444,
              "#bd3786"
             ],
             [
              0.5555555555555556,
              "#d8576b"
             ],
             [
              0.6666666666666666,
              "#ed7953"
             ],
             [
              0.7777777777777778,
              "#fb9f3a"
             ],
             [
              0.8888888888888888,
              "#fdca26"
             ],
             [
              1,
              "#f0f921"
             ]
            ],
            "type": "histogram2d"
           }
          ],
          "histogram2dcontour": [
           {
            "colorbar": {
             "outlinewidth": 0,
             "ticks": ""
            },
            "colorscale": [
             [
              0,
              "#0d0887"
             ],
             [
              0.1111111111111111,
              "#46039f"
             ],
             [
              0.2222222222222222,
              "#7201a8"
             ],
             [
              0.3333333333333333,
              "#9c179e"
             ],
             [
              0.4444444444444444,
              "#bd3786"
             ],
             [
              0.5555555555555556,
              "#d8576b"
             ],
             [
              0.6666666666666666,
              "#ed7953"
             ],
             [
              0.7777777777777778,
              "#fb9f3a"
             ],
             [
              0.8888888888888888,
              "#fdca26"
             ],
             [
              1,
              "#f0f921"
             ]
            ],
            "type": "histogram2dcontour"
           }
          ],
          "mesh3d": [
           {
            "colorbar": {
             "outlinewidth": 0,
             "ticks": ""
            },
            "type": "mesh3d"
           }
          ],
          "parcoords": [
           {
            "line": {
             "colorbar": {
              "outlinewidth": 0,
              "ticks": ""
             }
            },
            "type": "parcoords"
           }
          ],
          "pie": [
           {
            "automargin": true,
            "type": "pie"
           }
          ],
          "scatter": [
           {
            "fillpattern": {
             "fillmode": "overlay",
             "size": 10,
             "solidity": 0.2
            },
            "type": "scatter"
           }
          ],
          "scatter3d": [
           {
            "line": {
             "colorbar": {
              "outlinewidth": 0,
              "ticks": ""
             }
            },
            "marker": {
             "colorbar": {
              "outlinewidth": 0,
              "ticks": ""
             }
            },
            "type": "scatter3d"
           }
          ],
          "scattercarpet": [
           {
            "marker": {
             "colorbar": {
              "outlinewidth": 0,
              "ticks": ""
             }
            },
            "type": "scattercarpet"
           }
          ],
          "scattergeo": [
           {
            "marker": {
             "colorbar": {
              "outlinewidth": 0,
              "ticks": ""
             }
            },
            "type": "scattergeo"
           }
          ],
          "scattergl": [
           {
            "marker": {
             "colorbar": {
              "outlinewidth": 0,
              "ticks": ""
             }
            },
            "type": "scattergl"
           }
          ],
          "scattermapbox": [
           {
            "marker": {
             "colorbar": {
              "outlinewidth": 0,
              "ticks": ""
             }
            },
            "type": "scattermapbox"
           }
          ],
          "scatterpolar": [
           {
            "marker": {
             "colorbar": {
              "outlinewidth": 0,
              "ticks": ""
             }
            },
            "type": "scatterpolar"
           }
          ],
          "scatterpolargl": [
           {
            "marker": {
             "colorbar": {
              "outlinewidth": 0,
              "ticks": ""
             }
            },
            "type": "scatterpolargl"
           }
          ],
          "scatterternary": [
           {
            "marker": {
             "colorbar": {
              "outlinewidth": 0,
              "ticks": ""
             }
            },
            "type": "scatterternary"
           }
          ],
          "surface": [
           {
            "colorbar": {
             "outlinewidth": 0,
             "ticks": ""
            },
            "colorscale": [
             [
              0,
              "#0d0887"
             ],
             [
              0.1111111111111111,
              "#46039f"
             ],
             [
              0.2222222222222222,
              "#7201a8"
             ],
             [
              0.3333333333333333,
              "#9c179e"
             ],
             [
              0.4444444444444444,
              "#bd3786"
             ],
             [
              0.5555555555555556,
              "#d8576b"
             ],
             [
              0.6666666666666666,
              "#ed7953"
             ],
             [
              0.7777777777777778,
              "#fb9f3a"
             ],
             [
              0.8888888888888888,
              "#fdca26"
             ],
             [
              1,
              "#f0f921"
             ]
            ],
            "type": "surface"
           }
          ],
          "table": [
           {
            "cells": {
             "fill": {
              "color": "#EBF0F8"
             },
             "line": {
              "color": "white"
             }
            },
            "header": {
             "fill": {
              "color": "#C8D4E3"
             },
             "line": {
              "color": "white"
             }
            },
            "type": "table"
           }
          ]
         },
         "layout": {
          "annotationdefaults": {
           "arrowcolor": "#2a3f5f",
           "arrowhead": 0,
           "arrowwidth": 1
          },
          "autotypenumbers": "strict",
          "coloraxis": {
           "colorbar": {
            "outlinewidth": 0,
            "ticks": ""
           }
          },
          "colorscale": {
           "diverging": [
            [
             0,
             "#8e0152"
            ],
            [
             0.1,
             "#c51b7d"
            ],
            [
             0.2,
             "#de77ae"
            ],
            [
             0.3,
             "#f1b6da"
            ],
            [
             0.4,
             "#fde0ef"
            ],
            [
             0.5,
             "#f7f7f7"
            ],
            [
             0.6,
             "#e6f5d0"
            ],
            [
             0.7,
             "#b8e186"
            ],
            [
             0.8,
             "#7fbc41"
            ],
            [
             0.9,
             "#4d9221"
            ],
            [
             1,
             "#276419"
            ]
           ],
           "sequential": [
            [
             0,
             "#0d0887"
            ],
            [
             0.1111111111111111,
             "#46039f"
            ],
            [
             0.2222222222222222,
             "#7201a8"
            ],
            [
             0.3333333333333333,
             "#9c179e"
            ],
            [
             0.4444444444444444,
             "#bd3786"
            ],
            [
             0.5555555555555556,
             "#d8576b"
            ],
            [
             0.6666666666666666,
             "#ed7953"
            ],
            [
             0.7777777777777778,
             "#fb9f3a"
            ],
            [
             0.8888888888888888,
             "#fdca26"
            ],
            [
             1,
             "#f0f921"
            ]
           ],
           "sequentialminus": [
            [
             0,
             "#0d0887"
            ],
            [
             0.1111111111111111,
             "#46039f"
            ],
            [
             0.2222222222222222,
             "#7201a8"
            ],
            [
             0.3333333333333333,
             "#9c179e"
            ],
            [
             0.4444444444444444,
             "#bd3786"
            ],
            [
             0.5555555555555556,
             "#d8576b"
            ],
            [
             0.6666666666666666,
             "#ed7953"
            ],
            [
             0.7777777777777778,
             "#fb9f3a"
            ],
            [
             0.8888888888888888,
             "#fdca26"
            ],
            [
             1,
             "#f0f921"
            ]
           ]
          },
          "colorway": [
           "#636efa",
           "#EF553B",
           "#00cc96",
           "#ab63fa",
           "#FFA15A",
           "#19d3f3",
           "#FF6692",
           "#B6E880",
           "#FF97FF",
           "#FECB52"
          ],
          "font": {
           "color": "#2a3f5f"
          },
          "geo": {
           "bgcolor": "white",
           "lakecolor": "white",
           "landcolor": "#E5ECF6",
           "showlakes": true,
           "showland": true,
           "subunitcolor": "white"
          },
          "hoverlabel": {
           "align": "left"
          },
          "hovermode": "closest",
          "mapbox": {
           "style": "light"
          },
          "paper_bgcolor": "white",
          "plot_bgcolor": "#E5ECF6",
          "polar": {
           "angularaxis": {
            "gridcolor": "white",
            "linecolor": "white",
            "ticks": ""
           },
           "bgcolor": "#E5ECF6",
           "radialaxis": {
            "gridcolor": "white",
            "linecolor": "white",
            "ticks": ""
           }
          },
          "scene": {
           "xaxis": {
            "backgroundcolor": "#E5ECF6",
            "gridcolor": "white",
            "gridwidth": 2,
            "linecolor": "white",
            "showbackground": true,
            "ticks": "",
            "zerolinecolor": "white"
           },
           "yaxis": {
            "backgroundcolor": "#E5ECF6",
            "gridcolor": "white",
            "gridwidth": 2,
            "linecolor": "white",
            "showbackground": true,
            "ticks": "",
            "zerolinecolor": "white"
           },
           "zaxis": {
            "backgroundcolor": "#E5ECF6",
            "gridcolor": "white",
            "gridwidth": 2,
            "linecolor": "white",
            "showbackground": true,
            "ticks": "",
            "zerolinecolor": "white"
           }
          },
          "shapedefaults": {
           "line": {
            "color": "#2a3f5f"
           }
          },
          "ternary": {
           "aaxis": {
            "gridcolor": "white",
            "linecolor": "white",
            "ticks": ""
           },
           "baxis": {
            "gridcolor": "white",
            "linecolor": "white",
            "ticks": ""
           },
           "bgcolor": "#E5ECF6",
           "caxis": {
            "gridcolor": "white",
            "linecolor": "white",
            "ticks": ""
           }
          },
          "title": {
           "x": 0.05
          },
          "xaxis": {
           "automargin": true,
           "gridcolor": "white",
           "linecolor": "white",
           "ticks": "",
           "title": {
            "standoff": 15
           },
           "zerolinecolor": "white",
           "zerolinewidth": 2
          },
          "yaxis": {
           "automargin": true,
           "gridcolor": "white",
           "linecolor": "white",
           "ticks": "",
           "title": {
            "standoff": 15
           },
           "zerolinecolor": "white",
           "zerolinewidth": 2
          }
         }
        }
       }
      },
      "image/png": "[encoded data removed]",
      "text/html": [
       "<div>                            <div id=\"b8d3b274-5c53-4b62-bc73-959bc0c76790\" class=\"plotly-graph-div\" style=\"height:500px; width:100%;\"></div>            <script type=\"text/javascript\">                require([\"plotly\"], function(Plotly) {                    window.PLOTLYENV=window.PLOTLYENV || {};                                    if (document.getElementById(\"b8d3b274-5c53-4b62-bc73-959bc0c76790\")) {                    Plotly.newPlot(                        \"b8d3b274-5c53-4b62-bc73-959bc0c76790\",                        [{\"hovertemplate\":\"\\u003cb\\u003e%{hovertext}\\u003c\\u002fb\\u003e\\u003cbr\\u003e\\u003cbr\\u003elatitude=%{lat}\\u003cbr\\u003elongitude=%{lon}\\u003cextra\\u003e\\u003c\\u002fextra\\u003e\",\"hovertext\":[\"El-Ibrahimia\",\"6th of October\",\"El-Haram\",\"Nasr City\",\"El-Dokki\",\"El-Dokki\",\"El-Dokki\",\"6th of October\",\"Yousef Abbas\",\"Nasr City\",\"Nasr City\",\"Shoubra El-Kheima : 15th may\",\"Moharam Bek : moharam bek\",\"El-Dokki\",\"Nasr City : Zaker Hussien Street-District 7\",\"El-Dokki\",\"Nasr City : Ibrahim Nawar parallel to Ahmed Fakhry - Sixth Region.\",\"Shoubra El-Kheima\",\"El-Zagazig : al kwmya street\",\"Shoubra\",\"New Cairo : beside new cairo court\",\"El-Mokattam : Street 9\",\"El-Sheikh Zayed : Mouez plaza-\",\"El-Giza : Morad street\",\"Shoubra El-Kheima : 15 May, St.\",\"El-Ibrahimia\",\"6th of October\",\"El-Haram\",\"Nasr City\",\"Hadayek El-Ahram\",\"El-Abbasia\",\"El-Mokattam\",\"Faisal : faisal main street\",\"New Cairo\",\"Nasr City : Ahmed qasim branched from abbas elakaad\",\"Sidy Bishr : 196 Gamal Abdelnasser st, - Beside Baba Sharo.\",\"Faisal : Huda Mosque Street\",\"Nasr City : metwally el shaarawy\",\"Faisal : gendia  mall _eltawabek\",\"El-Zagazig : mahmoud hashem street-Kawmya\",\"El-Dokki : Wezaret El Zeraa Street\",\"Faisal : 106 king fisal above ahli bank front of vodafone maryotya\",\"Sidy Bishr\",\"New Cairo : 90\",\"Hadayek El-Ahram : Fifth North Street after Menkaure Gate\",\"Shoubra : shikolany\",\"El-Sayeda Zainab : A Elkasr Eleini\",\"Sidy Bishr : Alaman st. from sidi Beshr mosque st.\",\"El-Ibrahimia\",\"6th of October\",\"El-Haram\",\"Nasr City\",\"El-Zagazig\",\"El-Zagazig : mahmoud hashem street-Kawmya\",\"El-Mokattam\",\"Faisal : gendia  mall _eltawabek\",\"El-Dokki : Wezaret El Zeraa Street\",\"El-Zagazig : ,  El Obour Bridge extension\",\"Shoubra : shoubra street\",\"El-Fayoum city\",\"Hadayek El-Ahram : Fifth North Street after Menkaure Gate\",\"New Cairo : 90\",\"Sidy Bishr\",\"Heliopolis : othman ibn affan\",\"Shoubra : shikolany\",\"El-Mokattam\",\"Faisal : 106 king fisal above ahli bank front of vodafone maryotya\",\"El-Sayeda Zainab : A Elkasr Eleini\",\"El-Zagazig : next to sednawy hospital\",\"Hadayek El-Ahram : Gardenia Street\",\"6th of October\",\"New Cairo : El Narges Services Area\",\"Sidy Bishr : Alaman st. from sidi Beshr mosque st.\",\"Nasr City :  Mohamed Almakreif\",\"Hadayek El-Ahram : elgish street\",\"Faisal : fisal street\",\"Sidy Bishr : 41 Albekbashy Elesawy st., in front of the Computer Mall.\",\"El-Ibrahimia\",\"6th of October\",\"El-Haram\",\"Nasr City\",\"El-Dokki\",\"El-Dokki : Tiba St from Gamaet Dwol\",\"El-Dokki\",\"El-Dokki\",\"6th of October : in front of wadi degla club\",\"Faisal\",\"Helwan\",\"El-Haram : Station Mashaal\",\"Hadayek El-Ahram : z\",\"Shoubra El-Kheima\",\"Menouf\",\"El-Sheikh Zayed : twin tower -\",\"El-Ibrahimia\",\"6th of October\",\"El-Haram\",\"Nasr City\",\"Mahatet El-Raml\",\"El-Dokki\",\"El-Dokki\",\"El-Dokki : Tahrir Street-infront Of Asad Abn Elfourat mosque\",\"Nasr City\",\"Shoubra El-Kheima\",\"Menouf\",\"El-Sheikh Zayed : twin tower -\",\"Miamy : gamal abdelnasser\",\"El-Dokki\",\"Banha : El Ashraf Street\",\"Moharam Bek : moharm bek st\",\"6th of October : in front of wadi degla club\",\"Faisal\",\"El-Ibrahimia\",\"6th of October\",\"El-Haram\",\"Nasr City\",\"El-Haram : Station Mashaal\",\"El-Dokki : Mosdak Street\",\"El-Sheikh Zayed : twin tower -\",\"6th of October : in front of wadi degla club\",\"Faisal\",\"Mahalla : Talaat Harb street\",\"El-Dokki\",\"Maadi Ring Road\",\"Hadayek El-Ahram : z\",\"El-Dokki\",\"El-Giza : Hamadan\",\"6th of October : al mehwar al markzi\",\"Nasr City\",\"El-Ibrahimia\",\"6th of October\",\"El-Haram\",\"Nasr City\",\"Helwan\",\"Mahalla : Talaat Harb street\",\"El-Ibrahimia\",\"El-Zagazig : tolba eweda street infront of salah salem hospital above lcwikiki\",\"El-Dokki\",\"Maadi Ring Road\",\"Hadayek El-Ahram : z\",\"El-Dokki\",\"El-Giza : Hamadan\",\"6th of October : al mehwar al markzi\",\"El-Dokki : Musadak Street-Infront Of Dunkin Donuts\",\"Nasr City : Mostafa elnhas St\",\"El-Maadi : 9th St.\",\"Nasr City\",\"El-Mokattam : 9 street\",\"6th of October\",\"Hadayek El-Ahram : first entrance of first gate\",\"Hadayek El-Ahram : El Geish street\",\"El-Mokattam\",\"El-Rehab\",\"El-Mokattam : 9 street\",\"Hadayek El-Ahram\",\"Hadayek El-Ahram\",\"6th of October : Borie Plaza 1-Elhossary Square\",\"El-Ibrahimia\",\"6th of October\",\"El-Haram\",\"Nasr City\",\"Hadayek El-Ahram : El Geish street\",\"El-Haram : Haram\",\"Nasr City : ahmad elzumor\",\"El-Mokattam\",\"El-Mohandessin\",\"Hadayek El-Ahram : first entrance of first gate\",\"El-Zagazig : obour bridge next to sawaf restaurant\",\"El-Obour City\",\"El-Rehab\",\"6th of October : Central Axis\",\"Shibin El-Kom\",\"Banha : 5 ibn Hagag street\",\"Nasr City\",\"Nasr City : AbdElhamid awad\",\"El-Ibrahimia\",\"6th of October\",\"El-Haram\",\"Nasr City\",\"El-Badrashin\",\"Faisal : Elatabaa Building Fasil Elnadii St\",\"El-Zagazig\",\"Faisal : khaled ibn waleed st\",\"El-Rehab\",\"El-Zagazig : obour bridge next to sawaf restaurant\",\"Nasr City : mostafa elnahas\",\"6th of October : Central Axis\",\"Shibin El-Kom\",\"Nasr City\",\"Banha : 5 ibn Hagag street\",\"6th of October\",\"Heliopolis : Al Hegaz - Heliopolis Square.\",\"El-Manyal : manyal street\",\"Nasr City\",\"El-Giza : mourad\",\"6th of October\",\"6th of October\",\"El-Ibrahimia\",\"6th of October\",\"El-Haram\",\"Nasr City\",\"El-Shorouk\",\"Shibin El-Kom\",\"6th of October\",\"El-Zagazig : tolba eweda street\",\"El-Sayeda Zainab : Port Saeed Street\",\"Faisal\",\"Heliopolis : hegaz street\",\"6th of October\",\"Maadi Ring Road\",\"Nasr City : Mohamed Radwan ST _ Al Hay Al Asher\",\"Shibin El-Kom\",\"Nasr City\",\"El-Giza : mourad\",\"6th of October\",\"El-Ibrahimia\",\"6th of October\",\"El-Haram\",\"Nasr City\",\"New Cairo : abdallah ibn salama\",\"El-Sheikh Zayed : Twin Towers-Elmehwar Elmarkazi\",\"Faisal : king Faisal St -tamimi\",\"El-Haram\",\"6th of October\",\"El-Manyal : Manial\",\"El-Obour City : Al Obour center\",\"Faisal\",\"El-Ibrahimia\",\"6th of October\",\"El-Haram\",\"Nasr City\",\"Faisal : fisal street\",\"El-Maadi : street 287\",\"Nasr City :  Mohamed Almakreif\",\"El-Haram : Haram Street Nasr eldin Station\",\"El-Haram : 93 el haram street - beside city mall\",\"6th of October : Central Axis\",\"El-Haram : madkour\",\"El-Sheikh Zayed : Beverly Hills-gate 9\",\"Nasr City : makram ebeid\",\"El-Maadi : Al Nasr Street\",\"El-Dokki : El Tahrir st.\",\"Nasr City : abo dawood zahry\",\"New Cairo : 90 Street\",\"El-Sheikh Zayed\",\"Faisal : hassan mohamed station-Feisal\",\"Hadayek El-Ahram : 2nd gate khafra\",\"El-Ibrahimia\",\"6th of October\",\"El-Haram\",\"Nasr City\",\"6th of October : El Mehwar El Markazy\",\"Heliopolis :  Bridge\",\"El-Sheikh Zayed : Twin Towers\",\"Nasr City :  ahmed el zomor\",\"Nasr City : Mostafa nhas St\",\"El-Haram\",\"6th of October : omrania tanua\",\"Nasr City\",\"Nasr City : mostafa el nahhas street\",\"El-Zagazig : vilal gamaa street next to madina mosque\",\"El-Sheikh Zayed : Twin Towers-Elmehwar Elmarkazi\",\"El-Manyal : El Manyal\",\"El-Obour City : Al Obour center\",\"El-Ibrahimia\",\"6th of October\",\"El-Haram\",\"Nasr City\",\"Heliopolis :  Bridge\",\"Nasr City :  ahmed el zomor\",\"El-Obour City : Alsadat St.\",\"Faisal\",\"New Cairo : abdallah ibn salama\",\"New Cairo : 3rd block\",\"6th of October : 4th District - 3rd Neighborhood\",\"6th of October\",\"Shoubra El-Kheima : ElSharea ElGded\",\"New Cairo\",\"Shoubra El-Kheima : 15 may street across the new street\",\"El-Matareya : El horeya street\",\"Nasr City : Gafar Elsadek st branched from eltayaran\",\"El-Maadi : 77 St.\",\"Faisal : king  Faisal taawon\",\"Faisal\",\"Shoubra : 15 may street\",\"El-Ibrahimia\",\"6th of October\",\"El-Haram\",\"Nasr City\",\"Ain Shams\",\"El-Haram :  Abo emera street\",\"El-Maadi : 9\",\"El-Obour City : Alsadat St.\",\"Shoubra El-Kheima : 15 mayo\\\" ElshareEl gedidi \\\"\",\"El-Ibrahimia\",\"New Cairo : 3rd block\",\"El-Haram\",\"6th of October : El Mehwar El Markazy\",\"El-Sheikh Zayed : Twin Towers\",\"El-Mohandessin\",\"Heliopolis :  Bridge\",\"New Cairo\",\"Faisal : king  Faisal taawon\",\"Nasr City : mostafa el nahhas street\",\"Nasr City :  ahmed el zomor\",\"El-Ibrahimia\",\"6th of October\",\"El-Haram\",\"Nasr City\",\"Faisal\",\"6th of October : the central axis\",\"El-Sheikh Zayed : Medical Hub Center-Khameal City-Gate 2-Infront of Hyperone\",\"Ain Shams\",\"El-Haram : Terat Al Zomir Street\",\"Ain Shams\",\"6th of October : elmahwar el markazi\",\"El-Haram :  Abo emera street\",\"El-Giza : el gamaa Street\",\"El-Haram : Naser althora\",\"6th of October : 71 fadan\",\"Heliopolis : El Merghany\",\"El-Sheikh Zayed : Twin Towers\",\"El-Ibrahimia\",\"6th of October\",\"El-Haram\",\"Nasr City\",\"El-Ibrahimia : abokeir road\",\"Faisal\",\"Nasr City : ahmed elzomr\",\"Nasr City : Abu Dawood Al-Zahery\",\"Hadayek El-Ahram : zen\",\"New Cairo : North\",\"6th of October : nagda square\",\"Ain Shams\",\"El-Zagazig\",\"6th of October : the central axis\",\"El-Maadi : 9\",\"El-Haram : Terat Al Zomir Street\",\"Ain Shams\",\"6th of October : elmahwar el markazi\",\"El-Sheikh Zayed : Medical Hub Center-Khameal City-Gate 2-Infront of Hyperone\",\"El-Haram :  Abo emera street\",\"El-Ibrahimia\",\"6th of October\",\"El-Haram\",\"Nasr City\",\"Nasr City : Afracia street-extention of mostafa elnahas street-9 th zone-after PIZZA HUT restaurant\",\"Nasr City : Abu Dawood Al-Zahery\",\"New Cairo : North\",\"6th of October : nagda square\",\"El-Sheikh Zayed : Twin Towers, 26 July Corridor\",\"New Cairo : Next to Al baraka Mall\",\"El-Ibrahimia : portsaid\",\"Ain Shams\",\"El-Ibrahimia : port Said\",\"El-Ibrahimia\",\"6th of October\",\"El-Haram\",\"Nasr City\",\"El-Sheikh Zayed : -Badr Eldeen Mall\",\"Shoubra :  Al Taraa Al Bolaqiea\",\"Heliopolis : gesr suez\",\"6th of October : Prima-vista medical center\",\"El-Dokki : El Tahrir St.\",\"El-Haram : El talateny elgded of ezz el din omar\",\"Sidy Bishr : Gamal abelnasser st.\",\"El-Sheikh Zayed : Twin Towers-Damas Dental Center\",\"El Minya City\",\"Hadayek El-Ahram : Ahmed Bedeer\",\"Faisal : el arabeen elmaskeen\",\"El-Maadi : street 108\",\"Hadayek El-Ahram : zen\",\"El-Ibrahimia : abokeir road\",\"Faisal\",\"Ain Shams\",\"El-Ibrahimia\",\"6th of October\",\"El-Haram\",\"Nasr City\",\"El-Manyal : Manial Museum Street\",\"El-Haram : Ezz El-Deen Omar Arish station Behind misr Bank\",\"El-Sheikh Zayed : Beverly Hills-gate 9\",\"Nasr City : Makram Abeid\",\"Nasr City : abo dawood zahry\",\"El-Dokki : El Tahrir st.\",\"El-Sheikh Zayed : elshabab\",\"El-Sheikh Zayed\",\"6th of October : 7th distric, 1st neigborhood\",\"Faisal : hassan mohamed station-Feisal\",\"Hadayek El-Ahram : District G First Gate\",\"New Cairo : Mostafa kamel\",\"El-Haram : khatam Al Morsalen Street\",\"El-Dokki : El Tahrir street\",\"New Cairo : medical park 1\",\"El-Sheikh Zayed : Downtown mall\",\"6th of October : Prima-vista medical center\",\"Nasr City : Afracia street-extention of mostafa elnahas street-9 th zone-after PIZZA HUT restaurant\",\"El-Sheikh Zayed : -Badr Eldeen Mall\",\"Helwan\",\"El-Dokki : El Tahrir St.\",\"El-Shorouk : Al shorouk\",\"Nasr City : nasr st\",\"Damanhur : abd elsalam el shazly\",\"Nasr City :  Elnozha st.\",\"El-Maadi : Kornish Maadi street\",\"Stanley : El- Gaish Roaf\",\"El-Sheikh Zayed : Khamael City-gate 4-administration gates-infront of GLOURS School\",\"Heliopolis : Cleopatra St\",\"Nasr City : EL Nasr ST\",\"Nasr City : EL Nasr ST\",\"New Cairo : S. Teseen\",\"New Cairo : S. Teseen\",\"El-Mansoura : Elnour Tower-Salah Salem Street-Talkha\",\"6th of October : Prima Vista Medical-Elmehwar Elmarkazi\",\"Nasr City : EL Nasr ST\",\"Heliopolis : Nehro,Heliopolis\",\"Nasr City :  Metwally elsharawy\",\"El-Mansoura : streert beside El Adeeb street\",\"Smouha : el Nasr street\",\"Damietta El Gadeeda : mahgoub street\",\"Nasr City : Street 11\",\"6th of October : above el-mokhtbar laboratory\",\"West El-Balad : Alabagieah Buildings-Elsayeda Aisha\",\"Nasr City : EL Nasr ST\",\"Janaklees : Abo Qir street\",\"Tanta : Elmoderia\",\"Shoubra : shopra\",\"Hadayek Helwan : almonzer\",\"6th of October : above el-mokhtbar laboratory\",\"Nasr City : EL Nasr ST\",\"El-Manyal : El-Manyal street\",\"Hadayek El-Kobba : Teraet elgendy st\",\"Tanta : Elmoderia\",\"El-Rehab : Medical Park Elite\",\"Heliopolis : mohamed farid\",\"Nasr City : Ahmed Alzumor street\",\"El-Mansoura : Gomhoria\",\"Heliopolis : mohamed farid\",\"Hadayek El-Kobba : Alzawia Alhamraa\",\"Sporting : portsaid\",\"Heliopolis : mohamed farid\",\"Smouha : Fawzy Moaaz street\",\"El-Mansoura : Gomhoria\",\"El-Shorouk : terrace mall\",\"El-Maadi : Elmansour Tower-Street 77 infront of Maadi Club Fence\",\"El-Maadi : Carrefour street\",\"El-Giza : mourad\",\"Heliopolis : El nozha street-Smart Slim Clinic besides Administrative Oversight\",\"6th of October : Abdelkhalek tharwat\",\"Faisal : king faisal street- al Marioteya\",\"Bulkly : Bulkly \\u002f Al-Hadaya Tram Station \\u002f Al-Khaleej Building (A)\",\"El-Maadi : Carrefour street\",\"El-Mansoura : Suiz Canal Street-ElSabeaa Tower\",\"El-Sheikh Zayed : Zayed (Badr) mall\",\"El-Manyal : el saraya\",\"Heliopolis : ahmed fouad street\",\"El-Maadi : Ellaselki Street-New Maadi\",\"Mahalla : Talaat Harb Square\",\"El-Sheikh Zayed : Zayed (Badr) mall\",\"El-Manyal : el saraya\",\"El-Ibrahimia\",\"6th of October\",\"El-Haram\",\"Nasr City\",\"El-Ibrahimia : Omar Lotfy st lteram\",\"El-Haram : Khofo street - El kom El Akhdar - Haram\",\"El-Manyal : El Manyal\",\"Nasr City : 11 rabea buldings , behind tom & Bassal , 2nd floor\",\"Faisal\"],\"lat\":[28.4243751,29.9723458,29.9942663,30.0521177,30.0388955,30.0388955,30.0388955,29.9723458,29.5804817,30.0521177,30.0521177,29.9699896,31.1906604,30.0388955,30.5886074,30.0388955,30.5886074,30.0800186,29.9942663,31.0295879,30.1914,30.010064,31.1906604,30.0221089,29.9699896,28.4243751,29.9723458,29.9942663,30.0521177,29.9699896,30.0648589,30.0221089,30.1304761,30.0277688,30.5886074,31.218448,30.1304761,30.5886074,30.1304761,29.9942663,30.0277688,30.1304761,31.218448,30.0741402,30.3154491,30.063584,29.8968261,31.218448,28.4243751,29.9723458,29.9942663,30.0521177,30.5950402,29.9942663,30.0221089,30.1304761,30.0277688,29.9942663,30.0751074,29.3074076,30.3154491,30.0741402,31.218448,30.0912704,30.063584,30.0221089,30.1304761,29.8968261,29.9942663,30.3154491,29.9723458,30.0151212,31.218448,30.5886074,30.3154491,30.1304761,31.218448,28.4243751,29.9723458,29.9942663,30.0521177,30.0388955,30.0277688,30.0388955,30.0388955,30.0583951,30.0978834,29.8500001,30.0521177,30.3154491,30.0800186,30.4626909,31.1906604,28.4243751,29.9723458,29.9942663,30.0521177,31.201541,30.0388955,30.0388955,30.0277688,30.0521177,30.0800186,30.4626909,31.1906604,31.2154155,30.0388955,30.4698762,31.0295879,30.0583951,30.0978834,28.4243751,29.9723458,29.9942663,30.0521177,30.0521177,30.0277688,31.1906604,30.0583951,30.0978834,30.9690765,30.0388955,29.9934593,30.3154491,30.0388955,30.0221089,30.0583951,30.0521177,28.4243751,29.9723458,29.9942663,30.0521177,29.8500001,30.9690765,28.4243751,29.9942663,30.0388955,29.9934593,30.3154491,30.0388955,30.0221089,30.0583951,30.0277688,30.5886074,29.9782662,30.0521177,30.0123374,29.9723458,30.3154491,30.3154491,30.0221089,30.063584,30.0123374,29.9699896,29.9699896,30.0583951,28.4243751,29.9723458,29.9942663,30.0521177,30.3154491,29.850964,30.5886074,30.0221089,30.0583951,30.3154491,29.9942663,30.1914,30.063584,29.9567086,30.5545106,30.4572179,30.0521177,30.5886074,28.4243751,29.9723458,29.9942663,30.0521177,29.8531211,30.1304761,30.5950402,30.1304761,30.063584,29.9942663,30.5886074,29.9567086,30.5545106,30.0521177,30.4572179,29.9723458,30.1114881,30.0176707,30.0521177,30.0162683,29.9723458,29.9723458,28.4243751,29.9723458,29.9942663,30.0521177,26.1216587,30.5545106,29.9723458,29.9942663,29.8968261,30.0978834,30.1020034,29.9723458,29.9934593,30.5886074,30.5545106,30.0521177,30.0162683,29.9723458,28.4243751,29.9723458,29.9942663,30.0521177,30.1914,31.1906604,30.1304761,29.9942663,29.9723458,30.0291097,30.2410552,30.0978834,28.4243751,29.9723458,29.9942663,30.0521177,30.1304761,29.9771168,30.5886074,30.0521177,30.0521177,29.9567086,30.0521177,31.1906604,30.5886074,29.9770143,30.0377163,30.5886074,30.019713,30.048347,30.1304761,30.3154491,28.4243751,29.9723458,29.9942663,30.0521177,30.0583951,30.1063333,31.1906604,30.5886074,30.5886074,29.9942663,30.0583951,30.0521177,30.5886074,29.9942663,31.1906604,30.0214222,30.2410552,28.4243751,29.9723458,29.9942663,30.0521177,30.1063333,30.5886074,30.1445497,30.0978834,30.1914,30.0277688,29.9532299,29.9723458,29.9699896,30.0277688,29.9699896,30.1220083,30.5886074,30.0022218,30.1304761,30.0978834,30.063584,28.4243751,29.9723458,29.9942663,30.0521177,30.1304761,30.0521177,29.9693495,30.1445497,29.9699896,28.4243751,30.0277688,29.9942663,30.0583951,31.1906604,30.0583951,30.1063333,30.0277688,30.1304761,30.5886074,30.5886074,28.4243751,29.9723458,29.9942663,30.0521177,30.0978834,30.0583951,31.1906604,30.1304761,30.0521177,30.1304761,30.0583951,30.0521177,30.0509633,30.0521177,30.0583951,30.0872624,31.1906604,28.4243751,29.9723458,29.9942663,30.0521177,30.1210367,30.0978834,30.5886074,30.5886074,30.3154491,30.1914,30.0583951,30.1304761,30.5950402,30.0583951,29.9693495,30.0521177,30.1304761,30.0583951,31.1906604,30.0521177,28.4243751,29.9723458,29.9942663,30.0521177,30.5886074,30.5886074,30.1914,30.0583951,31.1906604,30.1914,30.1210367,30.1304761,30.1210367,28.4243751,29.9723458,29.9942663,30.0521177,31.1906604,30.063584,30.1012561,30.0583951,30.0377163,30.0521177,31.218448,31.1906604,28.0893325,30.3154491,30.1304761,29.9669446,30.3154491,30.1210367,30.0978834,30.1304761,28.4243751,29.9723458,29.9942663,30.0521177,30.026035,30.0521177,31.1906604,30.5886074,30.5886074,30.0377163,31.1906604,30.048347,30.0583951,30.1304761,30.3154491,30.1914,30.0521177,30.0393832,30.1914,31.1906604,30.0583951,30.5886074,31.1906604,29.8500001,30.0377163,30.119528,30.0464741,29.9942663,30.5886074,29.9656111,30.5886074,30.063584,30.0887556,30.0525864,30.0525864,29.9593443,29.9593443,31.1906604,31.1906604,30.0525864,30.5886074,30.5886074,30.1914,30.1914,31.1906604,30.0396447,30.5886074,30.5886074,30.0525864,30.0521177,30.0521177,30.1914,30.5886074,30.1304761,30.0525864,30.0338657,30.0583951,30.5886074,30.5886074,30.1124093,30.1304761,30.0521177,30.1124093,30.0277688,30.5886074,30.1124093,30.0583951,30.5886074,30.1522877,31.1906604,29.9821138,30.0162683,30.5886074,30.1304761,30.063584,30.1914,29.9821138,31.0295879,30.0557502,30.0319654,30.1063048,30.5886074,29.9942663,30.0557502,30.0319654,28.4243751,29.9723458,29.9942663,30.0521177,30.063584,30.1914,30.0214222,31.0295879,30.0978834],\"legendgroup\":\"\",\"lon\":[30.7932891,30.9409205,31.1604591,31.3422045,31.2125563,31.2125563,31.2125563,30.9409205,31.2877833,31.3422045,31.3422045,31.0973269,29.9197447,31.2125563,31.4819297,31.2125563,31.4819297,31.245269,31.1604591,30.458754,31.450548,31.2674452,29.9197447,31.2683682,31.0973269,30.7932891,30.9409205,31.1604591,31.3422045,31.0973269,31.2916881,31.2683682,31.3167491,31.4756825,31.4819297,30.6780577,31.3167491,31.4819297,31.3167491,31.1604591,31.4756825,31.3167491,30.6780577,31.4936587,31.7392776,31.4889939,31.3009298,30.6780577,30.7932891,30.9409205,31.1604591,31.3422045,31.5125611,31.1604591,31.2683682,31.3167491,31.4756825,31.1604591,31.2472034,30.8399651,31.7392776,31.4936587,30.6780577,31.3152293,31.4889939,31.2683682,31.3167491,31.3009298,31.1604591,31.7392776,30.9409205,31.4600614,30.6780577,31.4819297,31.7392776,31.3167491,30.6780577,30.7932891,30.9409205,31.1604591,31.3422045,31.2125563,31.4756825,31.2125563,31.2125563,31.2020231,32.4856496,31.333333,31.3422045,31.7392776,31.245269,30.9388785,29.9197447,30.7932891,30.9409205,31.1604591,31.3422045,29.9013501,31.2125563,31.2125563,31.4756825,31.3422045,31.245269,30.9388785,29.9197447,29.9447672,31.2125563,31.1818149,30.458754,31.2020231,32.4856496,30.7932891,30.9409205,31.1604591,31.3422045,31.3422045,31.4756825,29.9197447,31.2020231,32.4856496,31.1691355,31.2125563,31.3850161,31.7392776,31.2125563,31.2683682,31.2020231,31.3422045,30.7932891,30.9409205,31.1604591,31.3422045,31.333333,31.1691355,30.7932891,31.1604591,31.2125563,31.3850161,31.7392776,31.2125563,31.2683682,31.2020231,31.4756825,31.4819297,31.3069517,31.3422045,31.2656704,30.9409205,31.7392776,31.7392776,31.2683682,31.4889939,31.2656704,31.0973269,31.0973269,31.2020231,30.7932891,30.9409205,31.1604591,31.3422045,31.7392776,31.2209469,31.4819297,31.2683682,31.2020231,31.7392776,31.1604591,31.450548,31.4889939,30.9203561,31.0097923,31.1790701,31.3422045,31.4819297,30.7932891,30.9409205,31.1604591,31.3422045,31.2780759,31.3167491,31.5125611,31.3167491,31.4889939,31.1604591,31.4819297,30.9203561,31.0097923,31.3422045,31.1790701,30.9409205,31.3458582,31.231226,31.3422045,31.213326,30.9409205,30.9409205,30.7932891,30.9409205,31.1604591,31.3422045,34.2553483,31.0097923,30.9409205,31.1604591,31.3009298,32.4856496,31.3266948,30.9409205,31.3850161,31.4819297,31.0097923,31.3422045,31.213326,30.9409205,30.7932891,30.9409205,31.1604591,31.3422045,31.450548,29.9197447,31.3167491,31.1604591,30.9409205,31.2305117,31.4729346,32.4856496,30.7932891,30.9409205,31.1604591,31.3422045,31.3167491,31.277068,31.4819297,31.3422045,31.3422045,30.9203561,31.3422045,29.9197447,31.4819297,31.2565716,31.2086742,31.4819297,31.4232476,30.9832235,31.3167491,31.7392776,30.7932891,30.9409205,31.1604591,31.3422045,31.2020231,31.3241048,29.9197447,31.4819297,31.4819297,31.1604591,31.2020231,31.3422045,31.4819297,31.1604591,29.9197447,31.2257555,31.4729346,30.7932891,30.9409205,31.1604591,31.3422045,31.3241048,31.4819297,31.3411289,32.4856496,31.450548,31.4756825,30.9262491,30.9409205,31.0973269,31.4756825,31.0973269,31.3010974,31.4819297,31.2453418,31.3167491,32.4856496,31.4889939,30.7932891,30.9409205,31.1604591,31.3422045,31.3167491,31.3422045,31.3181833,31.3411289,31.0973269,30.7932891,31.4756825,31.1604591,31.2020231,29.9197447,31.2020231,31.3241048,31.4756825,31.3167491,31.4819297,31.4819297,30.7932891,30.9409205,31.1604591,31.3422045,32.4856496,31.2020231,29.9197447,31.3167491,31.3422045,31.3167491,31.2020231,31.3422045,31.19967,31.3422045,31.2020231,31.3351441,29.9197447,30.7932891,30.9409205,31.1604591,31.3422045,31.2521633,32.4856496,31.4819297,31.4819297,31.7392776,31.450548,31.2020231,31.3167491,31.5125611,31.2020231,31.3181833,31.3422045,31.3167491,31.2020231,29.9197447,31.3422045,30.7932891,30.9409205,31.1604591,31.3422045,31.4819297,31.4819297,31.450548,31.2020231,29.9197447,31.450548,31.2521633,31.3167491,31.2521633,30.7932891,30.9409205,31.1604591,31.3422045,29.9197447,31.4889939,31.3177468,31.2020231,31.2086742,31.3422045,30.6780577,29.9197447,30.7570623,31.7392776,31.3167491,31.2526034,31.7392776,31.2521633,32.4856496,31.3167491,30.7932891,30.9409205,31.1604591,31.3422045,31.2276458,31.3422045,29.9197447,31.4819297,31.4819297,31.2086742,29.9197447,30.9832235,31.2020231,31.3167491,31.7392776,31.450548,31.3422045,31.2162084,31.450548,29.9197447,31.2020231,31.4819297,29.9197447,31.333333,31.2086742,31.606878,31.337003,31.1604591,31.4819297,31.239043,31.4819297,31.4889939,31.3258621,31.3507103,31.3507103,31.5596372,31.5596372,29.9197447,29.9197447,31.3507103,31.4819297,31.4819297,31.450548,31.450548,29.9197447,31.3694444,31.4819297,31.4819297,31.3507103,31.3422045,31.3422045,31.450548,31.4819297,31.3167491,31.3507103,31.2361475,31.2020231,31.4819297,31.4819297,31.3375543,31.3167491,31.3422045,31.3375543,31.4756825,31.4819297,31.3375543,31.2020231,31.4819297,31.626722,29.9197447,31.3177099,31.213326,31.4819297,31.3167491,31.4889939,31.450548,31.3177099,30.458754,30.9566432,31.2293638,31.3463211,31.4819297,31.1604591,30.9566432,31.2293638,30.7932891,30.9409205,31.1604591,31.3422045,31.4889939,31.450548,31.2257555,30.458754,32.4856496],\"marker\":{\"color\":\"#636efa\"},\"mode\":\"markers\",\"name\":\"\",\"showlegend\":false,\"subplot\":\"mapbox\",\"type\":\"scattermapbox\"}],                        {\"template\":{\"data\":{\"histogram2dcontour\":[{\"type\":\"histogram2dcontour\",\"colorbar\":{\"outlinewidth\":0,\"ticks\":\"\"},\"colorscale\":[[0.0,\"#0d0887\"],[0.1111111111111111,\"#46039f\"],[0.2222222222222222,\"#7201a8\"],[0.3333333333333333,\"#9c179e\"],[0.4444444444444444,\"#bd3786\"],[0.5555555555555556,\"#d8576b\"],[0.6666666666666666,\"#ed7953\"],[0.7777777777777778,\"#fb9f3a\"],[0.8888888888888888,\"#fdca26\"],[1.0,\"#f0f921\"]]}],\"choropleth\":[{\"type\":\"choropleth\",\"colorbar\":{\"outlinewidth\":0,\"ticks\":\"\"}}],\"histogram2d\":[{\"type\":\"histogram2d\",\"colorbar\":{\"outlinewidth\":0,\"ticks\":\"\"},\"colorscale\":[[0.0,\"#0d0887\"],[0.1111111111111111,\"#46039f\"],[0.2222222222222222,\"#7201a8\"],[0.3333333333333333,\"#9c179e\"],[0.4444444444444444,\"#bd3786\"],[0.5555555555555556,\"#d8576b\"],[0.6666666666666666,\"#ed7953\"],[0.7777777777777778,\"#fb9f3a\"],[0.8888888888888888,\"#fdca26\"],[1.0,\"#f0f921\"]]}],\"heatmap\":[{\"type\":\"heatmap\",\"colorbar\":{\"outlinewidth\":0,\"ticks\":\"\"},\"colorscale\":[[0.0,\"#0d0887\"],[0.1111111111111111,\"#46039f\"],[0.2222222222222222,\"#7201a8\"],[0.3333333333333333,\"#9c179e\"],[0.4444444444444444,\"#bd3786\"],[0.5555555555555556,\"#d8576b\"],[0.6666666666666666,\"#ed7953\"],[0.7777777777777778,\"#fb9f3a\"],[0.8888888888888888,\"#fdca26\"],[1.0,\"#f0f921\"]]}],\"heatmapgl\":[{\"type\":\"heatmapgl\",\"colorbar\":{\"outlinewidth\":0,\"ticks\":\"\"},\"colorscale\":[[0.0,\"#0d0887\"],[0.1111111111111111,\"#46039f\"],[0.2222222222222222,\"#7201a8\"],[0.3333333333333333,\"#9c179e\"],[0.4444444444444444,\"#bd3786\"],[0.5555555555555556,\"#d8576b\"],[0.6666666666666666,\"#ed7953\"],[0.7777777777777778,\"#fb9f3a\"],[0.8888888888888888,\"#fdca26\"],[1.0,\"#f0f921\"]]}],\"contourcarpet\":[{\"type\":\"contourcarpet\",\"colorbar\":{\"outlinewidth\":0,\"ticks\":\"\"}}],\"contour\":[{\"type\":\"contour\",\"colorbar\":{\"outlinewidth\":0,\"ticks\":\"\"},\"colorscale\":[[0.0,\"#0d0887\"],[0.1111111111111111,\"#46039f\"],[0.2222222222222222,\"#7201a8\"],[0.3333333333333333,\"#9c179e\"],[0.4444444444444444,\"#bd3786\"],[0.5555555555555556,\"#d8576b\"],[0.6666666666666666,\"#ed7953\"],[0.7777777777777778,\"#fb9f3a\"],[0.8888888888888888,\"#fdca26\"],[1.0,\"#f0f921\"]]}],\"surface\":[{\"type\":\"surface\",\"colorbar\":{\"outlinewidth\":0,\"ticks\":\"\"},\"colorscale\":[[0.0,\"#0d0887\"],[0.1111111111111111,\"#46039f\"],[0.2222222222222222,\"#7201a8\"],[0.3333333333333333,\"#9c179e\"],[0.4444444444444444,\"#bd3786\"],[0.5555555555555556,\"#d8576b\"],[0.6666666666666666,\"#ed7953\"],[0.7777777777777778,\"#fb9f3a\"],[0.8888888888888888,\"#fdca26\"],[1.0,\"#f0f921\"]]}],\"mesh3d\":[{\"type\":\"mesh3d\",\"colorbar\":{\"outlinewidth\":0,\"ticks\":\"\"}}],\"scatter\":[{\"fillpattern\":{\"fillmode\":\"overlay\",\"size\":10,\"solidity\":0.2},\"type\":\"scatter\"}],\"parcoords\":[{\"type\":\"parcoords\",\"line\":{\"colorbar\":{\"outlinewidth\":0,\"ticks\":\"\"}}}],\"scatterpolargl\":[{\"type\":\"scatterpolargl\",\"marker\":{\"colorbar\":{\"outlinewidth\":0,\"ticks\":\"\"}}}],\"bar\":[{\"error_x\":{\"color\":\"#2a3f5f\"},\"error_y\":{\"color\":\"#2a3f5f\"},\"marker\":{\"line\":{\"color\":\"#E5ECF6\",\"width\":0.5},\"pattern\":{\"fillmode\":\"overlay\",\"size\":10,\"solidity\":0.2}},\"type\":\"bar\"}],\"scattergeo\":[{\"type\":\"scattergeo\",\"marker\":{\"colorbar\":{\"outlinewidth\":0,\"ticks\":\"\"}}}],\"scatterpolar\":[{\"type\":\"scatterpolar\",\"marker\":{\"colorbar\":{\"outlinewidth\":0,\"ticks\":\"\"}}}],\"histogram\":[{\"marker\":{\"pattern\":{\"fillmode\":\"overlay\",\"size\":10,\"solidity\":0.2}},\"type\":\"histogram\"}],\"scattergl\":[{\"type\":\"scattergl\",\"marker\":{\"colorbar\":{\"outlinewidth\":0,\"ticks\":\"\"}}}],\"scatter3d\":[{\"type\":\"scatter3d\",\"line\":{\"colorbar\":{\"outlinewidth\":0,\"ticks\":\"\"}},\"marker\":{\"colorbar\":{\"outlinewidth\":0,\"ticks\":\"\"}}}],\"scattermapbox\":[{\"type\":\"scattermapbox\",\"marker\":{\"colorbar\":{\"outlinewidth\":0,\"ticks\":\"\"}}}],\"scatterternary\":[{\"type\":\"scatterternary\",\"marker\":{\"colorbar\":{\"outlinewidth\":0,\"ticks\":\"\"}}}],\"scattercarpet\":[{\"type\":\"scattercarpet\",\"marker\":{\"colorbar\":{\"outlinewidth\":0,\"ticks\":\"\"}}}],\"carpet\":[{\"aaxis\":{\"endlinecolor\":\"#2a3f5f\",\"gridcolor\":\"white\",\"linecolor\":\"white\",\"minorgridcolor\":\"white\",\"startlinecolor\":\"#2a3f5f\"},\"baxis\":{\"endlinecolor\":\"#2a3f5f\",\"gridcolor\":\"white\",\"linecolor\":\"white\",\"minorgridcolor\":\"white\",\"startlinecolor\":\"#2a3f5f\"},\"type\":\"carpet\"}],\"table\":[{\"cells\":{\"fill\":{\"color\":\"#EBF0F8\"},\"line\":{\"color\":\"white\"}},\"header\":{\"fill\":{\"color\":\"#C8D4E3\"},\"line\":{\"color\":\"white\"}},\"type\":\"table\"}],\"barpolar\":[{\"marker\":{\"line\":{\"color\":\"#E5ECF6\",\"width\":0.5},\"pattern\":{\"fillmode\":\"overlay\",\"size\":10,\"solidity\":0.2}},\"type\":\"barpolar\"}],\"pie\":[{\"automargin\":true,\"type\":\"pie\"}]},\"layout\":{\"autotypenumbers\":\"strict\",\"colorway\":[\"#636efa\",\"#EF553B\",\"#00cc96\",\"#ab63fa\",\"#FFA15A\",\"#19d3f3\",\"#FF6692\",\"#B6E880\",\"#FF97FF\",\"#FECB52\"],\"font\":{\"color\":\"#2a3f5f\"},\"hovermode\":\"closest\",\"hoverlabel\":{\"align\":\"left\"},\"paper_bgcolor\":\"white\",\"plot_bgcolor\":\"#E5ECF6\",\"polar\":{\"bgcolor\":\"#E5ECF6\",\"angularaxis\":{\"gridcolor\":\"white\",\"linecolor\":\"white\",\"ticks\":\"\"},\"radialaxis\":{\"gridcolor\":\"white\",\"linecolor\":\"white\",\"ticks\":\"\"}},\"ternary\":{\"bgcolor\":\"#E5ECF6\",\"aaxis\":{\"gridcolor\":\"white\",\"linecolor\":\"white\",\"ticks\":\"\"},\"baxis\":{\"gridcolor\":\"white\",\"linecolor\":\"white\",\"ticks\":\"\"},\"caxis\":{\"gridcolor\":\"white\",\"linecolor\":\"white\",\"ticks\":\"\"}},\"coloraxis\":{\"colorbar\":{\"outlinewidth\":0,\"ticks\":\"\"}},\"colorscale\":{\"sequential\":[[0.0,\"#0d0887\"],[0.1111111111111111,\"#46039f\"],[0.2222222222222222,\"#7201a8\"],[0.3333333333333333,\"#9c179e\"],[0.4444444444444444,\"#bd3786\"],[0.5555555555555556,\"#d8576b\"],[0.6666666666666666,\"#ed7953\"],[0.7777777777777778,\"#fb9f3a\"],[0.8888888888888888,\"#fdca26\"],[1.0,\"#f0f921\"]],\"sequentialminus\":[[0.0,\"#0d0887\"],[0.1111111111111111,\"#46039f\"],[0.2222222222222222,\"#7201a8\"],[0.3333333333333333,\"#9c179e\"],[0.4444444444444444,\"#bd3786\"],[0.5555555555555556,\"#d8576b\"],[0.6666666666666666,\"#ed7953\"],[0.7777777777777778,\"#fb9f3a\"],[0.8888888888888888,\"#fdca26\"],[1.0,\"#f0f921\"]],\"diverging\":[[0,\"#8e0152\"],[0.1,\"#c51b7d\"],[0.2,\"#de77ae\"],[0.3,\"#f1b6da\"],[0.4,\"#fde0ef\"],[0.5,\"#f7f7f7\"],[0.6,\"#e6f5d0\"],[0.7,\"#b8e186\"],[0.8,\"#7fbc41\"],[0.9,\"#4d9221\"],[1,\"#276419\"]]},\"xaxis\":{\"gridcolor\":\"white\",\"linecolor\":\"white\",\"ticks\":\"\",\"title\":{\"standoff\":15},\"zerolinecolor\":\"white\",\"automargin\":true,\"zerolinewidth\":2},\"yaxis\":{\"gridcolor\":\"white\",\"linecolor\":\"white\",\"ticks\":\"\",\"title\":{\"standoff\":15},\"zerolinecolor\":\"white\",\"automargin\":true,\"zerolinewidth\":2},\"scene\":{\"xaxis\":{\"backgroundcolor\":\"#E5ECF6\",\"gridcolor\":\"white\",\"linecolor\":\"white\",\"showbackground\":true,\"ticks\":\"\",\"zerolinecolor\":\"white\",\"gridwidth\":2},\"yaxis\":{\"backgroundcolor\":\"#E5ECF6\",\"gridcolor\":\"white\",\"linecolor\":\"white\",\"showbackground\":true,\"ticks\":\"\",\"zerolinecolor\":\"white\",\"gridwidth\":2},\"zaxis\":{\"backgroundcolor\":\"#E5ECF6\",\"gridcolor\":\"white\",\"linecolor\":\"white\",\"showbackground\":true,\"ticks\":\"\",\"zerolinecolor\":\"white\",\"gridwidth\":2}},\"shapedefaults\":{\"line\":{\"color\":\"#2a3f5f\"}},\"annotationdefaults\":{\"arrowcolor\":\"#2a3f5f\",\"arrowhead\":0,\"arrowwidth\":1},\"geo\":{\"bgcolor\":\"white\",\"landcolor\":\"#E5ECF6\",\"subunitcolor\":\"white\",\"showland\":true,\"showlakes\":true,\"lakecolor\":\"white\"},\"title\":{\"x\":0.05},\"mapbox\":{\"style\":\"light\"}}},\"mapbox\":{\"domain\":{\"x\":[0.0,1.0],\"y\":[0.0,1.0]},\"center\":{\"lat\":30.110733107692308,\"lon\":31.20849067820513},\"zoom\":5,\"style\":\"open-street-map\"},\"legend\":{\"tracegroupgap\":0},\"margin\":{\"t\":60},\"height\":500},                        {\"responsive\": true}                    ).then(function(){\n",
       "                            \n",
       "var gd = document.getElementById('b8d3b274-5c53-4b62-bc73-959bc0c76790');\n",
       "var x = new MutationObserver(function (mutations, observer) {{\n",
       "        var display = window.getComputedStyle(gd).display;\n",
       "        if (!display || display === 'none') {{\n",
       "            console.log([gd, 'removed!']);\n",
       "            Plotly.purge(gd);\n",
       "            observer.disconnect();\n",
       "        }}\n",
       "}});\n",
       "\n",
       "// Listen for the removal of the full notebook cells\n",
       "var notebookContainer = gd.closest('#notebook-container');\n",
       "if (notebookContainer) {{\n",
       "    x.observe(notebookContainer, {childList: true});\n",
       "}}\n",
       "\n",
       "// Listen for the clearing of the current output cell\n",
       "var outputEl = gd.closest('.output');\n",
       "if (outputEl) {{\n",
       "    x.observe(outputEl, {childList: true});\n",
       "}}\n",
       "\n",
       "                        })                };                });            </script>        </div>"
      ]
     },
     "metadata": {},
     "output_type": "display_data"
    }
   ],
   "source": [
    "import plotly.express as px\n",
    "import pandas as pd\n",
    "accepted_locations=df_merged.dropna()\n",
    "fig = px.scatter_mapbox(\n",
    "    accepted_locations,\n",
    "    lat=\"latitude\",\n",
    "    lon=\"longitude\",\n",
    "    hover_name=\"clinic_location\", \n",
    "    zoom=5,\n",
    "    height=500\n",
    ")\n",
    "\n",
    "fig.update_layout(mapbox_style=\"open-street-map\")\n",
    "fig.show()\n"
   ]
  },
  {
   "cell_type": "code",
   "execution_count": 240,
   "id": "865f00a9-1bb0-45e1-b9b1-809c177647bb",
   "metadata": {},
   "outputs": [
    {
     "data": {
      "text/html": [
       "<div>\n",
       "<style scoped>\n",
       "    .dataframe tbody tr th:only-of-type {\n",
       "        vertical-align: middle;\n",
       "    }\n",
       "\n",
       "    .dataframe tbody tr th {\n",
       "        vertical-align: top;\n",
       "    }\n",
       "\n",
       "    .dataframe thead th {\n",
       "        text-align: right;\n",
       "    }\n",
       "</style>\n",
       "<table border=\"1\" class=\"dataframe\">\n",
       "  <thead>\n",
       "    <tr style=\"text-align: right;\">\n",
       "      <th></th>\n",
       "      <th>Doctor_Name</th>\n",
       "      <th>specialization</th>\n",
       "      <th>avg_rate</th>\n",
       "      <th>clinic_location</th>\n",
       "      <th>Category</th>\n",
       "      <th>latitude</th>\n",
       "      <th>longitude</th>\n",
       "    </tr>\n",
       "  </thead>\n",
       "  <tbody>\n",
       "    <tr>\n",
       "      <th>0</th>\n",
       "      <td>Salim El-Shazly</td>\n",
       "      <td>Physiotherapist</td>\n",
       "      <td>5.000000</td>\n",
       "      <td>El-Mansoura</td>\n",
       "      <td>Musculoskeletal</td>\n",
       "      <td>NaN</td>\n",
       "      <td>NaN</td>\n",
       "    </tr>\n",
       "    <tr>\n",
       "      <th>6</th>\n",
       "      <td>Hassan El-Kholy</td>\n",
       "      <td>Dermatologist</td>\n",
       "      <td>4.500000</td>\n",
       "      <td>El-Ibrahimia</td>\n",
       "      <td>Skin</td>\n",
       "      <td>28.424375</td>\n",
       "      <td>30.793289</td>\n",
       "    </tr>\n",
       "    <tr>\n",
       "      <th>9</th>\n",
       "      <td>Mohamed Youssef</td>\n",
       "      <td>Orthopedist</td>\n",
       "      <td>4.500000</td>\n",
       "      <td>6th of October</td>\n",
       "      <td>Musculoskeletal</td>\n",
       "      <td>29.972346</td>\n",
       "      <td>30.940921</td>\n",
       "    </tr>\n",
       "    <tr>\n",
       "      <th>13</th>\n",
       "      <td>Jamal El-Kassas</td>\n",
       "      <td>Gynecologist</td>\n",
       "      <td>4.758471</td>\n",
       "      <td>El-Haram</td>\n",
       "      <td>Urinary and Reproductive</td>\n",
       "      <td>29.994266</td>\n",
       "      <td>31.160459</td>\n",
       "    </tr>\n",
       "    <tr>\n",
       "      <th>16</th>\n",
       "      <td>Nader Fahmy</td>\n",
       "      <td>Dermatologist</td>\n",
       "      <td>5.000000</td>\n",
       "      <td>Nasr City</td>\n",
       "      <td>Skin</td>\n",
       "      <td>30.052118</td>\n",
       "      <td>31.342205</td>\n",
       "    </tr>\n",
       "    <tr>\n",
       "      <th>...</th>\n",
       "      <td>...</td>\n",
       "      <td>...</td>\n",
       "      <td>...</td>\n",
       "      <td>...</td>\n",
       "      <td>...</td>\n",
       "      <td>...</td>\n",
       "      <td>...</td>\n",
       "    </tr>\n",
       "    <tr>\n",
       "      <th>2740</th>\n",
       "      <td>Hani El-Kassas</td>\n",
       "      <td>Urologist</td>\n",
       "      <td>4.000000</td>\n",
       "      <td>El-Mohandessin :  shehab street</td>\n",
       "      <td>Urinary and Reproductive</td>\n",
       "      <td>NaN</td>\n",
       "      <td>NaN</td>\n",
       "    </tr>\n",
       "    <tr>\n",
       "      <th>2746</th>\n",
       "      <td>Zein Hussein</td>\n",
       "      <td>Hepatologist</td>\n",
       "      <td>4.000000</td>\n",
       "      <td>El-Dokki : altahrir</td>\n",
       "      <td>Gastrointestinal and Liver</td>\n",
       "      <td>NaN</td>\n",
       "      <td>NaN</td>\n",
       "    </tr>\n",
       "    <tr>\n",
       "      <th>2747</th>\n",
       "      <td>Salim Nasser</td>\n",
       "      <td>Gynecologist</td>\n",
       "      <td>4.500000</td>\n",
       "      <td>El-Mansoura : abbasi street</td>\n",
       "      <td>Urinary and Reproductive</td>\n",
       "      <td>NaN</td>\n",
       "      <td>NaN</td>\n",
       "    </tr>\n",
       "    <tr>\n",
       "      <th>2748</th>\n",
       "      <td>Rania Khalil</td>\n",
       "      <td>Internist</td>\n",
       "      <td>4.000000</td>\n",
       "      <td>Faisal</td>\n",
       "      <td>Others</td>\n",
       "      <td>30.097883</td>\n",
       "      <td>32.485650</td>\n",
       "    </tr>\n",
       "    <tr>\n",
       "      <th>2749</th>\n",
       "      <td>Nour Fathy</td>\n",
       "      <td>Ophthalmologist</td>\n",
       "      <td>5.000000</td>\n",
       "      <td>Faisal : 27elshahid Ahmad Hamdy</td>\n",
       "      <td>Eye, Ear and Nose</td>\n",
       "      <td>NaN</td>\n",
       "      <td>NaN</td>\n",
       "    </tr>\n",
       "  </tbody>\n",
       "</table>\n",
       "<p>927 rows × 7 columns</p>\n",
       "</div>"
      ],
      "text/plain": [
       "          Doctor_Name   specialization  avg_rate  \\\n",
       "0     Salim El-Shazly  Physiotherapist  5.000000   \n",
       "6     Hassan El-Kholy    Dermatologist  4.500000   \n",
       "9     Mohamed Youssef      Orthopedist  4.500000   \n",
       "13    Jamal El-Kassas     Gynecologist  4.758471   \n",
       "16        Nader Fahmy    Dermatologist  5.000000   \n",
       "...               ...              ...       ...   \n",
       "2740   Hani El-Kassas        Urologist  4.000000   \n",
       "2746     Zein Hussein     Hepatologist  4.000000   \n",
       "2747     Salim Nasser     Gynecologist  4.500000   \n",
       "2748     Rania Khalil        Internist  4.000000   \n",
       "2749       Nour Fathy  Ophthalmologist  5.000000   \n",
       "\n",
       "                      clinic_location                    Category   latitude  \\\n",
       "0                         El-Mansoura             Musculoskeletal        NaN   \n",
       "6                        El-Ibrahimia                        Skin  28.424375   \n",
       "9                      6th of October             Musculoskeletal  29.972346   \n",
       "13                           El-Haram    Urinary and Reproductive  29.994266   \n",
       "16                          Nasr City                        Skin  30.052118   \n",
       "...                               ...                         ...        ...   \n",
       "2740  El-Mohandessin :  shehab street    Urinary and Reproductive        NaN   \n",
       "2746              El-Dokki : altahrir  Gastrointestinal and Liver        NaN   \n",
       "2747      El-Mansoura : abbasi street    Urinary and Reproductive        NaN   \n",
       "2748                           Faisal                      Others  30.097883   \n",
       "2749  Faisal : 27elshahid Ahmad Hamdy           Eye, Ear and Nose        NaN   \n",
       "\n",
       "      longitude  \n",
       "0           NaN  \n",
       "6     30.793289  \n",
       "9     30.940921  \n",
       "13    31.160459  \n",
       "16    31.342205  \n",
       "...         ...  \n",
       "2740        NaN  \n",
       "2746        NaN  \n",
       "2747        NaN  \n",
       "2748  32.485650  \n",
       "2749        NaN  \n",
       "\n",
       "[927 rows x 7 columns]"
      ]
     },
     "execution_count": 240,
     "metadata": {},
     "output_type": "execute_result"
    }
   ],
   "source": [
    "df_merged"
   ]
  },
  {
   "cell_type": "code",
   "execution_count": 242,
   "id": "337da1ea-c6c4-433b-abae-d45b744e8005",
   "metadata": {},
   "outputs": [
    {
     "data": {
      "text/plain": [
       "0"
      ]
     },
     "execution_count": 242,
     "metadata": {},
     "output_type": "execute_result"
    }
   ],
   "source": [
    "df_merged.duplicated().sum()"
   ]
  },
  {
   "cell_type": "code",
   "execution_count": 243,
   "id": "759ec5b5-f69f-4df3-a01e-15e31bee8fcd",
   "metadata": {},
   "outputs": [
    {
     "data": {
      "text/plain": [
       "Doctor_Name          0\n",
       "specialization       0\n",
       "avg_rate             0\n",
       "clinic_location      0\n",
       "Category             0\n",
       "latitude           459\n",
       "longitude          459\n",
       "dtype: int64"
      ]
     },
     "execution_count": 243,
     "metadata": {},
     "output_type": "execute_result"
    }
   ],
   "source": [
    "df_merged.isna().sum()"
   ]
  },
  {
   "cell_type": "code",
   "execution_count": 244,
   "id": "4d6dfc7a-9b16-458f-91c1-c551ef21a408",
   "metadata": {},
   "outputs": [
    {
     "data": {
      "text/html": [
       "<div>\n",
       "<style scoped>\n",
       "    .dataframe tbody tr th:only-of-type {\n",
       "        vertical-align: middle;\n",
       "    }\n",
       "\n",
       "    .dataframe tbody tr th {\n",
       "        vertical-align: top;\n",
       "    }\n",
       "\n",
       "    .dataframe thead th {\n",
       "        text-align: right;\n",
       "    }\n",
       "</style>\n",
       "<table border=\"1\" class=\"dataframe\">\n",
       "  <thead>\n",
       "    <tr style=\"text-align: right;\">\n",
       "      <th></th>\n",
       "      <th>Doctor_Name</th>\n",
       "      <th>specialization</th>\n",
       "      <th>avg_rate</th>\n",
       "      <th>clinic_location</th>\n",
       "      <th>Category</th>\n",
       "      <th>latitude</th>\n",
       "      <th>longitude</th>\n",
       "    </tr>\n",
       "  </thead>\n",
       "  <tbody>\n",
       "    <tr>\n",
       "      <th>0</th>\n",
       "      <td>Salim El-Shazly</td>\n",
       "      <td>Physiotherapist</td>\n",
       "      <td>5.000000</td>\n",
       "      <td>El-Mansoura</td>\n",
       "      <td>Musculoskeletal</td>\n",
       "      <td>NaN</td>\n",
       "      <td>NaN</td>\n",
       "    </tr>\n",
       "    <tr>\n",
       "      <th>6</th>\n",
       "      <td>Hassan El-Kholy</td>\n",
       "      <td>Dermatologist</td>\n",
       "      <td>4.500000</td>\n",
       "      <td>El-Ibrahimia</td>\n",
       "      <td>Skin</td>\n",
       "      <td>28.424375</td>\n",
       "      <td>30.793289</td>\n",
       "    </tr>\n",
       "    <tr>\n",
       "      <th>9</th>\n",
       "      <td>Mohamed Youssef</td>\n",
       "      <td>Orthopedist</td>\n",
       "      <td>4.500000</td>\n",
       "      <td>6th of October</td>\n",
       "      <td>Musculoskeletal</td>\n",
       "      <td>29.972346</td>\n",
       "      <td>30.940921</td>\n",
       "    </tr>\n",
       "    <tr>\n",
       "      <th>13</th>\n",
       "      <td>Jamal El-Kassas</td>\n",
       "      <td>Gynecologist</td>\n",
       "      <td>4.758471</td>\n",
       "      <td>El-Haram</td>\n",
       "      <td>Urinary and Reproductive</td>\n",
       "      <td>29.994266</td>\n",
       "      <td>31.160459</td>\n",
       "    </tr>\n",
       "    <tr>\n",
       "      <th>16</th>\n",
       "      <td>Nader Fahmy</td>\n",
       "      <td>Dermatologist</td>\n",
       "      <td>5.000000</td>\n",
       "      <td>Nasr City</td>\n",
       "      <td>Skin</td>\n",
       "      <td>30.052118</td>\n",
       "      <td>31.342205</td>\n",
       "    </tr>\n",
       "    <tr>\n",
       "      <th>...</th>\n",
       "      <td>...</td>\n",
       "      <td>...</td>\n",
       "      <td>...</td>\n",
       "      <td>...</td>\n",
       "      <td>...</td>\n",
       "      <td>...</td>\n",
       "      <td>...</td>\n",
       "    </tr>\n",
       "    <tr>\n",
       "      <th>2740</th>\n",
       "      <td>Hani El-Kassas</td>\n",
       "      <td>Urologist</td>\n",
       "      <td>4.000000</td>\n",
       "      <td>El-Mohandessin :  shehab street</td>\n",
       "      <td>Urinary and Reproductive</td>\n",
       "      <td>NaN</td>\n",
       "      <td>NaN</td>\n",
       "    </tr>\n",
       "    <tr>\n",
       "      <th>2746</th>\n",
       "      <td>Zein Hussein</td>\n",
       "      <td>Hepatologist</td>\n",
       "      <td>4.000000</td>\n",
       "      <td>El-Dokki : altahrir</td>\n",
       "      <td>Gastrointestinal and Liver</td>\n",
       "      <td>NaN</td>\n",
       "      <td>NaN</td>\n",
       "    </tr>\n",
       "    <tr>\n",
       "      <th>2747</th>\n",
       "      <td>Salim Nasser</td>\n",
       "      <td>Gynecologist</td>\n",
       "      <td>4.500000</td>\n",
       "      <td>El-Mansoura : abbasi street</td>\n",
       "      <td>Urinary and Reproductive</td>\n",
       "      <td>NaN</td>\n",
       "      <td>NaN</td>\n",
       "    </tr>\n",
       "    <tr>\n",
       "      <th>2748</th>\n",
       "      <td>Rania Khalil</td>\n",
       "      <td>Internist</td>\n",
       "      <td>4.000000</td>\n",
       "      <td>Faisal</td>\n",
       "      <td>Others</td>\n",
       "      <td>30.097883</td>\n",
       "      <td>32.485650</td>\n",
       "    </tr>\n",
       "    <tr>\n",
       "      <th>2749</th>\n",
       "      <td>Nour Fathy</td>\n",
       "      <td>Ophthalmologist</td>\n",
       "      <td>5.000000</td>\n",
       "      <td>Faisal : 27elshahid Ahmad Hamdy</td>\n",
       "      <td>Eye, Ear and Nose</td>\n",
       "      <td>NaN</td>\n",
       "      <td>NaN</td>\n",
       "    </tr>\n",
       "  </tbody>\n",
       "</table>\n",
       "<p>927 rows × 7 columns</p>\n",
       "</div>"
      ],
      "text/plain": [
       "          Doctor_Name   specialization  avg_rate  \\\n",
       "0     Salim El-Shazly  Physiotherapist  5.000000   \n",
       "6     Hassan El-Kholy    Dermatologist  4.500000   \n",
       "9     Mohamed Youssef      Orthopedist  4.500000   \n",
       "13    Jamal El-Kassas     Gynecologist  4.758471   \n",
       "16        Nader Fahmy    Dermatologist  5.000000   \n",
       "...               ...              ...       ...   \n",
       "2740   Hani El-Kassas        Urologist  4.000000   \n",
       "2746     Zein Hussein     Hepatologist  4.000000   \n",
       "2747     Salim Nasser     Gynecologist  4.500000   \n",
       "2748     Rania Khalil        Internist  4.000000   \n",
       "2749       Nour Fathy  Ophthalmologist  5.000000   \n",
       "\n",
       "                      clinic_location                    Category   latitude  \\\n",
       "0                         El-Mansoura             Musculoskeletal        NaN   \n",
       "6                        El-Ibrahimia                        Skin  28.424375   \n",
       "9                      6th of October             Musculoskeletal  29.972346   \n",
       "13                           El-Haram    Urinary and Reproductive  29.994266   \n",
       "16                          Nasr City                        Skin  30.052118   \n",
       "...                               ...                         ...        ...   \n",
       "2740  El-Mohandessin :  shehab street    Urinary and Reproductive        NaN   \n",
       "2746              El-Dokki : altahrir  Gastrointestinal and Liver        NaN   \n",
       "2747      El-Mansoura : abbasi street    Urinary and Reproductive        NaN   \n",
       "2748                           Faisal                      Others  30.097883   \n",
       "2749  Faisal : 27elshahid Ahmad Hamdy           Eye, Ear and Nose        NaN   \n",
       "\n",
       "      longitude  \n",
       "0           NaN  \n",
       "6     30.793289  \n",
       "9     30.940921  \n",
       "13    31.160459  \n",
       "16    31.342205  \n",
       "...         ...  \n",
       "2740        NaN  \n",
       "2746        NaN  \n",
       "2747        NaN  \n",
       "2748  32.485650  \n",
       "2749        NaN  \n",
       "\n",
       "[927 rows x 7 columns]"
      ]
     },
     "execution_count": 244,
     "metadata": {},
     "output_type": "execute_result"
    }
   ],
   "source": [
    "df_merged"
   ]
  },
  {
   "cell_type": "code",
   "execution_count": null,
   "id": "3e71d3ec-3949-4c0c-bc90-ad91b743dc30",
   "metadata": {},
   "outputs": [],
   "source": []
  },
  {
   "cell_type": "code",
   "execution_count": null,
   "id": "16ec4f9a-e70b-494c-a05f-1d6e6023df08",
   "metadata": {},
   "outputs": [],
   "source": []
  }
 ],
 "metadata": {
  "kernelspec": {
   "display_name": "Python 3 (ipykernel)",
   "language": "python",
   "name": "python3"
  },
  "language_info": {
   "codemirror_mode": {
    "name": "ipython",
    "version": 3
   },
   "file_extension": ".py",
   "mimetype": "text/x-python",
   "name": "python",
   "nbconvert_exporter": "python",
   "pygments_lexer": "ipython3",
   "version": "3.12.7"
  }
 },
 "nbformat": 4,
 "nbformat_minor": 5
}
